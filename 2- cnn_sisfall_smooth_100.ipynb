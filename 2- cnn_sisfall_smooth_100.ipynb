{
  "nbformat": 4,
  "nbformat_minor": 0,
  "metadata": {
    "colab": {
      "name": "MainCode.ipynb",
      "provenance": [],
      "collapsed_sections": [
        "OVCMEjCUC0vw",
        "kWmbbM1M6HWm"
      ]
    },
    "kernelspec": {
      "display_name": "Python 3",
      "language": "python",
      "name": "python3"
    },
    "language_info": {
      "codemirror_mode": {
        "name": "ipython",
        "version": 3
      },
      "file_extension": ".py",
      "mimetype": "text/x-python",
      "name": "python",
      "nbconvert_exporter": "python",
      "pygments_lexer": "ipython3",
      "version": "3.7.4"
    }
  },
  "cells": [
    {
      "cell_type": "markdown",
      "metadata": {
        "id": "AN2OyWUtJ_uN"
      },
      "source": [
        "# Imports"
      ]
    },
    {
      "cell_type": "code",
      "metadata": {
        "id": "pFyYfrLmQklW",
        "outputId": "3ba8c839-7c82-434f-be5d-cfbcd2e959d1",
        "colab": {
          "base_uri": "https://localhost:8080/",
          "height": 35
        }
      },
      "source": [
        "# Compatibility layer between Python 2 and Python 3\n",
        "from __future__ import print_function\n",
        "from matplotlib import pyplot as plt\n",
        "import numpy as np\n",
        "import pandas as pd\n",
        "import seaborn as sns\n",
        "from scipy import stats\n",
        "import pickle\n",
        "import json\n",
        "import time\n",
        "\n",
        "from sklearn import metrics\n",
        "from sklearn.metrics import classification_report\n",
        "from sklearn import preprocessing\n",
        "from sklearn.model_selection import train_test_split\n",
        "\n",
        "import tensorflow as tf\n",
        "import keras\n",
        "from keras import backend as K\n",
        "from keras.models import Sequential\n",
        "from keras.layers import Dense, Dropout, Flatten, Reshape, GlobalAveragePooling1D, BatchNormalization,LSTM\n",
        "from keras.layers import Conv2D, MaxPooling2D, Conv1D, MaxPooling1D\n",
        "from keras.utils import np_utils\n",
        "from keras import backend as K\n",
        "print('keras version ', keras.__version__)\n",
        "\n",
        "from IPython.display import clear_output    "
      ],
      "execution_count": 32,
      "outputs": [
        {
          "output_type": "stream",
          "text": [
            "keras version  2.4.3\n"
          ],
          "name": "stdout"
        }
      ]
    },
    {
      "cell_type": "markdown",
      "metadata": {
        "id": "esinACmVKvlD"
      },
      "source": [
        "**Mount google drive**"
      ]
    },
    {
      "cell_type": "code",
      "metadata": {
        "id": "OKXUQWtvKsEv",
        "outputId": "81fbc80c-9a21-4501-bd74-4c1ed69a9ca8",
        "colab": {
          "base_uri": "https://localhost:8080/",
          "height": 35
        }
      },
      "source": [
        "from google.colab import drive\n",
        "drive.mount('/content/drive')\n",
        "clear_output(wait=True)\n",
        "print('finished')"
      ],
      "execution_count": 33,
      "outputs": [
        {
          "output_type": "stream",
          "text": [
            "finished\n"
          ],
          "name": "stdout"
        }
      ]
    },
    {
      "cell_type": "markdown",
      "metadata": {
        "id": "m_i44lWEJ6i7"
      },
      "source": [
        "# **SisFall Orginal**\n",
        "\n",
        "use this block for load orginal data set:"
      ]
    },
    {
      "cell_type": "code",
      "metadata": {
        "id": "_UeHpY30On1O",
        "outputId": "7fd4cdfb-2671-4edc-a7e2-f77fca1b9f2b",
        "colab": {
          "base_uri": "https://localhost:8080/",
          "height": 35
        }
      },
      "source": [
        "!mkdir -p dataset/sisfall\n",
        "!unzip /content/drive/My\\ Drive/FallDetection/xvalue_orginal.zip  -d ./dataset/sisfall/\n",
        "clear_output(wait=True)\n",
        "print('finished')"
      ],
      "execution_count": null,
      "outputs": [
        {
          "output_type": "stream",
          "text": [
            "finished\n"
          ],
          "name": "stdout"
        }
      ]
    },
    {
      "cell_type": "code",
      "metadata": {
        "id": "WFWoAc6Hk2uY"
      },
      "source": [
        "xvalue_path = '/content/dataset/sisfall/xvalue_orginal.npy' \n",
        "yvalue_path = '/content/dataset/sisfall/yvalue_orginal.csv'"
      ],
      "execution_count": null,
      "outputs": []
    },
    {
      "cell_type": "markdown",
      "metadata": {
        "id": "u7sn_B1WKL7b"
      },
      "source": [
        "# **SisFall Smoothed**\n",
        "\n",
        "use this block for load smoothed dataset:"
      ]
    },
    {
      "cell_type": "code",
      "metadata": {
        "id": "pReOnwtJQn-m",
        "outputId": "8377fe19-8e8b-412a-fbc8-6f4f7e11ec8f",
        "colab": {
          "base_uri": "https://localhost:8080/",
          "height": 35
        }
      },
      "source": [
        "!mkdir -p dataset/sisfall\n",
        "!wget https://www.dropbox.com/s/vvxd7whyn76oiua/xvalue.zip  -O ./dataset/sisfall/xvalue.zip \n",
        "!unzip ./dataset/sisfall/xvalue.zip   -d ./dataset/sisfall/\n",
        "!rm ./dataset/sisfall/xvalue.zip\n",
        "clear_output(wait=True)\n",
        "print('finished')"
      ],
      "execution_count": 34,
      "outputs": [
        {
          "output_type": "stream",
          "text": [
            "finished\n"
          ],
          "name": "stdout"
        }
      ]
    },
    {
      "cell_type": "code",
      "metadata": {
        "id": "PLilaqD4k8_H"
      },
      "source": [
        "xvalue_path = '/content/dataset/sisfall/xvalue.npy' \n",
        "yvalue_path = '/content/dataset/sisfall/yvalue.csv'"
      ],
      "execution_count": 35,
      "outputs": []
    },
    {
      "cell_type": "markdown",
      "metadata": {
        "id": "nFObAWarQklg"
      },
      "source": [
        "# Functions"
      ]
    },
    {
      "cell_type": "code",
      "metadata": {
        "id": "YptU0HFvFl1g"
      },
      "source": [
        "LABELS = [\"Bkg\",\"Alert\",\"Fall\"]"
      ],
      "execution_count": 36,
      "outputs": []
    },
    {
      "cell_type": "code",
      "metadata": {
        "id": "stiXc632p7KR"
      },
      "source": [
        "def show_confusion_matrix(validations, predictions,percent = 0):    \n",
        "    matrix = metrics.confusion_matrix(validations, predictions)\n",
        "    plt.figure(figsize=(6, 4))\n",
        "    if(percent == 1):\n",
        "        matrix = np.divide(matrix.transpose(),np.sum(matrix, axis=1)).transpose() * 100          \n",
        "        sns.heatmap(matrix,cmap=\"coolwarm\",linecolor='white',linewidths=1,\n",
        "                xticklabels=LABELS,yticklabels=LABELS,annot=True,fmt=\".2f\")    \n",
        "    else:\n",
        "        sns.heatmap(matrix,cmap=\"coolwarm\",linecolor='white',linewidths=1,\n",
        "                xticklabels=LABELS,yticklabels=LABELS,annot=True,fmt=\".2f\")    \n",
        "    plt.title(\"Confusion Matrix\")\n",
        "    plt.ylabel(\"True Label\")\n",
        "    plt.xlabel(\"Predicted Label\")\n",
        "    plt.show()\n",
        "\n",
        "def convert_to_float(x):\n",
        "    try:\n",
        "        return np.float(x)\n",
        "    except:\n",
        "        return np.nan"
      ],
      "execution_count": 37,
      "outputs": []
    },
    {
      "cell_type": "code",
      "metadata": {
        "id": "_Tb29BqyyLgV",
        "outputId": "2ed0b193-ff1d-4e29-dd62-179d864490c8",
        "colab": {
          "base_uri": "https://localhost:8080/",
          "height": 116
        }
      },
      "source": [
        "xvalue = np.load(xvalue_path)\n",
        "yvalue = pd.read_csv( yvalue_path)\n",
        "\n",
        "print(f'shape xvalue : {xvalue.shape}')\n",
        "print(f'shape yvalue : {yvalue.shape}')\n",
        "yvalue.head(1)"
      ],
      "execution_count": 38,
      "outputs": [
        {
          "output_type": "stream",
          "text": [
            "shape xvalue : (116988, 256, 9)\n",
            "shape yvalue : (116988, 3)\n"
          ],
          "name": "stdout"
        },
        {
          "output_type": "execute_result",
          "data": {
            "text/html": [
              "<div>\n",
              "<style scoped>\n",
              "    .dataframe tbody tr th:only-of-type {\n",
              "        vertical-align: middle;\n",
              "    }\n",
              "\n",
              "    .dataframe tbody tr th {\n",
              "        vertical-align: top;\n",
              "    }\n",
              "\n",
              "    .dataframe thead th {\n",
              "        text-align: right;\n",
              "    }\n",
              "</style>\n",
              "<table border=\"1\" class=\"dataframe\">\n",
              "  <thead>\n",
              "    <tr style=\"text-align: right;\">\n",
              "      <th></th>\n",
              "      <th>Target</th>\n",
              "      <th>subId</th>\n",
              "      <th>activiteId</th>\n",
              "    </tr>\n",
              "  </thead>\n",
              "  <tbody>\n",
              "    <tr>\n",
              "      <th>0</th>\n",
              "      <td>0</td>\n",
              "      <td>SA01</td>\n",
              "      <td>D01</td>\n",
              "    </tr>\n",
              "  </tbody>\n",
              "</table>\n",
              "</div>"
            ],
            "text/plain": [
              "   Target subId activiteId\n",
              "0       0  SA01        D01"
            ]
          },
          "metadata": {
            "tags": []
          },
          "execution_count": 38
        }
      ]
    },
    {
      "cell_type": "code",
      "metadata": {
        "id": "rE-7o9epQkmB"
      },
      "source": [
        "pd.options.display.float_format = '{:.1f}'.format\n",
        "sns.set()\n",
        "plt.style.use('ggplot') # 'Solarize_Light2', '_classic_test_patch', 'bmh', 'classic', 'dark_background', 'fast', 'fivethirtyeight', 'ggplot', 'grayscale', 'seaborn', 'seaborn-bright', 'seaborn-colorblind', 'seaborn-dark', 'seaborn-dark-palette', 'seaborn-darkgrid', 'seaborn-deep', 'seaborn-muted', 'seaborn-notebook', 'seaborn-paper', 'seaborn-pastel', 'seaborn-poster', 'seaborn-talk', 'seaborn-ticks', 'seaborn-white', 'seaborn-whitegrid', 'tableau-colorblind10'"
      ],
      "execution_count": 39,
      "outputs": []
    },
    {
      "cell_type": "code",
      "metadata": {
        "id": "wRzbED5cgLEc",
        "outputId": "a7b01047-5f4e-4deb-c9bb-3be078a7c92c",
        "colab": {
          "base_uri": "https://localhost:8080/",
          "height": 301
        }
      },
      "source": [
        "ax = yvalue['Target'].value_counts().plot(kind='bar',title='show target histogram')\n",
        "ax.set_xticks(range(0,3))\n",
        "ax.set_xticklabels(['Bkg','Fall','Alert'])\n",
        "plt.show()"
      ],
      "execution_count": 40,
      "outputs": [
        {
          "output_type": "display_data",
          "data": {
            "image/png": "[encoded data removed]",
            "text/plain": [
              "<Figure size 432x288 with 1 Axes>"
            ]
          },
          "metadata": {
            "tags": []
          }
        }
      ]
    },
    {
      "cell_type": "code",
      "metadata": {
        "id": "OjwzpCYJQkmJ",
        "outputId": "f4430913-fa4c-4e75-b046-e6d84b54ed80",
        "colab": {
          "base_uri": "https://localhost:8080/",
          "height": 297
        }
      },
      "source": [
        "ax = yvalue['activiteId'].value_counts().plot(kind='bar',title='show activite histogram')\n",
        "plt.show()"
      ],
      "execution_count": 41,
      "outputs": [
        {
          "output_type": "display_data",
          "data": {
            "image/png": "[encoded data removed]",
            "text/plain": [
              "<Figure size 432x288 with 1 Axes>"
            ]
          },
          "metadata": {
            "tags": []
          }
        }
      ]
    },
    {
      "cell_type": "code",
      "metadata": {
        "id": "h40q2HWhQkmN",
        "outputId": "c3e881a4-d84b-4d1b-91e8-8770a724275f",
        "colab": {
          "base_uri": "https://localhost:8080/",
          "height": 53
        }
      },
      "source": [
        "yvalue = yvalue['Target']\n",
        "yvalue.head(1)"
      ],
      "execution_count": 42,
      "outputs": [
        {
          "output_type": "execute_result",
          "data": {
            "text/plain": [
              "0    0\n",
              "Name: Target, dtype: int64"
            ]
          },
          "metadata": {
            "tags": []
          },
          "execution_count": 42
        }
      ]
    },
    {
      "cell_type": "code",
      "metadata": {
        "id": "ZMS51XMHQkmS",
        "outputId": "93630f70-1f5a-4067-9e02-87485d85b5d0",
        "colab": {
          "base_uri": "https://localhost:8080/",
          "height": 88
        }
      },
      "source": [
        "X_train, X_test, y_train, y_test = train_test_split(xvalue, yvalue, test_size = 0.20, random_state = 0)\n",
        "print(f'Shape of train feature is : {X_train.shape}')\n",
        "print(f'Shape of train target is : {y_train.shape}')\n",
        "print(f'Shape of test feature is : {X_test.shape}')\n",
        "print(f'Shape of test target is : {y_test.shape}')"
      ],
      "execution_count": 43,
      "outputs": [
        {
          "output_type": "stream",
          "text": [
            "Shape of train feature is : (93590, 256, 9)\n",
            "Shape of train target is : (93590,)\n",
            "Shape of test feature is : (23398, 256, 9)\n",
            "Shape of test target is : (23398,)\n"
          ],
          "name": "stdout"
        }
      ]
    },
    {
      "cell_type": "markdown",
      "metadata": {
        "id": "8QIl7mFRQkmY"
      },
      "source": [
        "## reshape"
      ]
    },
    {
      "cell_type": "code",
      "metadata": {
        "id": "tQn9qBAb2zj8",
        "outputId": "9bd6afb7-780a-4432-cb79-22cffb42ee26",
        "colab": {
          "base_uri": "https://localhost:8080/",
          "height": 71
        }
      },
      "source": [
        "# Set input & output dimensions\n",
        "num_time_periods, num_sensors = X_train.shape[1], X_train.shape[2]\n",
        "num_classes = len(LABELS)\n",
        "print('num_classes: ' + str(num_classes))\n",
        "print('num_sensors: '+  str(num_sensors))\n",
        "print('num_time_periods: ' + str(num_time_periods))"
      ],
      "execution_count": 44,
      "outputs": [
        {
          "output_type": "stream",
          "text": [
            "num_classes: 3\n",
            "num_sensors: 9\n",
            "num_time_periods: 256\n"
          ],
          "name": "stdout"
        }
      ]
    },
    {
      "cell_type": "markdown",
      "metadata": {
        "id": "QFfaD_6zCB-f"
      },
      "source": [
        "### **Run this block only for CNN :**"
      ]
    },
    {
      "cell_type": "code",
      "metadata": {
        "id": "r0vec9AHCjwP",
        "outputId": "02fb1b30-1735-465e-f70d-aec28a326697",
        "colab": {
          "base_uri": "https://localhost:8080/",
          "height": 53
        }
      },
      "source": [
        "## only use for cnn \n",
        "input_shape = (num_time_periods * num_sensors)\n",
        "X_train = X_train.reshape(X_train.shape[0], input_shape)\n",
        "X_test = X_test.reshape(X_test.shape[0], input_shape)\n",
        "print(X_train.shape)\n",
        "print(X_test.shape)"
      ],
      "execution_count": 45,
      "outputs": [
        {
          "output_type": "stream",
          "text": [
            "(93590, 2304)\n",
            "(23398, 2304)\n"
          ],
          "name": "stdout"
        }
      ]
    },
    {
      "cell_type": "markdown",
      "metadata": {
        "id": "mrvA2A_MQkmf"
      },
      "source": [
        "##  Convert type for Keras otherwise Keras cannot process the data"
      ]
    },
    {
      "cell_type": "code",
      "metadata": {
        "id": "lHcu6R13Upvy"
      },
      "source": [
        "X_train = X_train.astype(\"float32\")\n",
        "y_train = y_train.astype(\"float32\")\n",
        "X_test = X_test.astype(\"float32\")\n",
        "y_test = y_test.astype(\"float32\")"
      ],
      "execution_count": 46,
      "outputs": []
    },
    {
      "cell_type": "markdown",
      "metadata": {
        "id": "oxpCeDt-Qkmj"
      },
      "source": [
        "## Convert lable to one-hot"
      ]
    },
    {
      "cell_type": "code",
      "metadata": {
        "id": "1ZeWJjekUz4D",
        "outputId": "10c4ea9b-f15d-4354-be6c-e462d909714c",
        "colab": {
          "base_uri": "https://localhost:8080/",
          "height": 71
        }
      },
      "source": [
        "y_train = np_utils.to_categorical(y_train,num_classes)\n",
        "y_test = np_utils.to_categorical(y_test,num_classes)\n",
        "y_train[:3]"
      ],
      "execution_count": 47,
      "outputs": [
        {
          "output_type": "execute_result",
          "data": {
            "text/plain": [
              "array([[1., 0., 0.],\n",
              "       [1., 0., 0.],\n",
              "       [0., 0., 1.]], dtype=float32)"
            ]
          },
          "metadata": {
            "tags": []
          },
          "execution_count": 47
        }
      ]
    },
    {
      "cell_type": "markdown",
      "metadata": {
        "id": "Vl2ngbAq8Kcd"
      },
      "source": [
        "## **Define our metrics:**"
      ]
    },
    {
      "cell_type": "code",
      "metadata": {
        "id": "UyrPu6Qy8HvH"
      },
      "source": [
        "def recall(y_true, y_pred):    \n",
        "    true_positives = K.sum(K.round(K.clip(y_true * y_pred, 0, 1)))\n",
        "    possible_positives = K.sum(K.round(K.clip(y_true, 0, 1)))\n",
        "    recall = true_positives / (possible_positives + K.epsilon())\n",
        "    return recall   \n",
        "    \n",
        "def precision(y_true, y_pred):        \n",
        "    true_positives = K.sum(K.round(K.clip(y_true * y_pred, 0, 1)))\n",
        "    predicted_positives = K.sum(K.round(K.clip(y_pred, 0, 1)))\n",
        "    precision = true_positives / (predicted_positives + K.epsilon())\n",
        "    return precision\n",
        "\n",
        "def f_score(y_true, y_pred):\n",
        "    _precision = precision(y_true, y_pred)\n",
        "    _recall = recall(y_true, y_pred)\n",
        "    return 2*((_precision*_recall)/(_precision+_recall+K.epsilon()))\n",
        "\n",
        "def TP(y_true, y_pred):\n",
        "    tp = K.sum(K.round(K.clip(y_true * y_pred, 0, 1))) # TP\n",
        "    y_pos = K.round(K.clip(y_true, 0, 1))\n",
        "    n_pos = K.sum(y_pos)\n",
        "    y_neg = 1 - y_pos\n",
        "    n_neg = K.sum(y_neg)\n",
        "    n = n_pos + n_neg\n",
        "    return tp/n\n",
        "    \n",
        "def TP_bkg(y_true, y_pred):\n",
        "    return TP(y_true[0], y_pred[0])\n",
        "def TP_alert(y_true, y_pred):\n",
        "    return TP(y_true[1], y_pred[1])\n",
        "def TP_fall(y_true, y_pred):\n",
        "    return TP(y_true[2], y_pred[2])\n",
        "\n",
        "def TN(y_true, y_pred):\n",
        "    y_pos = K.round(K.clip(y_true, 0, 1))\n",
        "    n_pos = K.sum(y_pos)\n",
        "    y_neg = 1 - y_pos\n",
        "    n_neg = K.sum(y_neg)\n",
        "    n = n_pos + n_neg\n",
        "    y_pred_pos = K.round(K.clip(y_pred, 0, 1))\n",
        "    y_pred_neg = 1 - y_pred_pos\n",
        "    tn = K.sum(K.round(K.clip(y_neg * y_pred_neg, 0, 1))) # TN\n",
        "    return tn/n\n",
        "\n",
        "def TN_bkg(y_true, y_pred):\n",
        "    return TN(y_true[0], y_pred[0])\n",
        "def TN_alert(y_true, y_pred):\n",
        "    return TN(y_true[1], y_pred[1])\n",
        "def TN_fall(y_true, y_pred):\n",
        "    return TN(y_true[2], y_pred[2])\n",
        "  \n",
        "def FP(y_true, y_pred):\n",
        "    y_pos = K.round(K.clip(y_true, 0, 1))\n",
        "    n_pos = K.sum(y_pos)\n",
        "    y_neg = 1 - y_pos\n",
        "    n_neg = K.sum(y_neg)\n",
        "    n = n_pos + n_neg\n",
        "    tn = K.sum(K.round(K.clip(y_neg * y_pred, 0, 1))) # FP\n",
        "    return tn/n\n",
        "def FP_bkg(y_true, y_pred):\n",
        "    return FP(y_true[0], y_pred[0])\n",
        "def FP_alert(y_true, y_pred):\n",
        "    return FP(y_true[1], y_pred[1])\n",
        "def FP_fall(y_true, y_pred):\n",
        "    return FP(y_true[2], y_pred[2])\n",
        "\n",
        "def FN(y_true, y_pred):\n",
        "    y_pos = K.round(K.clip(y_true, 0, 1))\n",
        "    n_pos = K.sum(y_pos)\n",
        "    y_neg = 1 - y_pos\n",
        "    n_neg = K.sum(y_neg)\n",
        "    n = n_pos + n_neg\n",
        "    y_pred_pos = K.round(K.clip(y_pred, 0, 1))\n",
        "    y_pred_neg = 1 - y_pred_pos\n",
        "    tn = K.sum(K.round(K.clip(y_true * y_pred_neg, 0, 1))) # FN\n",
        "    return tn/n\n",
        "\n",
        "def FN_bkg(y_true, y_pred):\n",
        "    return FN(y_true[0], y_pred[0])\n",
        "\n",
        "def FN_alert(y_true, y_pred):\n",
        "    return FN(y_true[1], y_pred[1])\n",
        "    \n",
        "def FN_fall(y_true, y_pred):\n",
        "    return FN(y_true[2], y_pred[2])\n",
        "\n",
        "class_weight = {0: 1.,\n",
        "                1: sum(y_train[:,0]) / sum(y_train[:,1]),\n",
        "                2: sum(y_train[:,0]) / sum(y_train[:,2])}"
      ],
      "execution_count": 49,
      "outputs": []
    },
    {
      "cell_type": "code",
      "metadata": {
        "id": "9P71KPqdEgbG"
      },
      "source": [
        "_metrics = ['acc',\n",
        "         f_score,\n",
        "         TP_bkg,TN_bkg,FP_bkg,FN_bkg,\n",
        "         TP_alert,TN_alert,FP_alert,FN_alert,\n",
        "         TP_fall,TN_fall,FP_fall,FN_fall]"
      ],
      "execution_count": 50,
      "outputs": []
    },
    {
      "cell_type": "code",
      "metadata": {
        "id": "y7sAsTn1VDmc",
        "outputId": "7ec9e975-a2a3-4f59-845d-0418af7cd676",
        "colab": {
          "base_uri": "https://localhost:8080/",
          "height": 35
        }
      },
      "source": [
        "# normalize class weights\n",
        "s = class_weight[0] + class_weight[1] + class_weight[2]\n",
        "class_weight[0] /= s\n",
        "class_weight[1] /= s\n",
        "class_weight[2] /= s\n",
        "class_weight"
      ],
      "execution_count": 51,
      "outputs": [
        {
          "output_type": "execute_result",
          "data": {
            "text/plain": [
              "{0: 0.009089563595248441, 1: 0.7433530088532095, 2: 0.247557427551542}"
            ]
          },
          "metadata": {
            "tags": []
          },
          "execution_count": 51
        }
      ]
    },
    {
      "cell_type": "markdown",
      "metadata": {
        "id": "DaxyjW4MCtsT"
      },
      "source": [
        "# **CNN**\n"
      ]
    },
    {
      "cell_type": "markdown",
      "metadata": {
        "id": "cOYSX_ABQkmr"
      },
      "source": [
        "## Build our model"
      ]
    },
    {
      "cell_type": "code",
      "metadata": {
        "id": "qDs0mSoUVHjd",
        "outputId": "795ccfb6-e982-49e8-d7d4-b914bd904094",
        "colab": {
          "base_uri": "https://localhost:8080/",
          "height": 714
        }
      },
      "source": [
        "model_m = Sequential()\n",
        "model_m.add(Reshape((num_time_periods, num_sensors), input_shape=(input_shape,)))\n",
        "model_m.add(Conv1D(filters=64, kernel_size=3, activation='relu', input_shape=(num_time_periods, num_sensors)))\n",
        "model_m.add(BatchNormalization())\n",
        "model_m.add(MaxPooling1D(3))\n",
        "model_m.add(Conv1D(filters=64, kernel_size=3, activation='relu'))\n",
        "model_m.add(BatchNormalization())\n",
        "model_m.add(MaxPooling1D(3))\n",
        "model_m.add(Conv1D(filters=64, kernel_size=3, activation='relu'))\n",
        "model_m.add(BatchNormalization())\n",
        "model_m.add(MaxPooling1D(3))\n",
        "model_m.add(GlobalAveragePooling1D())\n",
        "model_m.add(Dropout(0.5))\n",
        "model_m.add(Dense(1920, activation='relu'))\n",
        "model_m.add(Dense(512, activation='relu'))\n",
        "model_m.add(Dense(num_classes, activation='softmax'))\n",
        "print(model_m.summary())"
      ],
      "execution_count": 52,
      "outputs": [
        {
          "output_type": "stream",
          "text": [
            "Model: \"sequential_1\"\n",
            "_________________________________________________________________\n",
            "Layer (type)                 Output Shape              Param #   \n",
            "=================================================================\n",
            "reshape_1 (Reshape)          (None, 256, 9)            0         \n",
            "_________________________________________________________________\n",
            "conv1d_3 (Conv1D)            (None, 254, 64)           1792      \n",
            "_________________________________________________________________\n",
            "batch_normalization_3 (Batch (None, 254, 64)           256       \n",
            "_________________________________________________________________\n",
            "max_pooling1d_3 (MaxPooling1 (None, 84, 64)            0         \n",
            "_________________________________________________________________\n",
            "conv1d_4 (Conv1D)            (None, 82, 64)            12352     \n",
            "_________________________________________________________________\n",
            "batch_normalization_4 (Batch (None, 82, 64)            256       \n",
            "_________________________________________________________________\n",
            "max_pooling1d_4 (MaxPooling1 (None, 27, 64)            0         \n",
            "_________________________________________________________________\n",
            "conv1d_5 (Conv1D)            (None, 25, 64)            12352     \n",
            "_________________________________________________________________\n",
            "batch_normalization_5 (Batch (None, 25, 64)            256       \n",
            "_________________________________________________________________\n",
            "max_pooling1d_5 (MaxPooling1 (None, 8, 64)             0         \n",
            "_________________________________________________________________\n",
            "global_average_pooling1d_1 ( (None, 64)                0         \n",
            "_________________________________________________________________\n",
            "dropout_1 (Dropout)          (None, 64)                0         \n",
            "_________________________________________________________________\n",
            "dense_3 (Dense)              (None, 1920)              124800    \n",
            "_________________________________________________________________\n",
            "dense_4 (Dense)              (None, 512)               983552    \n",
            "_________________________________________________________________\n",
            "dense_5 (Dense)              (None, 3)                 1539      \n",
            "=================================================================\n",
            "Total params: 1,137,155\n",
            "Trainable params: 1,136,771\n",
            "Non-trainable params: 384\n",
            "_________________________________________________________________\n",
            "None\n"
          ],
          "name": "stdout"
        }
      ]
    },
    {
      "cell_type": "markdown",
      "metadata": {
        "id": "k9ELwqlGQkmv"
      },
      "source": [
        "## Fit CNN the model"
      ]
    },
    {
      "cell_type": "code",
      "metadata": {
        "id": "45GRnLWSVn6U",
        "outputId": "e4b90cd4-0435-4942-a097-42f45aa851f6",
        "colab": {
          "base_uri": "https://localhost:8080/",
          "height": 1000
        }
      },
      "source": [
        "start_time = time.time()\n",
        "callbacks_list = [keras.callbacks.ModelCheckpoint(filepath='./drive/My Drive/FallDetection/CNN_Model.h5',\n",
        "                                                  monitor='val_loss',\n",
        "                                                  save_best_only=True)]\n",
        "                                                  #keras.callbacks.EarlyStopping(monitor='acc', patience=1)]\n",
        "\n",
        "\n",
        "# lr_schedule = keras.optimizers.schedules.ExponentialDecay(initial_learning_rate=1e-2,\n",
        "#                                                           decay_steps=10000,\n",
        "#                                                           decay_rate=0.9)\n",
        "\n",
        "optimizer = keras.optimizers.Adam(clipvalue=0.5)\n",
        "\n",
        "model_m.compile(loss='categorical_crossentropy',\n",
        "                optimizer=optimizer,\n",
        "                metrics = _metrics) #loss=weighted_categorical_crossentropy(weights)\n",
        "                \n",
        "BATCH_SIZE = 64\n",
        "EPOCHS = 100\n",
        "\n",
        "history = model_m.fit(X_train,\n",
        "                      y_train,\n",
        "                      batch_size=BATCH_SIZE,\n",
        "                      epochs=EPOCHS,\n",
        "                      callbacks=callbacks_list,\n",
        "                      validation_split=0.2,\n",
        "                      verbose=1,\n",
        "                      class_weight=class_weight) \n",
        "\n",
        "json.dump(history.history, open(\"./drive/My Drive/FallDetection/CNN_History.pkl\", \"w\"))\n",
        "print(\"--- %s seconds ---\" % (time.time() - start_time))"
      ],
      "execution_count": 53,
      "outputs": [
        {
          "output_type": "stream",
          "text": [
            "Epoch 1/100\n",
            "1170/1170 [==============================] - 97s 83ms/step - loss: 0.0181 - acc: 0.7789 - f_score: 0.7791 - TP_bkg: 0.2456 - TN_bkg: 0.6180 - FP_bkg: 0.0487 - FN_bkg: 0.0877 - TP_alert: 0.2464 - TN_alert: 0.6217 - FP_alert: 0.0450 - FN_alert: 0.0869 - TP_fall: 0.2510 - TN_fall: 0.6205 - FP_fall: 0.0462 - FN_fall: 0.0823 - val_loss: 0.3304 - val_acc: 0.8979 - val_f_score: 0.8981 - val_TP_bkg: 0.2799 - val_TN_bkg: 0.6394 - val_FP_bkg: 0.0273 - val_FN_bkg: 0.0535 - val_TP_alert: 0.2856 - val_TN_alert: 0.6451 - val_FP_alert: 0.0216 - val_FN_alert: 0.0478 - val_TP_fall: 0.2924 - val_TN_fall: 0.6439 - val_FP_fall: 0.0228 - val_FN_fall: 0.0410\n",
            "Epoch 2/100\n",
            "1170/1170 [==============================] - 96s 82ms/step - loss: 0.0136 - acc: 0.8472 - f_score: 0.8461 - TP_bkg: 0.2775 - TN_bkg: 0.6262 - FP_bkg: 0.0405 - FN_bkg: 0.0558 - TP_alert: 0.2769 - TN_alert: 0.6285 - FP_alert: 0.0382 - FN_alert: 0.0564 - TP_fall: 0.2766 - TN_fall: 0.6251 - FP_fall: 0.0416 - FN_fall: 0.0567 - val_loss: 0.4868 - val_acc: 0.8328 - val_f_score: 0.8057 - val_TP_bkg: 0.2435 - val_TN_bkg: 0.6132 - val_FP_bkg: 0.0535 - val_FN_bkg: 0.0899 - val_TP_alert: 0.2548 - val_TN_alert: 0.6121 - val_FP_alert: 0.0546 - val_FN_alert: 0.0785 - val_TP_fall: 0.2423 - val_TN_fall: 0.6177 - val_FP_fall: 0.0489 - val_FN_fall: 0.0910\n",
            "Epoch 3/100\n",
            "1170/1170 [==============================] - 95s 81ms/step - loss: 0.0121 - acc: 0.8593 - f_score: 0.8570 - TP_bkg: 0.2772 - TN_bkg: 0.6265 - FP_bkg: 0.0402 - FN_bkg: 0.0561 - TP_alert: 0.2792 - TN_alert: 0.6268 - FP_alert: 0.0399 - FN_alert: 0.0541 - TP_fall: 0.2863 - TN_fall: 0.6336 - FP_fall: 0.0330 - FN_fall: 0.0470 - val_loss: 0.3335 - val_acc: 0.8798 - val_f_score: 0.8784 - val_TP_bkg: 0.2810 - val_TN_bkg: 0.6394 - val_FP_bkg: 0.0273 - val_FN_bkg: 0.0523 - val_TP_alert: 0.2742 - val_TN_alert: 0.6337 - val_FP_alert: 0.0330 - val_FN_alert: 0.0592 - val_TP_fall: 0.2901 - val_TN_fall: 0.6394 - val_FP_fall: 0.0273 - val_FN_fall: 0.0432\n",
            "Epoch 4/100\n",
            "1170/1170 [==============================] - 95s 81ms/step - loss: 0.0110 - acc: 0.8609 - f_score: 0.8603 - TP_bkg: 0.2809 - TN_bkg: 0.6248 - FP_bkg: 0.0419 - FN_bkg: 0.0524 - TP_alert: 0.2798 - TN_alert: 0.6268 - FP_alert: 0.0399 - FN_alert: 0.0536 - TP_fall: 0.2883 - TN_fall: 0.6319 - FP_fall: 0.0348 - FN_fall: 0.0450 - val_loss: 0.4184 - val_acc: 0.8463 - val_f_score: 0.8446 - val_TP_bkg: 0.2776 - val_TN_bkg: 0.6303 - val_FP_bkg: 0.0364 - val_FN_bkg: 0.0557 - val_TP_alert: 0.2651 - val_TN_alert: 0.6143 - val_FP_alert: 0.0523 - val_FN_alert: 0.0683 - val_TP_fall: 0.2799 - val_TN_fall: 0.6291 - val_FP_fall: 0.0375 - val_FN_fall: 0.0535\n",
            "Epoch 5/100\n",
            "1170/1170 [==============================] - 95s 82ms/step - loss: 0.0098 - acc: 0.8839 - f_score: 0.8844 - TP_bkg: 0.2920 - TN_bkg: 0.6348 - FP_bkg: 0.0319 - FN_bkg: 0.0413 - TP_alert: 0.2903 - TN_alert: 0.6313 - FP_alert: 0.0353 - FN_alert: 0.0430 - TP_fall: 0.2883 - TN_fall: 0.6328 - FP_fall: 0.0339 - FN_fall: 0.0450 - val_loss: 0.2233 - val_acc: 0.9177 - val_f_score: 0.9200 - val_TP_bkg: 0.2992 - val_TN_bkg: 0.6451 - val_FP_bkg: 0.0216 - val_FN_bkg: 0.0341 - val_TP_alert: 0.3003 - val_TN_alert: 0.6405 - val_FP_alert: 0.0262 - val_FN_alert: 0.0330 - val_TP_fall: 0.3015 - val_TN_fall: 0.6416 - val_FP_fall: 0.0250 - val_FN_fall: 0.0319\n",
            "Epoch 6/100\n",
            "1170/1170 [==============================] - 94s 80ms/step - loss: 0.0094 - acc: 0.8785 - f_score: 0.8790 - TP_bkg: 0.2929 - TN_bkg: 0.6325 - FP_bkg: 0.0342 - FN_bkg: 0.0405 - TP_alert: 0.2883 - TN_alert: 0.6288 - FP_alert: 0.0379 - FN_alert: 0.0450 - TP_fall: 0.2917 - TN_fall: 0.6302 - FP_fall: 0.0365 - FN_fall: 0.0416 - val_loss: 0.4203 - val_acc: 0.8628 - val_f_score: 0.8632 - val_TP_bkg: 0.2776 - val_TN_bkg: 0.6177 - val_FP_bkg: 0.0489 - val_FN_bkg: 0.0557 - val_TP_alert: 0.2787 - val_TN_alert: 0.6177 - val_FP_alert: 0.0489 - val_FN_alert: 0.0546 - val_TP_fall: 0.2753 - val_TN_fall: 0.6166 - val_FP_fall: 0.0501 - val_FN_fall: 0.0580\n",
            "Epoch 7/100\n",
            "1170/1170 [==============================] - 94s 80ms/step - loss: 0.0091 - acc: 0.8796 - f_score: 0.8808 - TP_bkg: 0.2883 - TN_bkg: 0.6299 - FP_bkg: 0.0368 - FN_bkg: 0.0450 - TP_alert: 0.2906 - TN_alert: 0.6302 - FP_alert: 0.0365 - FN_alert: 0.0427 - TP_fall: 0.2934 - TN_fall: 0.6325 - FP_fall: 0.0342 - FN_fall: 0.0399 - val_loss: 0.3361 - val_acc: 0.8785 - val_f_score: 0.8799 - val_TP_bkg: 0.2856 - val_TN_bkg: 0.6291 - val_FP_bkg: 0.0375 - val_FN_bkg: 0.0478 - val_TP_alert: 0.2844 - val_TN_alert: 0.6223 - val_FP_alert: 0.0444 - val_FN_alert: 0.0489 - val_TP_fall: 0.2947 - val_TN_fall: 0.6348 - val_FP_fall: 0.0319 - val_FN_fall: 0.0387\n",
            "Epoch 8/100\n",
            "1170/1170 [==============================] - 95s 81ms/step - loss: 0.0082 - acc: 0.8938 - f_score: 0.8941 - TP_bkg: 0.2915 - TN_bkg: 0.6316 - FP_bkg: 0.0350 - FN_bkg: 0.0419 - TP_alert: 0.2997 - TN_alert: 0.6382 - FP_alert: 0.0285 - FN_alert: 0.0336 - TP_fall: 0.3006 - TN_fall: 0.6405 - FP_fall: 0.0262 - FN_fall: 0.0328 - val_loss: 0.2754 - val_acc: 0.9036 - val_f_score: 0.9028 - val_TP_bkg: 0.2867 - val_TN_bkg: 0.6405 - val_FP_bkg: 0.0262 - val_FN_bkg: 0.0466 - val_TP_alert: 0.2924 - val_TN_alert: 0.6314 - val_FP_alert: 0.0353 - val_FN_alert: 0.0410 - val_TP_fall: 0.2992 - val_TN_fall: 0.6428 - val_FP_fall: 0.0239 - val_FN_fall: 0.0341\n",
            "Epoch 9/100\n",
            "1170/1170 [==============================] - 95s 81ms/step - loss: 0.0085 - acc: 0.8827 - f_score: 0.8827 - TP_bkg: 0.2895 - TN_bkg: 0.6316 - FP_bkg: 0.0350 - FN_bkg: 0.0439 - TP_alert: 0.2909 - TN_alert: 0.6313 - FP_alert: 0.0353 - FN_alert: 0.0425 - TP_fall: 0.2937 - TN_fall: 0.6336 - FP_fall: 0.0330 - FN_fall: 0.0396 - val_loss: 0.7816 - val_acc: 0.6346 - val_f_score: 0.6291 - val_TP_bkg: 0.2002 - val_TN_bkg: 0.5609 - val_FP_bkg: 0.1058 - val_FN_bkg: 0.1331 - val_TP_alert: 0.2014 - val_TN_alert: 0.5529 - val_FP_alert: 0.1138 - val_FN_alert: 0.1320 - val_TP_fall: 0.1968 - val_TN_fall: 0.5506 - val_FP_fall: 0.1160 - val_FN_fall: 0.1365\n",
            "Epoch 10/100\n",
            "1170/1170 [==============================] - 95s 81ms/step - loss: 0.0077 - acc: 0.8868 - f_score: 0.8873 - TP_bkg: 0.2957 - TN_bkg: 0.6348 - FP_bkg: 0.0319 - FN_bkg: 0.0376 - TP_alert: 0.2926 - TN_alert: 0.6313 - FP_alert: 0.0353 - FN_alert: 0.0407 - TP_fall: 0.2909 - TN_fall: 0.6322 - FP_fall: 0.0345 - FN_fall: 0.0425 - val_loss: 0.3371 - val_acc: 0.8675 - val_f_score: 0.8680 - val_TP_bkg: 0.2856 - val_TN_bkg: 0.6291 - val_FP_bkg: 0.0375 - val_FN_bkg: 0.0478 - val_TP_alert: 0.2787 - val_TN_alert: 0.6223 - val_FP_alert: 0.0444 - val_FN_alert: 0.0546 - val_TP_fall: 0.2901 - val_TN_fall: 0.6314 - val_FP_fall: 0.0353 - val_FN_fall: 0.0432\n",
            "Epoch 11/100\n",
            "1170/1170 [==============================] - 95s 81ms/step - loss: 0.0075 - acc: 0.8922 - f_score: 0.8924 - TP_bkg: 0.2980 - TN_bkg: 0.6365 - FP_bkg: 0.0302 - FN_bkg: 0.0353 - TP_alert: 0.2954 - TN_alert: 0.6350 - FP_alert: 0.0316 - FN_alert: 0.0379 - TP_fall: 0.2949 - TN_fall: 0.6342 - FP_fall: 0.0325 - FN_fall: 0.0385 - val_loss: 0.2539 - val_acc: 0.9060 - val_f_score: 0.9062 - val_TP_bkg: 0.3003 - val_TN_bkg: 0.6360 - val_FP_bkg: 0.0307 - val_FN_bkg: 0.0330 - val_TP_alert: 0.2935 - val_TN_alert: 0.6314 - val_FP_alert: 0.0353 - val_FN_alert: 0.0398 - val_TP_fall: 0.3038 - val_TN_fall: 0.6382 - val_FP_fall: 0.0284 - val_FN_fall: 0.0296\n",
            "Epoch 12/100\n",
            "1170/1170 [==============================] - 96s 82ms/step - loss: 0.0073 - acc: 0.8908 - f_score: 0.8907 - TP_bkg: 0.2960 - TN_bkg: 0.6359 - FP_bkg: 0.0308 - FN_bkg: 0.0373 - TP_alert: 0.2946 - TN_alert: 0.6342 - FP_alert: 0.0325 - FN_alert: 0.0387 - TP_fall: 0.2934 - TN_fall: 0.6362 - FP_fall: 0.0305 - FN_fall: 0.0399 - val_loss: 0.3340 - val_acc: 0.8873 - val_f_score: 0.8876 - val_TP_bkg: 0.2867 - val_TN_bkg: 0.6360 - val_FP_bkg: 0.0307 - val_FN_bkg: 0.0466 - val_TP_alert: 0.2856 - val_TN_alert: 0.6257 - val_FP_alert: 0.0410 - val_FN_alert: 0.0478 - val_TP_fall: 0.2890 - val_TN_fall: 0.6348 - val_FP_fall: 0.0319 - val_FN_fall: 0.0444\n",
            "Epoch 13/100\n",
            "1170/1170 [==============================] - 95s 81ms/step - loss: 0.0073 - acc: 0.8966 - f_score: 0.8967 - TP_bkg: 0.2929 - TN_bkg: 0.6336 - FP_bkg: 0.0330 - FN_bkg: 0.0405 - TP_alert: 0.2960 - TN_alert: 0.6365 - FP_alert: 0.0302 - FN_alert: 0.0373 - TP_fall: 0.2974 - TN_fall: 0.6333 - FP_fall: 0.0333 - FN_fall: 0.0359 - val_loss: 0.6403 - val_acc: 0.7353 - val_f_score: 0.7278 - val_TP_bkg: 0.2253 - val_TN_bkg: 0.5802 - val_FP_bkg: 0.0865 - val_FN_bkg: 0.1081 - val_TP_alert: 0.2287 - val_TN_alert: 0.5734 - val_FP_alert: 0.0933 - val_FN_alert: 0.1047 - val_TP_fall: 0.2344 - val_TN_fall: 0.5882 - val_FP_fall: 0.0785 - val_FN_fall: 0.0990\n",
            "Epoch 14/100\n",
            "1170/1170 [==============================] - 96s 82ms/step - loss: 0.0068 - acc: 0.9038 - f_score: 0.9046 - TP_bkg: 0.2986 - TN_bkg: 0.6356 - FP_bkg: 0.0311 - FN_bkg: 0.0348 - TP_alert: 0.3051 - TN_alert: 0.6422 - FP_alert: 0.0245 - FN_alert: 0.0282 - TP_fall: 0.2980 - TN_fall: 0.6359 - FP_fall: 0.0308 - FN_fall: 0.0353 - val_loss: 0.2672 - val_acc: 0.9070 - val_f_score: 0.9068 - val_TP_bkg: 0.2969 - val_TN_bkg: 0.6348 - val_FP_bkg: 0.0319 - val_FN_bkg: 0.0364 - val_TP_alert: 0.2969 - val_TN_alert: 0.6314 - val_FP_alert: 0.0353 - val_FN_alert: 0.0364 - val_TP_fall: 0.3060 - val_TN_fall: 0.6428 - val_FP_fall: 0.0239 - val_FN_fall: 0.0273\n",
            "Epoch 15/100\n",
            "1170/1170 [==============================] - 96s 82ms/step - loss: 0.0066 - acc: 0.8999 - f_score: 0.9002 - TP_bkg: 0.2969 - TN_bkg: 0.6342 - FP_bkg: 0.0325 - FN_bkg: 0.0365 - TP_alert: 0.3011 - TN_alert: 0.6390 - FP_alert: 0.0276 - FN_alert: 0.0322 - TP_fall: 0.2986 - TN_fall: 0.6373 - FP_fall: 0.0293 - FN_fall: 0.0348 - val_loss: 0.2734 - val_acc: 0.9012 - val_f_score: 0.9017 - val_TP_bkg: 0.2981 - val_TN_bkg: 0.6371 - val_FP_bkg: 0.0296 - val_FN_bkg: 0.0353 - val_TP_alert: 0.2924 - val_TN_alert: 0.6314 - val_FP_alert: 0.0353 - val_FN_alert: 0.0410 - val_TP_fall: 0.3015 - val_TN_fall: 0.6394 - val_FP_fall: 0.0273 - val_FN_fall: 0.0319\n",
            "Epoch 16/100\n",
            "1170/1170 [==============================] - 94s 81ms/step - loss: 0.0070 - acc: 0.8928 - f_score: 0.8931 - TP_bkg: 0.2932 - TN_bkg: 0.6333 - FP_bkg: 0.0333 - FN_bkg: 0.0402 - TP_alert: 0.2940 - TN_alert: 0.6342 - FP_alert: 0.0325 - FN_alert: 0.0393 - TP_fall: 0.3011 - TN_fall: 0.6399 - FP_fall: 0.0268 - FN_fall: 0.0322 - val_loss: 0.2652 - val_acc: 0.8960 - val_f_score: 0.8967 - val_TP_bkg: 0.2992 - val_TN_bkg: 0.6360 - val_FP_bkg: 0.0307 - val_FN_bkg: 0.0341 - val_TP_alert: 0.2856 - val_TN_alert: 0.6223 - val_FP_alert: 0.0444 - val_FN_alert: 0.0478 - val_TP_fall: 0.3015 - val_TN_fall: 0.6360 - val_FP_fall: 0.0307 - val_FN_fall: 0.0319\n",
            "Epoch 17/100\n",
            "1170/1170 [==============================] - 95s 81ms/step - loss: 0.0062 - acc: 0.9087 - f_score: 0.9096 - TP_bkg: 0.3000 - TN_bkg: 0.6379 - FP_bkg: 0.0288 - FN_bkg: 0.0333 - TP_alert: 0.3000 - TN_alert: 0.6382 - FP_alert: 0.0285 - FN_alert: 0.0333 - TP_fall: 0.3037 - TN_fall: 0.6419 - FP_fall: 0.0248 - FN_fall: 0.0296 - val_loss: 0.2524 - val_acc: 0.9074 - val_f_score: 0.9079 - val_TP_bkg: 0.3060 - val_TN_bkg: 0.6394 - val_FP_bkg: 0.0273 - val_FN_bkg: 0.0273 - val_TP_alert: 0.2924 - val_TN_alert: 0.6280 - val_FP_alert: 0.0387 - val_FN_alert: 0.0410 - val_TP_fall: 0.3049 - val_TN_fall: 0.6405 - val_FP_fall: 0.0262 - val_FN_fall: 0.0284\n",
            "Epoch 18/100\n",
            "1170/1170 [==============================] - 96s 82ms/step - loss: 0.0066 - acc: 0.8942 - f_score: 0.8950 - TP_bkg: 0.2906 - TN_bkg: 0.6299 - FP_bkg: 0.0368 - FN_bkg: 0.0427 - TP_alert: 0.2966 - TN_alert: 0.6356 - FP_alert: 0.0311 - FN_alert: 0.0368 - TP_fall: 0.2997 - TN_fall: 0.6362 - FP_fall: 0.0305 - FN_fall: 0.0336 - val_loss: 0.2864 - val_acc: 0.9003 - val_f_score: 0.9005 - val_TP_bkg: 0.2981 - val_TN_bkg: 0.6382 - val_FP_bkg: 0.0284 - val_FN_bkg: 0.0353 - val_TP_alert: 0.2878 - val_TN_alert: 0.6268 - val_FP_alert: 0.0398 - val_FN_alert: 0.0455 - val_TP_fall: 0.3015 - val_TN_fall: 0.6371 - val_FP_fall: 0.0296 - val_FN_fall: 0.0319\n",
            "Epoch 19/100\n",
            "1170/1170 [==============================] - 95s 81ms/step - loss: 0.0062 - acc: 0.9058 - f_score: 0.9065 - TP_bkg: 0.2977 - TN_bkg: 0.6370 - FP_bkg: 0.0296 - FN_bkg: 0.0356 - TP_alert: 0.2957 - TN_alert: 0.6345 - FP_alert: 0.0322 - FN_alert: 0.0376 - TP_fall: 0.3006 - TN_fall: 0.6373 - FP_fall: 0.0293 - FN_fall: 0.0328 - val_loss: 0.2676 - val_acc: 0.8982 - val_f_score: 0.8974 - val_TP_bkg: 0.2901 - val_TN_bkg: 0.6280 - val_FP_bkg: 0.0387 - val_FN_bkg: 0.0432 - val_TP_alert: 0.2992 - val_TN_alert: 0.6405 - val_FP_alert: 0.0262 - val_FN_alert: 0.0341 - val_TP_fall: 0.2981 - val_TN_fall: 0.6394 - val_FP_fall: 0.0273 - val_FN_fall: 0.0353\n",
            "Epoch 20/100\n",
            "1170/1170 [==============================] - 96s 82ms/step - loss: 0.0061 - acc: 0.9109 - f_score: 0.9116 - TP_bkg: 0.3051 - TN_bkg: 0.6425 - FP_bkg: 0.0242 - FN_bkg: 0.0282 - TP_alert: 0.3026 - TN_alert: 0.6387 - FP_alert: 0.0279 - FN_alert: 0.0308 - TP_fall: 0.3006 - TN_fall: 0.6382 - FP_fall: 0.0285 - FN_fall: 0.0328 - val_loss: 0.2871 - val_acc: 0.8987 - val_f_score: 0.8981 - val_TP_bkg: 0.2901 - val_TN_bkg: 0.6314 - val_FP_bkg: 0.0353 - val_FN_bkg: 0.0432 - val_TP_alert: 0.2901 - val_TN_alert: 0.6314 - val_FP_alert: 0.0353 - val_FN_alert: 0.0432 - val_TP_fall: 0.2981 - val_TN_fall: 0.6360 - val_FP_fall: 0.0307 - val_FN_fall: 0.0353\n",
            "Epoch 21/100\n",
            "1170/1170 [==============================] - 96s 82ms/step - loss: 0.0066 - acc: 0.8966 - f_score: 0.8970 - TP_bkg: 0.2952 - TN_bkg: 0.6350 - FP_bkg: 0.0316 - FN_bkg: 0.0382 - TP_alert: 0.2966 - TN_alert: 0.6342 - FP_alert: 0.0325 - FN_alert: 0.0368 - TP_fall: 0.3017 - TN_fall: 0.6402 - FP_fall: 0.0265 - FN_fall: 0.0316 - val_loss: 0.2522 - val_acc: 0.9030 - val_f_score: 0.9028 - val_TP_bkg: 0.3015 - val_TN_bkg: 0.6371 - val_FP_bkg: 0.0296 - val_FN_bkg: 0.0319 - val_TP_alert: 0.2901 - val_TN_alert: 0.6268 - val_FP_alert: 0.0398 - val_FN_alert: 0.0432 - val_TP_fall: 0.2992 - val_TN_fall: 0.6337 - val_FP_fall: 0.0330 - val_FN_fall: 0.0341\n",
            "Epoch 22/100\n",
            "1170/1170 [==============================] - 95s 81ms/step - loss: 0.0059 - acc: 0.9003 - f_score: 0.9006 - TP_bkg: 0.2974 - TN_bkg: 0.6348 - FP_bkg: 0.0319 - FN_bkg: 0.0359 - TP_alert: 0.2991 - TN_alert: 0.6365 - FP_alert: 0.0302 - FN_alert: 0.0342 - TP_fall: 0.2983 - TN_fall: 0.6353 - FP_fall: 0.0313 - FN_fall: 0.0350 - val_loss: 0.4427 - val_acc: 0.8184 - val_f_score: 0.8151 - val_TP_bkg: 0.2605 - val_TN_bkg: 0.6155 - val_FP_bkg: 0.0512 - val_FN_bkg: 0.0728 - val_TP_alert: 0.2605 - val_TN_alert: 0.6030 - val_FP_alert: 0.0637 - val_FN_alert: 0.0728 - val_TP_fall: 0.2651 - val_TN_fall: 0.6166 - val_FP_fall: 0.0501 - val_FN_fall: 0.0683\n",
            "Epoch 23/100\n",
            "1170/1170 [==============================] - 96s 82ms/step - loss: 0.0058 - acc: 0.9064 - f_score: 0.9069 - TP_bkg: 0.3003 - TN_bkg: 0.6370 - FP_bkg: 0.0296 - FN_bkg: 0.0330 - TP_alert: 0.3017 - TN_alert: 0.6413 - FP_alert: 0.0254 - FN_alert: 0.0316 - TP_fall: 0.2989 - TN_fall: 0.6365 - FP_fall: 0.0302 - FN_fall: 0.0345 - val_loss: 0.2723 - val_acc: 0.9104 - val_f_score: 0.9104 - val_TP_bkg: 0.3015 - val_TN_bkg: 0.6371 - val_FP_bkg: 0.0296 - val_FN_bkg: 0.0319 - val_TP_alert: 0.2935 - val_TN_alert: 0.6280 - val_FP_alert: 0.0387 - val_FN_alert: 0.0398 - val_TP_fall: 0.3026 - val_TN_fall: 0.6405 - val_FP_fall: 0.0262 - val_FN_fall: 0.0307\n",
            "Epoch 24/100\n",
            "1170/1170 [==============================] - 96s 82ms/step - loss: 0.0061 - acc: 0.9054 - f_score: 0.9054 - TP_bkg: 0.2989 - TN_bkg: 0.6359 - FP_bkg: 0.0308 - FN_bkg: 0.0345 - TP_alert: 0.2974 - TN_alert: 0.6356 - FP_alert: 0.0311 - FN_alert: 0.0359 - TP_fall: 0.2991 - TN_fall: 0.6396 - FP_fall: 0.0271 - FN_fall: 0.0342 - val_loss: 0.2746 - val_acc: 0.8980 - val_f_score: 0.8974 - val_TP_bkg: 0.3026 - val_TN_bkg: 0.6371 - val_FP_bkg: 0.0296 - val_FN_bkg: 0.0307 - val_TP_alert: 0.2890 - val_TN_alert: 0.6268 - val_FP_alert: 0.0398 - val_FN_alert: 0.0444 - val_TP_fall: 0.2981 - val_TN_fall: 0.6348 - val_FP_fall: 0.0319 - val_FN_fall: 0.0353\n",
            "Epoch 25/100\n",
            "1170/1170 [==============================] - 95s 81ms/step - loss: 0.0054 - acc: 0.9087 - f_score: 0.9089 - TP_bkg: 0.2989 - TN_bkg: 0.6385 - FP_bkg: 0.0282 - FN_bkg: 0.0345 - TP_alert: 0.2952 - TN_alert: 0.6331 - FP_alert: 0.0336 - FN_alert: 0.0382 - TP_fall: 0.3080 - TN_fall: 0.6442 - FP_fall: 0.0225 - FN_fall: 0.0254 - val_loss: 0.2745 - val_acc: 0.9031 - val_f_score: 0.9021 - val_TP_bkg: 0.2958 - val_TN_bkg: 0.6348 - val_FP_bkg: 0.0319 - val_FN_bkg: 0.0375 - val_TP_alert: 0.2935 - val_TN_alert: 0.6314 - val_FP_alert: 0.0353 - val_FN_alert: 0.0398 - val_TP_fall: 0.3026 - val_TN_fall: 0.6382 - val_FP_fall: 0.0284 - val_FN_fall: 0.0307\n",
            "Epoch 26/100\n",
            "1170/1170 [==============================] - 95s 81ms/step - loss: 0.0055 - acc: 0.9079 - f_score: 0.9080 - TP_bkg: 0.3014 - TN_bkg: 0.6376 - FP_bkg: 0.0291 - FN_bkg: 0.0319 - TP_alert: 0.3017 - TN_alert: 0.6379 - FP_alert: 0.0288 - FN_alert: 0.0316 - TP_fall: 0.2977 - TN_fall: 0.6353 - FP_fall: 0.0313 - FN_fall: 0.0356 - val_loss: 0.2961 - val_acc: 0.8926 - val_f_score: 0.8926 - val_TP_bkg: 0.2924 - val_TN_bkg: 0.6337 - val_FP_bkg: 0.0330 - val_FN_bkg: 0.0410 - val_TP_alert: 0.2890 - val_TN_alert: 0.6291 - val_FP_alert: 0.0375 - val_FN_alert: 0.0444 - val_TP_fall: 0.2969 - val_TN_fall: 0.6337 - val_FP_fall: 0.0330 - val_FN_fall: 0.0364\n",
            "Epoch 27/100\n",
            "1170/1170 [==============================] - 95s 81ms/step - loss: 0.0061 - acc: 0.8987 - f_score: 0.8991 - TP_bkg: 0.2977 - TN_bkg: 0.6345 - FP_bkg: 0.0322 - FN_bkg: 0.0356 - TP_alert: 0.3009 - TN_alert: 0.6385 - FP_alert: 0.0282 - FN_alert: 0.0325 - TP_fall: 0.2960 - TN_fall: 0.6339 - FP_fall: 0.0328 - FN_fall: 0.0373 - val_loss: 0.2829 - val_acc: 0.8940 - val_f_score: 0.8942 - val_TP_bkg: 0.2969 - val_TN_bkg: 0.6382 - val_FP_bkg: 0.0284 - val_FN_bkg: 0.0364 - val_TP_alert: 0.2958 - val_TN_alert: 0.6337 - val_FP_alert: 0.0330 - val_FN_alert: 0.0375 - val_TP_fall: 0.2981 - val_TN_fall: 0.6360 - val_FP_fall: 0.0307 - val_FN_fall: 0.0353\n",
            "Epoch 28/100\n",
            "1170/1170 [==============================] - 95s 81ms/step - loss: 0.0055 - acc: 0.9044 - f_score: 0.9047 - TP_bkg: 0.3023 - TN_bkg: 0.6402 - FP_bkg: 0.0265 - FN_bkg: 0.0311 - TP_alert: 0.2977 - TN_alert: 0.6339 - FP_alert: 0.0328 - FN_alert: 0.0356 - TP_fall: 0.2966 - TN_fall: 0.6350 - FP_fall: 0.0316 - FN_fall: 0.0368 - val_loss: 0.3264 - val_acc: 0.8779 - val_f_score: 0.8790 - val_TP_bkg: 0.2958 - val_TN_bkg: 0.6337 - val_FP_bkg: 0.0330 - val_FN_bkg: 0.0375 - val_TP_alert: 0.2844 - val_TN_alert: 0.6234 - val_FP_alert: 0.0432 - val_FN_alert: 0.0489 - val_TP_fall: 0.2890 - val_TN_fall: 0.6303 - val_FP_fall: 0.0364 - val_FN_fall: 0.0444\n",
            "Epoch 29/100\n",
            "1170/1170 [==============================] - 93s 79ms/step - loss: 0.0054 - acc: 0.9075 - f_score: 0.9073 - TP_bkg: 0.2991 - TN_bkg: 0.6359 - FP_bkg: 0.0308 - FN_bkg: 0.0342 - TP_alert: 0.2991 - TN_alert: 0.6373 - FP_alert: 0.0293 - FN_alert: 0.0342 - TP_fall: 0.3037 - TN_fall: 0.6425 - FP_fall: 0.0242 - FN_fall: 0.0296 - val_loss: 0.2361 - val_acc: 0.9118 - val_f_score: 0.9120 - val_TP_bkg: 0.3015 - val_TN_bkg: 0.6382 - val_FP_bkg: 0.0284 - val_FN_bkg: 0.0319 - val_TP_alert: 0.3003 - val_TN_alert: 0.6382 - val_FP_alert: 0.0284 - val_FN_alert: 0.0330 - val_TP_fall: 0.3026 - val_TN_fall: 0.6371 - val_FP_fall: 0.0296 - val_FN_fall: 0.0307\n",
            "Epoch 30/100\n",
            "1170/1170 [==============================] - 93s 80ms/step - loss: 0.0053 - acc: 0.9141 - f_score: 0.9141 - TP_bkg: 0.3083 - TN_bkg: 0.6444 - FP_bkg: 0.0222 - FN_bkg: 0.0251 - TP_alert: 0.3066 - TN_alert: 0.6430 - FP_alert: 0.0236 - FN_alert: 0.0268 - TP_fall: 0.2986 - TN_fall: 0.6348 - FP_fall: 0.0319 - FN_fall: 0.0348 - val_loss: 0.2764 - val_acc: 0.8937 - val_f_score: 0.8929 - val_TP_bkg: 0.2981 - val_TN_bkg: 0.6325 - val_FP_bkg: 0.0341 - val_FN_bkg: 0.0353 - val_TP_alert: 0.2890 - val_TN_alert: 0.6246 - val_FP_alert: 0.0421 - val_FN_alert: 0.0444 - val_TP_fall: 0.3003 - val_TN_fall: 0.6360 - val_FP_fall: 0.0307 - val_FN_fall: 0.0330\n",
            "Epoch 31/100\n",
            "1170/1170 [==============================] - 94s 80ms/step - loss: 0.0053 - acc: 0.9149 - f_score: 0.9150 - TP_bkg: 0.3040 - TN_bkg: 0.6410 - FP_bkg: 0.0256 - FN_bkg: 0.0293 - TP_alert: 0.3051 - TN_alert: 0.6422 - FP_alert: 0.0245 - FN_alert: 0.0282 - TP_fall: 0.3006 - TN_fall: 0.6382 - FP_fall: 0.0285 - FN_fall: 0.0328 - val_loss: 0.3761 - val_acc: 0.8278 - val_f_score: 0.8262 - val_TP_bkg: 0.2651 - val_TN_bkg: 0.6109 - val_FP_bkg: 0.0557 - val_FN_bkg: 0.0683 - val_TP_alert: 0.2628 - val_TN_alert: 0.6052 - val_FP_alert: 0.0614 - val_FN_alert: 0.0705 - val_TP_fall: 0.2719 - val_TN_fall: 0.6155 - val_FP_fall: 0.0512 - val_FN_fall: 0.0614\n",
            "Epoch 32/100\n",
            "1170/1170 [==============================] - 94s 80ms/step - loss: 0.0062 - acc: 0.8970 - f_score: 0.8972 - TP_bkg: 0.2989 - TN_bkg: 0.6359 - FP_bkg: 0.0308 - FN_bkg: 0.0345 - TP_alert: 0.2966 - TN_alert: 0.6333 - FP_alert: 0.0333 - FN_alert: 0.0368 - TP_fall: 0.3011 - TN_fall: 0.6379 - FP_fall: 0.0288 - FN_fall: 0.0322 - val_loss: 0.2228 - val_acc: 0.9152 - val_f_score: 0.9146 - val_TP_bkg: 0.3049 - val_TN_bkg: 0.6462 - val_FP_bkg: 0.0205 - val_FN_bkg: 0.0284 - val_TP_alert: 0.3003 - val_TN_alert: 0.6394 - val_FP_alert: 0.0273 - val_FN_alert: 0.0330 - val_TP_fall: 0.3060 - val_TN_fall: 0.6416 - val_FP_fall: 0.0250 - val_FN_fall: 0.0273\n",
            "Epoch 33/100\n",
            "1170/1170 [==============================] - 94s 80ms/step - loss: 0.0051 - acc: 0.9143 - f_score: 0.9144 - TP_bkg: 0.3017 - TN_bkg: 0.6390 - FP_bkg: 0.0276 - FN_bkg: 0.0316 - TP_alert: 0.3014 - TN_alert: 0.6396 - FP_alert: 0.0271 - FN_alert: 0.0319 - TP_fall: 0.3017 - TN_fall: 0.6373 - FP_fall: 0.0293 - FN_fall: 0.0316 - val_loss: 0.2809 - val_acc: 0.8851 - val_f_score: 0.8832 - val_TP_bkg: 0.2867 - val_TN_bkg: 0.6246 - val_FP_bkg: 0.0421 - val_FN_bkg: 0.0466 - val_TP_alert: 0.2935 - val_TN_alert: 0.6314 - val_FP_alert: 0.0353 - val_FN_alert: 0.0398 - val_TP_fall: 0.2912 - val_TN_fall: 0.6280 - val_FP_fall: 0.0387 - val_FN_fall: 0.0421\n",
            "Epoch 34/100\n",
            "1170/1170 [==============================] - 93s 80ms/step - loss: 0.0048 - acc: 0.9177 - f_score: 0.9178 - TP_bkg: 0.3031 - TN_bkg: 0.6396 - FP_bkg: 0.0271 - FN_bkg: 0.0302 - TP_alert: 0.3057 - TN_alert: 0.6422 - FP_alert: 0.0245 - FN_alert: 0.0276 - TP_fall: 0.3120 - TN_fall: 0.6470 - FP_fall: 0.0197 - FN_fall: 0.0214 - val_loss: 0.2728 - val_acc: 0.8997 - val_f_score: 0.9005 - val_TP_bkg: 0.3015 - val_TN_bkg: 0.6382 - val_FP_bkg: 0.0284 - val_FN_bkg: 0.0319 - val_TP_alert: 0.2890 - val_TN_alert: 0.6257 - val_FP_alert: 0.0410 - val_FN_alert: 0.0444 - val_TP_fall: 0.3015 - val_TN_fall: 0.6382 - val_FP_fall: 0.0284 - val_FN_fall: 0.0319\n",
            "Epoch 35/100\n",
            "1170/1170 [==============================] - 93s 79ms/step - loss: 0.0048 - acc: 0.9142 - f_score: 0.9145 - TP_bkg: 0.3011 - TN_bkg: 0.6393 - FP_bkg: 0.0274 - FN_bkg: 0.0322 - TP_alert: 0.3020 - TN_alert: 0.6393 - FP_alert: 0.0274 - FN_alert: 0.0313 - TP_fall: 0.3048 - TN_fall: 0.6416 - FP_fall: 0.0251 - FN_fall: 0.0285 - val_loss: 0.2736 - val_acc: 0.9078 - val_f_score: 0.9074 - val_TP_bkg: 0.3049 - val_TN_bkg: 0.6405 - val_FP_bkg: 0.0262 - val_FN_bkg: 0.0284 - val_TP_alert: 0.2935 - val_TN_alert: 0.6280 - val_FP_alert: 0.0387 - val_FN_alert: 0.0398 - val_TP_fall: 0.3060 - val_TN_fall: 0.6405 - val_FP_fall: 0.0262 - val_FN_fall: 0.0273\n",
            "Epoch 36/100\n",
            "1170/1170 [==============================] - 92s 79ms/step - loss: 0.0052 - acc: 0.9112 - f_score: 0.9110 - TP_bkg: 0.3037 - TN_bkg: 0.6402 - FP_bkg: 0.0265 - FN_bkg: 0.0296 - TP_alert: 0.2977 - TN_alert: 0.6373 - FP_alert: 0.0293 - FN_alert: 0.0356 - TP_fall: 0.3011 - TN_fall: 0.6385 - FP_fall: 0.0282 - FN_fall: 0.0322 - val_loss: 0.4326 - val_acc: 0.8590 - val_f_score: 0.8574 - val_TP_bkg: 0.2935 - val_TN_bkg: 0.6303 - val_FP_bkg: 0.0364 - val_FN_bkg: 0.0398 - val_TP_alert: 0.2776 - val_TN_alert: 0.6155 - val_FP_alert: 0.0512 - val_FN_alert: 0.0557 - val_TP_fall: 0.2787 - val_TN_fall: 0.6166 - val_FP_fall: 0.0501 - val_FN_fall: 0.0546\n",
            "Epoch 37/100\n",
            "1170/1170 [==============================] - 92s 79ms/step - loss: 0.0048 - acc: 0.9205 - f_score: 0.9204 - TP_bkg: 0.3048 - TN_bkg: 0.6422 - FP_bkg: 0.0245 - FN_bkg: 0.0285 - TP_alert: 0.3031 - TN_alert: 0.6410 - FP_alert: 0.0256 - FN_alert: 0.0302 - TP_fall: 0.3040 - TN_fall: 0.6396 - FP_fall: 0.0271 - FN_fall: 0.0293 - val_loss: 0.2995 - val_acc: 0.8994 - val_f_score: 0.8986 - val_TP_bkg: 0.2992 - val_TN_bkg: 0.6360 - val_FP_bkg: 0.0307 - val_FN_bkg: 0.0341 - val_TP_alert: 0.2912 - val_TN_alert: 0.6280 - val_FP_alert: 0.0387 - val_FN_alert: 0.0421 - val_TP_fall: 0.2981 - val_TN_fall: 0.6371 - val_FP_fall: 0.0296 - val_FN_fall: 0.0353\n",
            "Epoch 38/100\n",
            "1170/1170 [==============================] - 93s 80ms/step - loss: 0.0054 - acc: 0.9050 - f_score: 0.9046 - TP_bkg: 0.2946 - TN_bkg: 0.6322 - FP_bkg: 0.0345 - FN_bkg: 0.0387 - TP_alert: 0.3003 - TN_alert: 0.6396 - FP_alert: 0.0271 - FN_alert: 0.0330 - TP_fall: 0.3011 - TN_fall: 0.6393 - FP_fall: 0.0274 - FN_fall: 0.0322 - val_loss: 0.3218 - val_acc: 0.8886 - val_f_score: 0.8874 - val_TP_bkg: 0.2947 - val_TN_bkg: 0.6314 - val_FP_bkg: 0.0353 - val_FN_bkg: 0.0387 - val_TP_alert: 0.2924 - val_TN_alert: 0.6325 - val_FP_alert: 0.0341 - val_FN_alert: 0.0410 - val_TP_fall: 0.2958 - val_TN_fall: 0.6314 - val_FP_fall: 0.0353 - val_FN_fall: 0.0375\n",
            "Epoch 39/100\n",
            "1170/1170 [==============================] - 93s 79ms/step - loss: 0.0048 - acc: 0.9140 - f_score: 0.9136 - TP_bkg: 0.3043 - TN_bkg: 0.6410 - FP_bkg: 0.0256 - FN_bkg: 0.0291 - TP_alert: 0.3060 - TN_alert: 0.6430 - FP_alert: 0.0236 - FN_alert: 0.0274 - TP_fall: 0.3009 - TN_fall: 0.6370 - FP_fall: 0.0296 - FN_fall: 0.0325 - val_loss: 0.2709 - val_acc: 0.8993 - val_f_score: 0.8994 - val_TP_bkg: 0.3015 - val_TN_bkg: 0.6439 - val_FP_bkg: 0.0228 - val_FN_bkg: 0.0319 - val_TP_alert: 0.2867 - val_TN_alert: 0.6246 - val_FP_alert: 0.0421 - val_FN_alert: 0.0466 - val_TP_fall: 0.2992 - val_TN_fall: 0.6360 - val_FP_fall: 0.0307 - val_FN_fall: 0.0341\n",
            "Epoch 40/100\n",
            "1170/1170 [==============================] - 92s 79ms/step - loss: 0.0051 - acc: 0.9139 - f_score: 0.9139 - TP_bkg: 0.3000 - TN_bkg: 0.6370 - FP_bkg: 0.0296 - FN_bkg: 0.0333 - TP_alert: 0.2989 - TN_alert: 0.6368 - FP_alert: 0.0299 - FN_alert: 0.0345 - TP_fall: 0.3051 - TN_fall: 0.6410 - FP_fall: 0.0256 - FN_fall: 0.0282 - val_loss: 0.3553 - val_acc: 0.8750 - val_f_score: 0.8748 - val_TP_bkg: 0.2878 - val_TN_bkg: 0.6280 - val_FP_bkg: 0.0387 - val_FN_bkg: 0.0455 - val_TP_alert: 0.2810 - val_TN_alert: 0.6177 - val_FP_alert: 0.0489 - val_FN_alert: 0.0523 - val_TP_fall: 0.2947 - val_TN_fall: 0.6314 - val_FP_fall: 0.0353 - val_FN_fall: 0.0387\n",
            "Epoch 41/100\n",
            "1170/1170 [==============================] - 93s 80ms/step - loss: 0.0045 - acc: 0.9179 - f_score: 0.9181 - TP_bkg: 0.3034 - TN_bkg: 0.6410 - FP_bkg: 0.0256 - FN_bkg: 0.0299 - TP_alert: 0.3014 - TN_alert: 0.6385 - FP_alert: 0.0282 - FN_alert: 0.0319 - TP_fall: 0.3071 - TN_fall: 0.6436 - FP_fall: 0.0231 - FN_fall: 0.0262 - val_loss: 0.2950 - val_acc: 0.8815 - val_f_score: 0.8807 - val_TP_bkg: 0.2924 - val_TN_bkg: 0.6360 - val_FP_bkg: 0.0307 - val_FN_bkg: 0.0410 - val_TP_alert: 0.2833 - val_TN_alert: 0.6234 - val_FP_alert: 0.0432 - val_FN_alert: 0.0501 - val_TP_fall: 0.2901 - val_TN_fall: 0.6325 - val_FP_fall: 0.0341 - val_FN_fall: 0.0432\n",
            "Epoch 42/100\n",
            "1170/1170 [==============================] - 92s 79ms/step - loss: 0.0047 - acc: 0.9216 - f_score: 0.9215 - TP_bkg: 0.3085 - TN_bkg: 0.6453 - FP_bkg: 0.0214 - FN_bkg: 0.0248 - TP_alert: 0.3083 - TN_alert: 0.6447 - FP_alert: 0.0219 - FN_alert: 0.0251 - TP_fall: 0.3063 - TN_fall: 0.6419 - FP_fall: 0.0248 - FN_fall: 0.0271 - val_loss: 0.2803 - val_acc: 0.8997 - val_f_score: 0.9001 - val_TP_bkg: 0.2969 - val_TN_bkg: 0.6337 - val_FP_bkg: 0.0330 - val_FN_bkg: 0.0364 - val_TP_alert: 0.2924 - val_TN_alert: 0.6325 - val_FP_alert: 0.0341 - val_FN_alert: 0.0410 - val_TP_fall: 0.3026 - val_TN_fall: 0.6382 - val_FP_fall: 0.0284 - val_FN_fall: 0.0307\n",
            "Epoch 43/100\n",
            "1170/1170 [==============================] - 92s 79ms/step - loss: 0.0045 - acc: 0.9232 - f_score: 0.9234 - TP_bkg: 0.3071 - TN_bkg: 0.6419 - FP_bkg: 0.0248 - FN_bkg: 0.0262 - TP_alert: 0.3040 - TN_alert: 0.6416 - FP_alert: 0.0251 - FN_alert: 0.0293 - TP_fall: 0.3071 - TN_fall: 0.6419 - FP_fall: 0.0248 - FN_fall: 0.0262 - val_loss: 0.2607 - val_acc: 0.9143 - val_f_score: 0.9148 - val_TP_bkg: 0.3049 - val_TN_bkg: 0.6428 - val_FP_bkg: 0.0239 - val_FN_bkg: 0.0284 - val_TP_alert: 0.3038 - val_TN_alert: 0.6394 - val_FP_alert: 0.0273 - val_FN_alert: 0.0296 - val_TP_fall: 0.3060 - val_TN_fall: 0.6416 - val_FP_fall: 0.0250 - val_FN_fall: 0.0273\n",
            "Epoch 44/100\n",
            "1170/1170 [==============================] - 92s 79ms/step - loss: 0.0048 - acc: 0.9176 - f_score: 0.9176 - TP_bkg: 0.2994 - TN_bkg: 0.6368 - FP_bkg: 0.0299 - FN_bkg: 0.0339 - TP_alert: 0.3066 - TN_alert: 0.6416 - FP_alert: 0.0251 - FN_alert: 0.0268 - TP_fall: 0.3057 - TN_fall: 0.6430 - FP_fall: 0.0236 - FN_fall: 0.0276 - val_loss: 0.2253 - val_acc: 0.9195 - val_f_score: 0.9198 - val_TP_bkg: 0.3049 - val_TN_bkg: 0.6428 - val_FP_bkg: 0.0239 - val_FN_bkg: 0.0284 - val_TP_alert: 0.3026 - val_TN_alert: 0.6416 - val_FP_alert: 0.0250 - val_FN_alert: 0.0307 - val_TP_fall: 0.3106 - val_TN_fall: 0.6462 - val_FP_fall: 0.0205 - val_FN_fall: 0.0228\n",
            "Epoch 45/100\n",
            "1170/1170 [==============================] - 93s 79ms/step - loss: 0.0046 - acc: 0.9244 - f_score: 0.9245 - TP_bkg: 0.3029 - TN_bkg: 0.6405 - FP_bkg: 0.0262 - FN_bkg: 0.0305 - TP_alert: 0.3066 - TN_alert: 0.6425 - FP_alert: 0.0242 - FN_alert: 0.0268 - TP_fall: 0.3074 - TN_fall: 0.6427 - FP_fall: 0.0239 - FN_fall: 0.0259 - val_loss: 0.3100 - val_acc: 0.9016 - val_f_score: 0.9020 - val_TP_bkg: 0.3026 - val_TN_bkg: 0.6382 - val_FP_bkg: 0.0284 - val_FN_bkg: 0.0307 - val_TP_alert: 0.2969 - val_TN_alert: 0.6325 - val_FP_alert: 0.0341 - val_FN_alert: 0.0364 - val_TP_fall: 0.3015 - val_TN_fall: 0.6360 - val_FP_fall: 0.0307 - val_FN_fall: 0.0319\n",
            "Epoch 46/100\n",
            "1170/1170 [==============================] - 92s 78ms/step - loss: 0.0042 - acc: 0.9253 - f_score: 0.9254 - TP_bkg: 0.3029 - TN_bkg: 0.6396 - FP_bkg: 0.0271 - FN_bkg: 0.0305 - TP_alert: 0.3068 - TN_alert: 0.6416 - FP_alert: 0.0251 - FN_alert: 0.0265 - TP_fall: 0.3117 - TN_fall: 0.6467 - FP_fall: 0.0199 - FN_fall: 0.0217 - val_loss: 0.3263 - val_acc: 0.8880 - val_f_score: 0.8881 - val_TP_bkg: 0.2969 - val_TN_bkg: 0.6325 - val_FP_bkg: 0.0341 - val_FN_bkg: 0.0364 - val_TP_alert: 0.2901 - val_TN_alert: 0.6280 - val_FP_alert: 0.0387 - val_FN_alert: 0.0432 - val_TP_fall: 0.2958 - val_TN_fall: 0.6291 - val_FP_fall: 0.0375 - val_FN_fall: 0.0375\n",
            "Epoch 47/100\n",
            "1170/1170 [==============================] - 92s 78ms/step - loss: 0.0047 - acc: 0.9237 - f_score: 0.9239 - TP_bkg: 0.3083 - TN_bkg: 0.6439 - FP_bkg: 0.0228 - FN_bkg: 0.0251 - TP_alert: 0.3071 - TN_alert: 0.6427 - FP_alert: 0.0239 - FN_alert: 0.0262 - TP_fall: 0.3068 - TN_fall: 0.6425 - FP_fall: 0.0242 - FN_fall: 0.0265 - val_loss: 0.2764 - val_acc: 0.9027 - val_f_score: 0.9038 - val_TP_bkg: 0.3015 - val_TN_bkg: 0.6360 - val_FP_bkg: 0.0307 - val_FN_bkg: 0.0319 - val_TP_alert: 0.2981 - val_TN_alert: 0.6360 - val_FP_alert: 0.0307 - val_FN_alert: 0.0353 - val_TP_fall: 0.3049 - val_TN_fall: 0.6416 - val_FP_fall: 0.0250 - val_FN_fall: 0.0284\n",
            "Epoch 48/100\n",
            "1170/1170 [==============================] - 93s 80ms/step - loss: 0.0046 - acc: 0.9190 - f_score: 0.9189 - TP_bkg: 0.3046 - TN_bkg: 0.6399 - FP_bkg: 0.0268 - FN_bkg: 0.0288 - TP_alert: 0.3054 - TN_alert: 0.6413 - FP_alert: 0.0254 - FN_alert: 0.0279 - TP_fall: 0.3031 - TN_fall: 0.6390 - FP_fall: 0.0276 - FN_fall: 0.0302 - val_loss: 0.2659 - val_acc: 0.9106 - val_f_score: 0.9114 - val_TP_bkg: 0.3072 - val_TN_bkg: 0.6428 - val_FP_bkg: 0.0239 - val_FN_bkg: 0.0262 - val_TP_alert: 0.2981 - val_TN_alert: 0.6337 - val_FP_alert: 0.0330 - val_FN_alert: 0.0353 - val_TP_fall: 0.3049 - val_TN_fall: 0.6394 - val_FP_fall: 0.0273 - val_FN_fall: 0.0284\n",
            "Epoch 49/100\n",
            "1170/1170 [==============================] - 93s 80ms/step - loss: 0.0041 - acc: 0.9300 - f_score: 0.9301 - TP_bkg: 0.3057 - TN_bkg: 0.6407 - FP_bkg: 0.0259 - FN_bkg: 0.0276 - TP_alert: 0.3097 - TN_alert: 0.6450 - FP_alert: 0.0217 - FN_alert: 0.0236 - TP_fall: 0.3063 - TN_fall: 0.6419 - FP_fall: 0.0248 - FN_fall: 0.0271 - val_loss: 0.2423 - val_acc: 0.9250 - val_f_score: 0.9247 - val_TP_bkg: 0.3038 - val_TN_bkg: 0.6451 - val_FP_bkg: 0.0216 - val_FN_bkg: 0.0296 - val_TP_alert: 0.3072 - val_TN_alert: 0.6428 - val_FP_alert: 0.0239 - val_FN_alert: 0.0262 - val_TP_fall: 0.3060 - val_TN_fall: 0.6439 - val_FP_fall: 0.0228 - val_FN_fall: 0.0273\n",
            "Epoch 50/100\n",
            "1170/1170 [==============================] - 92s 79ms/step - loss: 0.0040 - acc: 0.9257 - f_score: 0.9256 - TP_bkg: 0.3085 - TN_bkg: 0.6444 - FP_bkg: 0.0222 - FN_bkg: 0.0248 - TP_alert: 0.3080 - TN_alert: 0.6422 - FP_alert: 0.0245 - FN_alert: 0.0254 - TP_fall: 0.3111 - TN_fall: 0.6467 - FP_fall: 0.0199 - FN_fall: 0.0222 - val_loss: 0.2354 - val_acc: 0.9217 - val_f_score: 0.9216 - val_TP_bkg: 0.3094 - val_TN_bkg: 0.6462 - val_FP_bkg: 0.0205 - val_FN_bkg: 0.0239 - val_TP_alert: 0.3038 - val_TN_alert: 0.6394 - val_FP_alert: 0.0273 - val_FN_alert: 0.0296 - val_TP_fall: 0.3072 - val_TN_fall: 0.6416 - val_FP_fall: 0.0250 - val_FN_fall: 0.0262\n",
            "Epoch 51/100\n",
            "1170/1170 [==============================] - 92s 78ms/step - loss: 0.0038 - acc: 0.9308 - f_score: 0.9308 - TP_bkg: 0.3091 - TN_bkg: 0.6453 - FP_bkg: 0.0214 - FN_bkg: 0.0242 - TP_alert: 0.3108 - TN_alert: 0.6464 - FP_alert: 0.0202 - FN_alert: 0.0225 - TP_fall: 0.3123 - TN_fall: 0.6470 - FP_fall: 0.0197 - FN_fall: 0.0211 - val_loss: 0.3361 - val_acc: 0.8961 - val_f_score: 0.8957 - val_TP_bkg: 0.2981 - val_TN_bkg: 0.6337 - val_FP_bkg: 0.0330 - val_FN_bkg: 0.0353 - val_TP_alert: 0.2890 - val_TN_alert: 0.6268 - val_FP_alert: 0.0398 - val_FN_alert: 0.0444 - val_TP_fall: 0.2958 - val_TN_fall: 0.6303 - val_FP_fall: 0.0364 - val_FN_fall: 0.0375\n",
            "Epoch 52/100\n",
            "1170/1170 [==============================] - 92s 78ms/step - loss: 0.0042 - acc: 0.9289 - f_score: 0.9288 - TP_bkg: 0.3040 - TN_bkg: 0.6399 - FP_bkg: 0.0268 - FN_bkg: 0.0293 - TP_alert: 0.3117 - TN_alert: 0.6459 - FP_alert: 0.0208 - FN_alert: 0.0217 - TP_fall: 0.3054 - TN_fall: 0.6413 - FP_fall: 0.0254 - FN_fall: 0.0279 - val_loss: 0.2296 - val_acc: 0.9278 - val_f_score: 0.9278 - val_TP_bkg: 0.3072 - val_TN_bkg: 0.6416 - val_FP_bkg: 0.0250 - val_FN_bkg: 0.0262 - val_TP_alert: 0.3072 - val_TN_alert: 0.6416 - val_FP_alert: 0.0250 - val_FN_alert: 0.0262 - val_TP_fall: 0.3060 - val_TN_fall: 0.6394 - val_FP_fall: 0.0273 - val_FN_fall: 0.0273\n",
            "Epoch 53/100\n",
            "1170/1170 [==============================] - 92s 79ms/step - loss: 0.0039 - acc: 0.9319 - f_score: 0.9319 - TP_bkg: 0.3114 - TN_bkg: 0.6476 - FP_bkg: 0.0191 - FN_bkg: 0.0219 - TP_alert: 0.3108 - TN_alert: 0.6456 - FP_alert: 0.0211 - FN_alert: 0.0225 - TP_fall: 0.3142 - TN_fall: 0.6490 - FP_fall: 0.0177 - FN_fall: 0.0191 - val_loss: 0.2053 - val_acc: 0.9324 - val_f_score: 0.9326 - val_TP_bkg: 0.3106 - val_TN_bkg: 0.6496 - val_FP_bkg: 0.0171 - val_FN_bkg: 0.0228 - val_TP_alert: 0.3094 - val_TN_alert: 0.6451 - val_FP_alert: 0.0216 - val_FN_alert: 0.0239 - val_TP_fall: 0.3140 - val_TN_fall: 0.6496 - val_FP_fall: 0.0171 - val_FN_fall: 0.0193\n",
            "Epoch 54/100\n",
            "1170/1170 [==============================] - 92s 79ms/step - loss: 0.0050 - acc: 0.9199 - f_score: 0.9198 - TP_bkg: 0.3085 - TN_bkg: 0.6456 - FP_bkg: 0.0211 - FN_bkg: 0.0248 - TP_alert: 0.3085 - TN_alert: 0.6447 - FP_alert: 0.0219 - FN_alert: 0.0248 - TP_fall: 0.3060 - TN_fall: 0.6419 - FP_fall: 0.0248 - FN_fall: 0.0274 - val_loss: 0.4262 - val_acc: 0.8572 - val_f_score: 0.8558 - val_TP_bkg: 0.2901 - val_TN_bkg: 0.6257 - val_FP_bkg: 0.0410 - val_FN_bkg: 0.0432 - val_TP_alert: 0.2765 - val_TN_alert: 0.6109 - val_FP_alert: 0.0557 - val_FN_alert: 0.0569 - val_TP_fall: 0.2787 - val_TN_fall: 0.6177 - val_FP_fall: 0.0489 - val_FN_fall: 0.0546\n",
            "Epoch 55/100\n",
            "1170/1170 [==============================] - 93s 80ms/step - loss: 0.0043 - acc: 0.9283 - f_score: 0.9283 - TP_bkg: 0.3108 - TN_bkg: 0.6473 - FP_bkg: 0.0194 - FN_bkg: 0.0225 - TP_alert: 0.3046 - TN_alert: 0.6405 - FP_alert: 0.0262 - FN_alert: 0.0288 - TP_fall: 0.3105 - TN_fall: 0.6476 - FP_fall: 0.0191 - FN_fall: 0.0228 - val_loss: 0.2250 - val_acc: 0.9294 - val_f_score: 0.9291 - val_TP_bkg: 0.3094 - val_TN_bkg: 0.6462 - val_FP_bkg: 0.0205 - val_FN_bkg: 0.0239 - val_TP_alert: 0.3083 - val_TN_alert: 0.6439 - val_FP_alert: 0.0228 - val_FN_alert: 0.0250 - val_TP_fall: 0.3140 - val_TN_fall: 0.6485 - val_FP_fall: 0.0182 - val_FN_fall: 0.0193\n",
            "Epoch 56/100\n",
            "1170/1170 [==============================] - 92s 79ms/step - loss: 0.0038 - acc: 0.9312 - f_score: 0.9313 - TP_bkg: 0.3037 - TN_bkg: 0.6396 - FP_bkg: 0.0271 - FN_bkg: 0.0296 - TP_alert: 0.3114 - TN_alert: 0.6476 - FP_alert: 0.0191 - FN_alert: 0.0219 - TP_fall: 0.3120 - TN_fall: 0.6476 - FP_fall: 0.0191 - FN_fall: 0.0214 - val_loss: 0.2949 - val_acc: 0.9016 - val_f_score: 0.9011 - val_TP_bkg: 0.3015 - val_TN_bkg: 0.6371 - val_FP_bkg: 0.0296 - val_FN_bkg: 0.0319 - val_TP_alert: 0.2958 - val_TN_alert: 0.6337 - val_FP_alert: 0.0330 - val_FN_alert: 0.0375 - val_TP_fall: 0.3015 - val_TN_fall: 0.6382 - val_FP_fall: 0.0284 - val_FN_fall: 0.0319\n",
            "Epoch 57/100\n",
            "1170/1170 [==============================] - 92s 78ms/step - loss: 0.0040 - acc: 0.9317 - f_score: 0.9315 - TP_bkg: 0.3051 - TN_bkg: 0.6422 - FP_bkg: 0.0245 - FN_bkg: 0.0282 - TP_alert: 0.3100 - TN_alert: 0.6464 - FP_alert: 0.0202 - FN_alert: 0.0234 - TP_fall: 0.3100 - TN_fall: 0.6459 - FP_fall: 0.0208 - FN_fall: 0.0234 - val_loss: 0.2410 - val_acc: 0.9277 - val_f_score: 0.9275 - val_TP_bkg: 0.3094 - val_TN_bkg: 0.6451 - val_FP_bkg: 0.0216 - val_FN_bkg: 0.0239 - val_TP_alert: 0.3117 - val_TN_alert: 0.6451 - val_FP_alert: 0.0216 - val_FN_alert: 0.0216 - val_TP_fall: 0.3094 - val_TN_fall: 0.6439 - val_FP_fall: 0.0228 - val_FN_fall: 0.0239\n",
            "Epoch 58/100\n",
            "1170/1170 [==============================] - 93s 79ms/step - loss: 0.0042 - acc: 0.9277 - f_score: 0.9279 - TP_bkg: 0.3100 - TN_bkg: 0.6453 - FP_bkg: 0.0214 - FN_bkg: 0.0234 - TP_alert: 0.3091 - TN_alert: 0.6447 - FP_alert: 0.0219 - FN_alert: 0.0242 - TP_fall: 0.3060 - TN_fall: 0.6416 - FP_fall: 0.0251 - FN_fall: 0.0274 - val_loss: 0.2201 - val_acc: 0.9315 - val_f_score: 0.9314 - val_TP_bkg: 0.3083 - val_TN_bkg: 0.6451 - val_FP_bkg: 0.0216 - val_FN_bkg: 0.0250 - val_TP_alert: 0.3106 - val_TN_alert: 0.6439 - val_FP_alert: 0.0228 - val_FN_alert: 0.0228 - val_TP_fall: 0.3117 - val_TN_fall: 0.6462 - val_FP_fall: 0.0205 - val_FN_fall: 0.0216\n",
            "Epoch 59/100\n",
            "1170/1170 [==============================] - 94s 80ms/step - loss: 0.0042 - acc: 0.9283 - f_score: 0.9286 - TP_bkg: 0.3077 - TN_bkg: 0.6436 - FP_bkg: 0.0231 - FN_bkg: 0.0256 - TP_alert: 0.3100 - TN_alert: 0.6476 - FP_alert: 0.0191 - FN_alert: 0.0234 - TP_fall: 0.3108 - TN_fall: 0.6450 - FP_fall: 0.0217 - FN_fall: 0.0225 - val_loss: 0.1958 - val_acc: 0.9355 - val_f_score: 0.9358 - val_TP_bkg: 0.3129 - val_TN_bkg: 0.6507 - val_FP_bkg: 0.0159 - val_FN_bkg: 0.0205 - val_TP_alert: 0.3129 - val_TN_alert: 0.6485 - val_FP_alert: 0.0182 - val_FN_alert: 0.0205 - val_TP_fall: 0.3106 - val_TN_fall: 0.6462 - val_FP_fall: 0.0205 - val_FN_fall: 0.0228\n",
            "Epoch 60/100\n",
            "1170/1170 [==============================] - 94s 80ms/step - loss: 0.0039 - acc: 0.9303 - f_score: 0.9305 - TP_bkg: 0.3080 - TN_bkg: 0.6425 - FP_bkg: 0.0242 - FN_bkg: 0.0254 - TP_alert: 0.3111 - TN_alert: 0.6467 - FP_alert: 0.0199 - FN_alert: 0.0222 - TP_fall: 0.3074 - TN_fall: 0.6425 - FP_fall: 0.0242 - FN_fall: 0.0259 - val_loss: 0.2625 - val_acc: 0.9124 - val_f_score: 0.9125 - val_TP_bkg: 0.3038 - val_TN_bkg: 0.6416 - val_FP_bkg: 0.0250 - val_FN_bkg: 0.0296 - val_TP_alert: 0.3015 - val_TN_alert: 0.6382 - val_FP_alert: 0.0284 - val_FN_alert: 0.0319 - val_TP_fall: 0.3026 - val_TN_fall: 0.6394 - val_FP_fall: 0.0273 - val_FN_fall: 0.0307\n",
            "Epoch 61/100\n",
            "1170/1170 [==============================] - 94s 80ms/step - loss: 0.0036 - acc: 0.9368 - f_score: 0.9371 - TP_bkg: 0.3145 - TN_bkg: 0.6499 - FP_bkg: 0.0168 - FN_bkg: 0.0188 - TP_alert: 0.3142 - TN_alert: 0.6490 - FP_alert: 0.0177 - FN_alert: 0.0191 - TP_fall: 0.3108 - TN_fall: 0.6470 - FP_fall: 0.0197 - FN_fall: 0.0225 - val_loss: 0.2522 - val_acc: 0.9208 - val_f_score: 0.9209 - val_TP_bkg: 0.3049 - val_TN_bkg: 0.6382 - val_FP_bkg: 0.0284 - val_FN_bkg: 0.0284 - val_TP_alert: 0.3049 - val_TN_alert: 0.6428 - val_FP_alert: 0.0239 - val_FN_alert: 0.0284 - val_TP_fall: 0.3072 - val_TN_fall: 0.6405 - val_FP_fall: 0.0262 - val_FN_fall: 0.0262\n",
            "Epoch 62/100\n",
            "1170/1170 [==============================] - 94s 80ms/step - loss: 0.0038 - acc: 0.9310 - f_score: 0.9310 - TP_bkg: 0.3094 - TN_bkg: 0.6456 - FP_bkg: 0.0211 - FN_bkg: 0.0239 - TP_alert: 0.3080 - TN_alert: 0.6419 - FP_alert: 0.0248 - FN_alert: 0.0254 - TP_fall: 0.3083 - TN_fall: 0.6447 - FP_fall: 0.0219 - FN_fall: 0.0251 - val_loss: 0.1991 - val_acc: 0.9341 - val_f_score: 0.9341 - val_TP_bkg: 0.3072 - val_TN_bkg: 0.6428 - val_FP_bkg: 0.0239 - val_FN_bkg: 0.0262 - val_TP_alert: 0.3083 - val_TN_alert: 0.6451 - val_FP_alert: 0.0216 - val_FN_alert: 0.0250 - val_TP_fall: 0.3129 - val_TN_fall: 0.6462 - val_FP_fall: 0.0205 - val_FN_fall: 0.0205\n",
            "Epoch 63/100\n",
            "1170/1170 [==============================] - 94s 80ms/step - loss: 0.0042 - acc: 0.9295 - f_score: 0.9295 - TP_bkg: 0.3108 - TN_bkg: 0.6464 - FP_bkg: 0.0202 - FN_bkg: 0.0225 - TP_alert: 0.3083 - TN_alert: 0.6433 - FP_alert: 0.0234 - FN_alert: 0.0251 - TP_fall: 0.3063 - TN_fall: 0.6427 - FP_fall: 0.0239 - FN_fall: 0.0271 - val_loss: 0.2601 - val_acc: 0.9175 - val_f_score: 0.9171 - val_TP_bkg: 0.3026 - val_TN_bkg: 0.6394 - val_FP_bkg: 0.0273 - val_FN_bkg: 0.0307 - val_TP_alert: 0.2981 - val_TN_alert: 0.6360 - val_FP_alert: 0.0307 - val_FN_alert: 0.0353 - val_TP_fall: 0.3072 - val_TN_fall: 0.6416 - val_FP_fall: 0.0250 - val_FN_fall: 0.0262\n",
            "Epoch 64/100\n",
            "1170/1170 [==============================] - 93s 80ms/step - loss: 0.0042 - acc: 0.9272 - f_score: 0.9274 - TP_bkg: 0.3114 - TN_bkg: 0.6462 - FP_bkg: 0.0205 - FN_bkg: 0.0219 - TP_alert: 0.3057 - TN_alert: 0.6427 - FP_alert: 0.0239 - FN_alert: 0.0276 - TP_fall: 0.3125 - TN_fall: 0.6479 - FP_fall: 0.0188 - FN_fall: 0.0208 - val_loss: 0.2984 - val_acc: 0.8954 - val_f_score: 0.8952 - val_TP_bkg: 0.2969 - val_TN_bkg: 0.6371 - val_FP_bkg: 0.0296 - val_FN_bkg: 0.0364 - val_TP_alert: 0.2958 - val_TN_alert: 0.6303 - val_FP_alert: 0.0364 - val_FN_alert: 0.0375 - val_TP_fall: 0.2947 - val_TN_fall: 0.6314 - val_FP_fall: 0.0353 - val_FN_fall: 0.0387\n",
            "Epoch 65/100\n",
            "1170/1170 [==============================] - 94s 80ms/step - loss: 0.0039 - acc: 0.9287 - f_score: 0.9285 - TP_bkg: 0.3057 - TN_bkg: 0.6427 - FP_bkg: 0.0239 - FN_bkg: 0.0276 - TP_alert: 0.3103 - TN_alert: 0.6444 - FP_alert: 0.0222 - FN_alert: 0.0231 - TP_fall: 0.3046 - TN_fall: 0.6427 - FP_fall: 0.0239 - FN_fall: 0.0288 - val_loss: 0.2689 - val_acc: 0.9093 - val_f_score: 0.9093 - val_TP_bkg: 0.3015 - val_TN_bkg: 0.6416 - val_FP_bkg: 0.0250 - val_FN_bkg: 0.0319 - val_TP_alert: 0.3015 - val_TN_alert: 0.6371 - val_FP_alert: 0.0296 - val_FN_alert: 0.0319 - val_TP_fall: 0.2992 - val_TN_fall: 0.6394 - val_FP_fall: 0.0273 - val_FN_fall: 0.0341\n",
            "Epoch 66/100\n",
            "1170/1170 [==============================] - 94s 80ms/step - loss: 0.0037 - acc: 0.9267 - f_score: 0.9269 - TP_bkg: 0.3097 - TN_bkg: 0.6459 - FP_bkg: 0.0208 - FN_bkg: 0.0236 - TP_alert: 0.3063 - TN_alert: 0.6427 - FP_alert: 0.0239 - FN_alert: 0.0271 - TP_fall: 0.3071 - TN_fall: 0.6442 - FP_fall: 0.0225 - FN_fall: 0.0262 - val_loss: 0.2140 - val_acc: 0.9330 - val_f_score: 0.9332 - val_TP_bkg: 0.3094 - val_TN_bkg: 0.6439 - val_FP_bkg: 0.0228 - val_FN_bkg: 0.0239 - val_TP_alert: 0.3129 - val_TN_alert: 0.6462 - val_FP_alert: 0.0205 - val_FN_alert: 0.0205 - val_TP_fall: 0.3106 - val_TN_fall: 0.6439 - val_FP_fall: 0.0228 - val_FN_fall: 0.0228\n",
            "Epoch 67/100\n",
            "1170/1170 [==============================] - 94s 80ms/step - loss: 0.0040 - acc: 0.9320 - f_score: 0.9323 - TP_bkg: 0.3105 - TN_bkg: 0.6462 - FP_bkg: 0.0205 - FN_bkg: 0.0228 - TP_alert: 0.3123 - TN_alert: 0.6479 - FP_alert: 0.0188 - FN_alert: 0.0211 - TP_fall: 0.3083 - TN_fall: 0.6439 - FP_fall: 0.0228 - FN_fall: 0.0251 - val_loss: 0.2479 - val_acc: 0.9267 - val_f_score: 0.9268 - val_TP_bkg: 0.3083 - val_TN_bkg: 0.6428 - val_FP_bkg: 0.0239 - val_FN_bkg: 0.0250 - val_TP_alert: 0.3117 - val_TN_alert: 0.6473 - val_FP_alert: 0.0193 - val_FN_alert: 0.0216 - val_TP_fall: 0.3072 - val_TN_fall: 0.6416 - val_FP_fall: 0.0250 - val_FN_fall: 0.0262\n",
            "Epoch 68/100\n",
            "1170/1170 [==============================] - 95s 81ms/step - loss: 0.0046 - acc: 0.9215 - f_score: 0.9214 - TP_bkg: 0.3111 - TN_bkg: 0.6462 - FP_bkg: 0.0205 - FN_bkg: 0.0222 - TP_alert: 0.3094 - TN_alert: 0.6450 - FP_alert: 0.0217 - FN_alert: 0.0239 - TP_fall: 0.3057 - TN_fall: 0.6416 - FP_fall: 0.0251 - FN_fall: 0.0276 - val_loss: 0.2279 - val_acc: 0.9242 - val_f_score: 0.9242 - val_TP_bkg: 0.3072 - val_TN_bkg: 0.6428 - val_FP_bkg: 0.0239 - val_FN_bkg: 0.0262 - val_TP_alert: 0.3106 - val_TN_alert: 0.6451 - val_FP_alert: 0.0216 - val_FN_alert: 0.0228 - val_TP_fall: 0.3072 - val_TN_fall: 0.6428 - val_FP_fall: 0.0239 - val_FN_fall: 0.0262\n",
            "Epoch 69/100\n",
            "1170/1170 [==============================] - 96s 82ms/step - loss: 0.0039 - acc: 0.9300 - f_score: 0.9303 - TP_bkg: 0.3114 - TN_bkg: 0.6459 - FP_bkg: 0.0208 - FN_bkg: 0.0219 - TP_alert: 0.3123 - TN_alert: 0.6473 - FP_alert: 0.0194 - FN_alert: 0.0211 - TP_fall: 0.3114 - TN_fall: 0.6473 - FP_fall: 0.0194 - FN_fall: 0.0219 - val_loss: 0.2537 - val_acc: 0.9214 - val_f_score: 0.9212 - val_TP_bkg: 0.3049 - val_TN_bkg: 0.6416 - val_FP_bkg: 0.0250 - val_FN_bkg: 0.0284 - val_TP_alert: 0.3072 - val_TN_alert: 0.6428 - val_FP_alert: 0.0239 - val_FN_alert: 0.0262 - val_TP_fall: 0.3129 - val_TN_fall: 0.6462 - val_FP_fall: 0.0205 - val_FN_fall: 0.0205\n",
            "Epoch 70/100\n",
            "1170/1170 [==============================] - 94s 81ms/step - loss: 0.0033 - acc: 0.9395 - f_score: 0.9396 - TP_bkg: 0.3125 - TN_bkg: 0.6470 - FP_bkg: 0.0197 - FN_bkg: 0.0208 - TP_alert: 0.3162 - TN_alert: 0.6519 - FP_alert: 0.0148 - FN_alert: 0.0171 - TP_fall: 0.3125 - TN_fall: 0.6479 - FP_fall: 0.0188 - FN_fall: 0.0208 - val_loss: 0.2352 - val_acc: 0.9347 - val_f_score: 0.9350 - val_TP_bkg: 0.3129 - val_TN_bkg: 0.6496 - val_FP_bkg: 0.0171 - val_FN_bkg: 0.0205 - val_TP_alert: 0.3140 - val_TN_alert: 0.6496 - val_FP_alert: 0.0171 - val_FN_alert: 0.0193 - val_TP_fall: 0.3163 - val_TN_fall: 0.6507 - val_FP_fall: 0.0159 - val_FN_fall: 0.0171\n",
            "Epoch 71/100\n",
            "1170/1170 [==============================] - 95s 81ms/step - loss: 0.0042 - acc: 0.9314 - f_score: 0.9318 - TP_bkg: 0.3105 - TN_bkg: 0.6456 - FP_bkg: 0.0211 - FN_bkg: 0.0228 - TP_alert: 0.3142 - TN_alert: 0.6493 - FP_alert: 0.0174 - FN_alert: 0.0191 - TP_fall: 0.3074 - TN_fall: 0.6430 - FP_fall: 0.0236 - FN_fall: 0.0259 - val_loss: 0.2212 - val_acc: 0.9313 - val_f_score: 0.9308 - val_TP_bkg: 0.3117 - val_TN_bkg: 0.6485 - val_FP_bkg: 0.0182 - val_FN_bkg: 0.0216 - val_TP_alert: 0.3117 - val_TN_alert: 0.6496 - val_FP_alert: 0.0171 - val_FN_alert: 0.0216 - val_TP_fall: 0.3117 - val_TN_fall: 0.6462 - val_FP_fall: 0.0205 - val_FN_fall: 0.0216\n",
            "Epoch 72/100\n",
            "1170/1170 [==============================] - 95s 81ms/step - loss: 0.0034 - acc: 0.9389 - f_score: 0.9390 - TP_bkg: 0.3148 - TN_bkg: 0.6493 - FP_bkg: 0.0174 - FN_bkg: 0.0185 - TP_alert: 0.3123 - TN_alert: 0.6482 - FP_alert: 0.0185 - FN_alert: 0.0211 - TP_fall: 0.3131 - TN_fall: 0.6473 - FP_fall: 0.0194 - FN_fall: 0.0202 - val_loss: 0.2962 - val_acc: 0.9032 - val_f_score: 0.9029 - val_TP_bkg: 0.3038 - val_TN_bkg: 0.6394 - val_FP_bkg: 0.0273 - val_FN_bkg: 0.0296 - val_TP_alert: 0.2958 - val_TN_alert: 0.6314 - val_FP_alert: 0.0353 - val_FN_alert: 0.0375 - val_TP_fall: 0.3015 - val_TN_fall: 0.6394 - val_FP_fall: 0.0273 - val_FN_fall: 0.0319\n",
            "Epoch 73/100\n",
            "1170/1170 [==============================] - 95s 81ms/step - loss: 0.0044 - acc: 0.9296 - f_score: 0.9297 - TP_bkg: 0.3108 - TN_bkg: 0.6467 - FP_bkg: 0.0199 - FN_bkg: 0.0225 - TP_alert: 0.3117 - TN_alert: 0.6470 - FP_alert: 0.0197 - FN_alert: 0.0217 - TP_fall: 0.3114 - TN_fall: 0.6482 - FP_fall: 0.0185 - FN_fall: 0.0219 - val_loss: 0.2726 - val_acc: 0.9183 - val_f_score: 0.9186 - val_TP_bkg: 0.3026 - val_TN_bkg: 0.6382 - val_FP_bkg: 0.0284 - val_FN_bkg: 0.0307 - val_TP_alert: 0.3049 - val_TN_alert: 0.6416 - val_FP_alert: 0.0250 - val_FN_alert: 0.0284 - val_TP_fall: 0.3049 - val_TN_fall: 0.6394 - val_FP_fall: 0.0273 - val_FN_fall: 0.0284\n",
            "Epoch 74/100\n",
            "1170/1170 [==============================] - 95s 81ms/step - loss: 0.0037 - acc: 0.9340 - f_score: 0.9340 - TP_bkg: 0.3117 - TN_bkg: 0.6479 - FP_bkg: 0.0188 - FN_bkg: 0.0217 - TP_alert: 0.3103 - TN_alert: 0.6464 - FP_alert: 0.0202 - FN_alert: 0.0231 - TP_fall: 0.3168 - TN_fall: 0.6516 - FP_fall: 0.0151 - FN_fall: 0.0165 - val_loss: 0.2743 - val_acc: 0.9159 - val_f_score: 0.9161 - val_TP_bkg: 0.3038 - val_TN_bkg: 0.6405 - val_FP_bkg: 0.0262 - val_FN_bkg: 0.0296 - val_TP_alert: 0.3072 - val_TN_alert: 0.6439 - val_FP_alert: 0.0228 - val_FN_alert: 0.0262 - val_TP_fall: 0.2992 - val_TN_fall: 0.6337 - val_FP_fall: 0.0330 - val_FN_fall: 0.0341\n",
            "Epoch 75/100\n",
            "1170/1170 [==============================] - 95s 81ms/step - loss: 0.0038 - acc: 0.9384 - f_score: 0.9383 - TP_bkg: 0.3088 - TN_bkg: 0.6447 - FP_bkg: 0.0219 - FN_bkg: 0.0245 - TP_alert: 0.3125 - TN_alert: 0.6473 - FP_alert: 0.0194 - FN_alert: 0.0208 - TP_fall: 0.3154 - TN_fall: 0.6501 - FP_fall: 0.0165 - FN_fall: 0.0179 - val_loss: 0.1991 - val_acc: 0.9367 - val_f_score: 0.9370 - val_TP_bkg: 0.3083 - val_TN_bkg: 0.6451 - val_FP_bkg: 0.0216 - val_FN_bkg: 0.0250 - val_TP_alert: 0.3140 - val_TN_alert: 0.6507 - val_FP_alert: 0.0159 - val_FN_alert: 0.0193 - val_TP_fall: 0.3094 - val_TN_fall: 0.6451 - val_FP_fall: 0.0216 - val_FN_fall: 0.0239\n",
            "Epoch 76/100\n",
            "1170/1170 [==============================] - 94s 80ms/step - loss: 0.0034 - acc: 0.9392 - f_score: 0.9393 - TP_bkg: 0.3094 - TN_bkg: 0.6459 - FP_bkg: 0.0208 - FN_bkg: 0.0239 - TP_alert: 0.3085 - TN_alert: 0.6444 - FP_alert: 0.0222 - FN_alert: 0.0248 - TP_fall: 0.3140 - TN_fall: 0.6487 - FP_fall: 0.0179 - FN_fall: 0.0194 - val_loss: 0.2291 - val_acc: 0.9313 - val_f_score: 0.9311 - val_TP_bkg: 0.3117 - val_TN_bkg: 0.6462 - val_FP_bkg: 0.0205 - val_FN_bkg: 0.0216 - val_TP_alert: 0.3106 - val_TN_alert: 0.6451 - val_FP_alert: 0.0216 - val_FN_alert: 0.0228 - val_TP_fall: 0.3129 - val_TN_fall: 0.6462 - val_FP_fall: 0.0205 - val_FN_fall: 0.0205\n",
            "Epoch 77/100\n",
            "1170/1170 [==============================] - 95s 81ms/step - loss: 0.0038 - acc: 0.9364 - f_score: 0.9364 - TP_bkg: 0.3140 - TN_bkg: 0.6501 - FP_bkg: 0.0165 - FN_bkg: 0.0194 - TP_alert: 0.3123 - TN_alert: 0.6482 - FP_alert: 0.0185 - FN_alert: 0.0211 - TP_fall: 0.3091 - TN_fall: 0.6442 - FP_fall: 0.0225 - FN_fall: 0.0242 - val_loss: 0.1921 - val_acc: 0.9452 - val_f_score: 0.9452 - val_TP_bkg: 0.3129 - val_TN_bkg: 0.6473 - val_FP_bkg: 0.0193 - val_FN_bkg: 0.0205 - val_TP_alert: 0.3163 - val_TN_alert: 0.6507 - val_FP_alert: 0.0159 - val_FN_alert: 0.0171 - val_TP_fall: 0.3140 - val_TN_fall: 0.6473 - val_FP_fall: 0.0193 - val_FN_fall: 0.0193\n",
            "Epoch 78/100\n",
            "1170/1170 [==============================] - 95s 81ms/step - loss: 0.0034 - acc: 0.9428 - f_score: 0.9429 - TP_bkg: 0.3128 - TN_bkg: 0.6484 - FP_bkg: 0.0182 - FN_bkg: 0.0205 - TP_alert: 0.3174 - TN_alert: 0.6519 - FP_alert: 0.0148 - FN_alert: 0.0160 - TP_fall: 0.3123 - TN_fall: 0.6467 - FP_fall: 0.0199 - FN_fall: 0.0211 - val_loss: 0.2183 - val_acc: 0.9314 - val_f_score: 0.9313 - val_TP_bkg: 0.3151 - val_TN_bkg: 0.6496 - val_FP_bkg: 0.0171 - val_FN_bkg: 0.0182 - val_TP_alert: 0.3106 - val_TN_alert: 0.6439 - val_FP_alert: 0.0228 - val_FN_alert: 0.0228 - val_TP_fall: 0.3094 - val_TN_fall: 0.6451 - val_FP_fall: 0.0216 - val_FN_fall: 0.0239\n",
            "Epoch 79/100\n",
            "1170/1170 [==============================] - 95s 81ms/step - loss: 0.0031 - acc: 0.9456 - f_score: 0.9458 - TP_bkg: 0.3128 - TN_bkg: 0.6476 - FP_bkg: 0.0191 - FN_bkg: 0.0205 - TP_alert: 0.3182 - TN_alert: 0.6524 - FP_alert: 0.0142 - FN_alert: 0.0151 - TP_fall: 0.3097 - TN_fall: 0.6453 - FP_fall: 0.0214 - FN_fall: 0.0236 - val_loss: 0.2849 - val_acc: 0.9225 - val_f_score: 0.9225 - val_TP_bkg: 0.3038 - val_TN_bkg: 0.6394 - val_FP_bkg: 0.0273 - val_FN_bkg: 0.0296 - val_TP_alert: 0.3049 - val_TN_alert: 0.6394 - val_FP_alert: 0.0273 - val_FN_alert: 0.0284 - val_TP_fall: 0.3072 - val_TN_fall: 0.6416 - val_FP_fall: 0.0250 - val_FN_fall: 0.0262\n",
            "Epoch 80/100\n",
            "1170/1170 [==============================] - 94s 81ms/step - loss: 0.0039 - acc: 0.9350 - f_score: 0.9351 - TP_bkg: 0.3097 - TN_bkg: 0.6453 - FP_bkg: 0.0214 - FN_bkg: 0.0236 - TP_alert: 0.3097 - TN_alert: 0.6464 - FP_alert: 0.0202 - FN_alert: 0.0236 - TP_fall: 0.3103 - TN_fall: 0.6456 - FP_fall: 0.0211 - FN_fall: 0.0231 - val_loss: 0.2290 - val_acc: 0.9227 - val_f_score: 0.9229 - val_TP_bkg: 0.3038 - val_TN_bkg: 0.6405 - val_FP_bkg: 0.0262 - val_FN_bkg: 0.0296 - val_TP_alert: 0.3038 - val_TN_alert: 0.6416 - val_FP_alert: 0.0250 - val_FN_alert: 0.0296 - val_TP_fall: 0.3026 - val_TN_fall: 0.6394 - val_FP_fall: 0.0273 - val_FN_fall: 0.0307\n",
            "Epoch 81/100\n",
            "1170/1170 [==============================] - 95s 81ms/step - loss: 0.0035 - acc: 0.9371 - f_score: 0.9372 - TP_bkg: 0.3148 - TN_bkg: 0.6499 - FP_bkg: 0.0168 - FN_bkg: 0.0185 - TP_alert: 0.3120 - TN_alert: 0.6473 - FP_alert: 0.0194 - FN_alert: 0.0214 - TP_fall: 0.3145 - TN_fall: 0.6504 - FP_fall: 0.0162 - FN_fall: 0.0188 - val_loss: 0.2274 - val_acc: 0.9305 - val_f_score: 0.9305 - val_TP_bkg: 0.3060 - val_TN_bkg: 0.6451 - val_FP_bkg: 0.0216 - val_FN_bkg: 0.0273 - val_TP_alert: 0.3094 - val_TN_alert: 0.6485 - val_FP_alert: 0.0182 - val_FN_alert: 0.0239 - val_TP_fall: 0.3060 - val_TN_fall: 0.6416 - val_FP_fall: 0.0250 - val_FN_fall: 0.0273\n",
            "Epoch 82/100\n",
            "1170/1170 [==============================] - 94s 80ms/step - loss: 0.0037 - acc: 0.9322 - f_score: 0.9325 - TP_bkg: 0.3108 - TN_bkg: 0.6470 - FP_bkg: 0.0197 - FN_bkg: 0.0225 - TP_alert: 0.3057 - TN_alert: 0.6427 - FP_alert: 0.0239 - FN_alert: 0.0276 - TP_fall: 0.3114 - TN_fall: 0.6473 - FP_fall: 0.0194 - FN_fall: 0.0219 - val_loss: 0.3414 - val_acc: 0.8918 - val_f_score: 0.8918 - val_TP_bkg: 0.2981 - val_TN_bkg: 0.6325 - val_FP_bkg: 0.0341 - val_FN_bkg: 0.0353 - val_TP_alert: 0.2947 - val_TN_alert: 0.6314 - val_FP_alert: 0.0353 - val_FN_alert: 0.0387 - val_TP_fall: 0.2992 - val_TN_fall: 0.6337 - val_FP_fall: 0.0330 - val_FN_fall: 0.0341\n",
            "Epoch 83/100\n",
            "1170/1170 [==============================] - 94s 81ms/step - loss: 0.0035 - acc: 0.9346 - f_score: 0.9345 - TP_bkg: 0.3114 - TN_bkg: 0.6467 - FP_bkg: 0.0199 - FN_bkg: 0.0219 - TP_alert: 0.3085 - TN_alert: 0.6450 - FP_alert: 0.0217 - FN_alert: 0.0248 - TP_fall: 0.3060 - TN_fall: 0.6430 - FP_fall: 0.0236 - FN_fall: 0.0274 - val_loss: 0.1815 - val_acc: 0.9400 - val_f_score: 0.9403 - val_TP_bkg: 0.3151 - val_TN_bkg: 0.6496 - val_FP_bkg: 0.0171 - val_FN_bkg: 0.0182 - val_TP_alert: 0.3163 - val_TN_alert: 0.6530 - val_FP_alert: 0.0137 - val_FN_alert: 0.0171 - val_TP_fall: 0.3117 - val_TN_fall: 0.6451 - val_FP_fall: 0.0216 - val_FN_fall: 0.0216\n",
            "Epoch 84/100\n",
            "1170/1170 [==============================] - 94s 80ms/step - loss: 0.0033 - acc: 0.9370 - f_score: 0.9371 - TP_bkg: 0.3123 - TN_bkg: 0.6484 - FP_bkg: 0.0182 - FN_bkg: 0.0211 - TP_alert: 0.3171 - TN_alert: 0.6519 - FP_alert: 0.0148 - FN_alert: 0.0162 - TP_fall: 0.3117 - TN_fall: 0.6467 - FP_fall: 0.0199 - FN_fall: 0.0217 - val_loss: 0.2585 - val_acc: 0.9190 - val_f_score: 0.9193 - val_TP_bkg: 0.3083 - val_TN_bkg: 0.6439 - val_FP_bkg: 0.0228 - val_FN_bkg: 0.0250 - val_TP_alert: 0.3106 - val_TN_alert: 0.6473 - val_FP_alert: 0.0193 - val_FN_alert: 0.0228 - val_TP_fall: 0.3038 - val_TN_fall: 0.6394 - val_FP_fall: 0.0273 - val_FN_fall: 0.0296\n",
            "Epoch 85/100\n",
            "1170/1170 [==============================] - 94s 81ms/step - loss: 0.0029 - acc: 0.9459 - f_score: 0.9458 - TP_bkg: 0.3160 - TN_bkg: 0.6504 - FP_bkg: 0.0162 - FN_bkg: 0.0174 - TP_alert: 0.3154 - TN_alert: 0.6493 - FP_alert: 0.0174 - FN_alert: 0.0179 - TP_fall: 0.3151 - TN_fall: 0.6501 - FP_fall: 0.0165 - FN_fall: 0.0182 - val_loss: 0.2280 - val_acc: 0.9271 - val_f_score: 0.9276 - val_TP_bkg: 0.3140 - val_TN_bkg: 0.6485 - val_FP_bkg: 0.0182 - val_FN_bkg: 0.0193 - val_TP_alert: 0.3094 - val_TN_alert: 0.6428 - val_FP_alert: 0.0239 - val_FN_alert: 0.0239 - val_TP_fall: 0.3083 - val_TN_fall: 0.6428 - val_FP_fall: 0.0239 - val_FN_fall: 0.0250\n",
            "Epoch 86/100\n",
            "1170/1170 [==============================] - 94s 81ms/step - loss: 0.0035 - acc: 0.9416 - f_score: 0.9418 - TP_bkg: 0.3151 - TN_bkg: 0.6493 - FP_bkg: 0.0174 - FN_bkg: 0.0182 - TP_alert: 0.3134 - TN_alert: 0.6482 - FP_alert: 0.0185 - FN_alert: 0.0199 - TP_fall: 0.3114 - TN_fall: 0.6459 - FP_fall: 0.0208 - FN_fall: 0.0219 - val_loss: 0.1888 - val_acc: 0.9453 - val_f_score: 0.9454 - val_TP_bkg: 0.3151 - val_TN_bkg: 0.6496 - val_FP_bkg: 0.0171 - val_FN_bkg: 0.0182 - val_TP_alert: 0.3151 - val_TN_alert: 0.6507 - val_FP_alert: 0.0159 - val_FN_alert: 0.0182 - val_TP_fall: 0.3151 - val_TN_fall: 0.6496 - val_FP_fall: 0.0171 - val_FN_fall: 0.0182\n",
            "Epoch 87/100\n",
            "1170/1170 [==============================] - 93s 79ms/step - loss: 0.0033 - acc: 0.9405 - f_score: 0.9408 - TP_bkg: 0.3168 - TN_bkg: 0.6513 - FP_bkg: 0.0154 - FN_bkg: 0.0165 - TP_alert: 0.3117 - TN_alert: 0.6464 - FP_alert: 0.0202 - FN_alert: 0.0217 - TP_fall: 0.3151 - TN_fall: 0.6504 - FP_fall: 0.0162 - FN_fall: 0.0182 - val_loss: 0.2239 - val_acc: 0.9288 - val_f_score: 0.9289 - val_TP_bkg: 0.3083 - val_TN_bkg: 0.6428 - val_FP_bkg: 0.0239 - val_FN_bkg: 0.0250 - val_TP_alert: 0.3049 - val_TN_alert: 0.6394 - val_FP_alert: 0.0273 - val_FN_alert: 0.0284 - val_TP_fall: 0.3072 - val_TN_fall: 0.6416 - val_FP_fall: 0.0250 - val_FN_fall: 0.0262\n",
            "Epoch 88/100\n",
            "1170/1170 [==============================] - 94s 80ms/step - loss: 0.0032 - acc: 0.9421 - f_score: 0.9423 - TP_bkg: 0.3148 - TN_bkg: 0.6487 - FP_bkg: 0.0179 - FN_bkg: 0.0185 - TP_alert: 0.3140 - TN_alert: 0.6482 - FP_alert: 0.0185 - FN_alert: 0.0194 - TP_fall: 0.3148 - TN_fall: 0.6490 - FP_fall: 0.0177 - FN_fall: 0.0185 - val_loss: 0.2014 - val_acc: 0.9427 - val_f_score: 0.9428 - val_TP_bkg: 0.3106 - val_TN_bkg: 0.6451 - val_FP_bkg: 0.0216 - val_FN_bkg: 0.0228 - val_TP_alert: 0.3163 - val_TN_alert: 0.6530 - val_FP_alert: 0.0137 - val_FN_alert: 0.0171 - val_TP_fall: 0.3151 - val_TN_fall: 0.6485 - val_FP_fall: 0.0182 - val_FN_fall: 0.0182\n",
            "Epoch 89/100\n",
            "1170/1170 [==============================] - 93s 80ms/step - loss: 0.0030 - acc: 0.9448 - f_score: 0.9449 - TP_bkg: 0.3117 - TN_bkg: 0.6459 - FP_bkg: 0.0208 - FN_bkg: 0.0217 - TP_alert: 0.3137 - TN_alert: 0.6496 - FP_alert: 0.0171 - FN_alert: 0.0197 - TP_fall: 0.3160 - TN_fall: 0.6501 - FP_fall: 0.0165 - FN_fall: 0.0174 - val_loss: 0.1592 - val_acc: 0.9508 - val_f_score: 0.9510 - val_TP_bkg: 0.3140 - val_TN_bkg: 0.6507 - val_FP_bkg: 0.0159 - val_FN_bkg: 0.0193 - val_TP_alert: 0.3208 - val_TN_alert: 0.6542 - val_FP_alert: 0.0125 - val_FN_alert: 0.0125 - val_TP_fall: 0.3163 - val_TN_fall: 0.6519 - val_FP_fall: 0.0148 - val_FN_fall: 0.0171\n",
            "Epoch 90/100\n",
            "1170/1170 [==============================] - 94s 80ms/step - loss: 0.0034 - acc: 0.9354 - f_score: 0.9355 - TP_bkg: 0.3114 - TN_bkg: 0.6462 - FP_bkg: 0.0205 - FN_bkg: 0.0219 - TP_alert: 0.3117 - TN_alert: 0.6464 - FP_alert: 0.0202 - FN_alert: 0.0217 - TP_fall: 0.3151 - TN_fall: 0.6507 - FP_fall: 0.0160 - FN_fall: 0.0182 - val_loss: 0.2001 - val_acc: 0.9397 - val_f_score: 0.9401 - val_TP_bkg: 0.3117 - val_TN_bkg: 0.6462 - val_FP_bkg: 0.0205 - val_FN_bkg: 0.0216 - val_TP_alert: 0.3140 - val_TN_alert: 0.6473 - val_FP_alert: 0.0193 - val_FN_alert: 0.0193 - val_TP_fall: 0.3117 - val_TN_fall: 0.6473 - val_FP_fall: 0.0193 - val_FN_fall: 0.0216\n",
            "Epoch 91/100\n",
            "1170/1170 [==============================] - 94s 81ms/step - loss: 0.0033 - acc: 0.9427 - f_score: 0.9426 - TP_bkg: 0.3134 - TN_bkg: 0.6476 - FP_bkg: 0.0191 - FN_bkg: 0.0199 - TP_alert: 0.3128 - TN_alert: 0.6470 - FP_alert: 0.0197 - FN_alert: 0.0205 - TP_fall: 0.3123 - TN_fall: 0.6470 - FP_fall: 0.0197 - FN_fall: 0.0211 - val_loss: 0.1538 - val_acc: 0.9511 - val_f_score: 0.9510 - val_TP_bkg: 0.3140 - val_TN_bkg: 0.6496 - val_FP_bkg: 0.0171 - val_FN_bkg: 0.0193 - val_TP_alert: 0.3197 - val_TN_alert: 0.6542 - val_FP_alert: 0.0125 - val_FN_alert: 0.0137 - val_TP_fall: 0.3185 - val_TN_fall: 0.6519 - val_FP_fall: 0.0148 - val_FN_fall: 0.0148\n",
            "Epoch 92/100\n",
            "1170/1170 [==============================] - 93s 79ms/step - loss: 0.0032 - acc: 0.9393 - f_score: 0.9396 - TP_bkg: 0.3177 - TN_bkg: 0.6516 - FP_bkg: 0.0151 - FN_bkg: 0.0157 - TP_alert: 0.3137 - TN_alert: 0.6482 - FP_alert: 0.0185 - FN_alert: 0.0197 - TP_fall: 0.3117 - TN_fall: 0.6470 - FP_fall: 0.0197 - FN_fall: 0.0217 - val_loss: 0.1955 - val_acc: 0.9371 - val_f_score: 0.9370 - val_TP_bkg: 0.3072 - val_TN_bkg: 0.6439 - val_FP_bkg: 0.0228 - val_FN_bkg: 0.0262 - val_TP_alert: 0.3129 - val_TN_alert: 0.6473 - val_FP_alert: 0.0193 - val_FN_alert: 0.0205 - val_TP_fall: 0.3129 - val_TN_fall: 0.6462 - val_FP_fall: 0.0205 - val_FN_fall: 0.0205\n",
            "Epoch 93/100\n",
            "1170/1170 [==============================] - 92s 79ms/step - loss: 0.0034 - acc: 0.9380 - f_score: 0.9381 - TP_bkg: 0.3137 - TN_bkg: 0.6479 - FP_bkg: 0.0188 - FN_bkg: 0.0197 - TP_alert: 0.3125 - TN_alert: 0.6467 - FP_alert: 0.0199 - FN_alert: 0.0208 - TP_fall: 0.3142 - TN_fall: 0.6487 - FP_fall: 0.0179 - FN_fall: 0.0191 - val_loss: 0.1979 - val_acc: 0.9407 - val_f_score: 0.9407 - val_TP_bkg: 0.3083 - val_TN_bkg: 0.6416 - val_FP_bkg: 0.0250 - val_FN_bkg: 0.0250 - val_TP_alert: 0.3140 - val_TN_alert: 0.6496 - val_FP_alert: 0.0171 - val_FN_alert: 0.0193 - val_TP_fall: 0.3140 - val_TN_fall: 0.6473 - val_FP_fall: 0.0193 - val_FN_fall: 0.0193\n",
            "Epoch 94/100\n",
            "1170/1170 [==============================] - 92s 79ms/step - loss: 0.0030 - acc: 0.9459 - f_score: 0.9462 - TP_bkg: 0.3140 - TN_bkg: 0.6493 - FP_bkg: 0.0174 - FN_bkg: 0.0194 - TP_alert: 0.3151 - TN_alert: 0.6504 - FP_alert: 0.0162 - FN_alert: 0.0182 - TP_fall: 0.3140 - TN_fall: 0.6482 - FP_fall: 0.0185 - FN_fall: 0.0194 - val_loss: 0.2809 - val_acc: 0.9163 - val_f_score: 0.9162 - val_TP_bkg: 0.3060 - val_TN_bkg: 0.6416 - val_FP_bkg: 0.0250 - val_FN_bkg: 0.0273 - val_TP_alert: 0.3117 - val_TN_alert: 0.6485 - val_FP_alert: 0.0182 - val_FN_alert: 0.0216 - val_TP_fall: 0.3072 - val_TN_fall: 0.6416 - val_FP_fall: 0.0250 - val_FN_fall: 0.0262\n",
            "Epoch 95/100\n",
            "1170/1170 [==============================] - 93s 80ms/step - loss: 0.0032 - acc: 0.9381 - f_score: 0.9382 - TP_bkg: 0.3114 - TN_bkg: 0.6467 - FP_bkg: 0.0199 - FN_bkg: 0.0219 - TP_alert: 0.3077 - TN_alert: 0.6442 - FP_alert: 0.0225 - FN_alert: 0.0256 - TP_fall: 0.3114 - TN_fall: 0.6459 - FP_fall: 0.0208 - FN_fall: 0.0219 - val_loss: 0.1659 - val_acc: 0.9488 - val_f_score: 0.9492 - val_TP_bkg: 0.3117 - val_TN_bkg: 0.6473 - val_FP_bkg: 0.0193 - val_FN_bkg: 0.0216 - val_TP_alert: 0.3129 - val_TN_alert: 0.6519 - val_FP_alert: 0.0148 - val_FN_alert: 0.0205 - val_TP_fall: 0.3140 - val_TN_fall: 0.6473 - val_FP_fall: 0.0193 - val_FN_fall: 0.0193\n",
            "Epoch 96/100\n",
            "1170/1170 [==============================] - 92s 79ms/step - loss: 0.0039 - acc: 0.9365 - f_score: 0.9367 - TP_bkg: 0.3029 - TN_bkg: 0.6393 - FP_bkg: 0.0274 - FN_bkg: 0.0305 - TP_alert: 0.3117 - TN_alert: 0.6467 - FP_alert: 0.0199 - FN_alert: 0.0217 - TP_fall: 0.3080 - TN_fall: 0.6439 - FP_fall: 0.0228 - FN_fall: 0.0254 - val_loss: 0.2304 - val_acc: 0.9306 - val_f_score: 0.9307 - val_TP_bkg: 0.3094 - val_TN_bkg: 0.6439 - val_FP_bkg: 0.0228 - val_FN_bkg: 0.0239 - val_TP_alert: 0.3072 - val_TN_alert: 0.6439 - val_FP_alert: 0.0228 - val_FN_alert: 0.0262 - val_TP_fall: 0.3129 - val_TN_fall: 0.6473 - val_FP_fall: 0.0193 - val_FN_fall: 0.0205\n",
            "Epoch 97/100\n",
            "1170/1170 [==============================] - 92s 79ms/step - loss: 0.0032 - acc: 0.9422 - f_score: 0.9426 - TP_bkg: 0.3140 - TN_bkg: 0.6482 - FP_bkg: 0.0185 - FN_bkg: 0.0194 - TP_alert: 0.3142 - TN_alert: 0.6490 - FP_alert: 0.0177 - FN_alert: 0.0191 - TP_fall: 0.3171 - TN_fall: 0.6510 - FP_fall: 0.0157 - FN_fall: 0.0162 - val_loss: 0.1882 - val_acc: 0.9363 - val_f_score: 0.9362 - val_TP_bkg: 0.3106 - val_TN_bkg: 0.6462 - val_FP_bkg: 0.0205 - val_FN_bkg: 0.0228 - val_TP_alert: 0.3060 - val_TN_alert: 0.6485 - val_FP_alert: 0.0182 - val_FN_alert: 0.0273 - val_TP_fall: 0.3117 - val_TN_fall: 0.6473 - val_FP_fall: 0.0193 - val_FN_fall: 0.0216\n",
            "Epoch 98/100\n",
            "1170/1170 [==============================] - 94s 80ms/step - loss: 0.0030 - acc: 0.9440 - f_score: 0.9441 - TP_bkg: 0.3162 - TN_bkg: 0.6504 - FP_bkg: 0.0162 - FN_bkg: 0.0171 - TP_alert: 0.3097 - TN_alert: 0.6444 - FP_alert: 0.0222 - FN_alert: 0.0236 - TP_fall: 0.3174 - TN_fall: 0.6519 - FP_fall: 0.0148 - FN_fall: 0.0160 - val_loss: 0.2523 - val_acc: 0.9219 - val_f_score: 0.9220 - val_TP_bkg: 0.3015 - val_TN_bkg: 0.6371 - val_FP_bkg: 0.0296 - val_FN_bkg: 0.0319 - val_TP_alert: 0.3049 - val_TN_alert: 0.6382 - val_FP_alert: 0.0284 - val_FN_alert: 0.0284 - val_TP_fall: 0.3106 - val_TN_fall: 0.6462 - val_FP_fall: 0.0205 - val_FN_fall: 0.0228\n",
            "Epoch 99/100\n",
            "1170/1170 [==============================] - 94s 80ms/step - loss: 0.0034 - acc: 0.9425 - f_score: 0.9427 - TP_bkg: 0.3094 - TN_bkg: 0.6447 - FP_bkg: 0.0219 - FN_bkg: 0.0239 - TP_alert: 0.3108 - TN_alert: 0.6450 - FP_alert: 0.0217 - FN_alert: 0.0225 - TP_fall: 0.3140 - TN_fall: 0.6479 - FP_fall: 0.0188 - FN_fall: 0.0194 - val_loss: 0.2280 - val_acc: 0.9324 - val_f_score: 0.9323 - val_TP_bkg: 0.3117 - val_TN_bkg: 0.6462 - val_FP_bkg: 0.0205 - val_FN_bkg: 0.0216 - val_TP_alert: 0.3106 - val_TN_alert: 0.6439 - val_FP_alert: 0.0228 - val_FN_alert: 0.0228 - val_TP_fall: 0.3140 - val_TN_fall: 0.6473 - val_FP_fall: 0.0193 - val_FN_fall: 0.0193\n",
            "Epoch 100/100\n",
            "1170/1170 [==============================] - 93s 79ms/step - loss: 0.0030 - acc: 0.9422 - f_score: 0.9424 - TP_bkg: 0.3123 - TN_bkg: 0.6470 - FP_bkg: 0.0197 - FN_bkg: 0.0211 - TP_alert: 0.3120 - TN_alert: 0.6459 - FP_alert: 0.0208 - FN_alert: 0.0214 - TP_fall: 0.3165 - TN_fall: 0.6513 - FP_fall: 0.0154 - FN_fall: 0.0168 - val_loss: 0.1640 - val_acc: 0.9495 - val_f_score: 0.9493 - val_TP_bkg: 0.3151 - val_TN_bkg: 0.6496 - val_FP_bkg: 0.0171 - val_FN_bkg: 0.0182 - val_TP_alert: 0.3185 - val_TN_alert: 0.6542 - val_FP_alert: 0.0125 - val_FN_alert: 0.0148 - val_TP_fall: 0.3163 - val_TN_fall: 0.6507 - val_FP_fall: 0.0159 - val_FN_fall: 0.0171\n",
            "--- 9398.556192874908 seconds ---\n"
          ],
          "name": "stdout"
        }
      ]
    },
    {
      "cell_type": "markdown",
      "metadata": {
        "id": "OVCMEjCUC0vw"
      },
      "source": [
        "# **LSTM**"
      ]
    },
    {
      "cell_type": "markdown",
      "metadata": {
        "id": "DX3CWGuO-yUm"
      },
      "source": [
        "## Build our model"
      ]
    },
    {
      "cell_type": "code",
      "metadata": {
        "id": "9gfNVgmV_GyB",
        "outputId": "124bb78f-9f84-4116-b41b-5c371e6a16f2",
        "colab": {
          "base_uri": "https://localhost:8080/",
          "height": 474
        }
      },
      "source": [
        "model_m = keras.Sequential()\n",
        "model_m.add(Dense(32, activation='relu', input_shape=(num_time_periods, num_sensors)))\n",
        "model_m.add(BatchNormalization())\n",
        "model_m.add(Dropout(0.5))\n",
        "model_m.add(LSTM(32, activation='relu', return_sequences=True))\n",
        "model_m.add(Dropout(0.5))\n",
        "model_m.add(LSTM(32, activation='relu'))\n",
        "model_m.add(Dropout(0.5))\n",
        "model_m.add(Dense(512))\n",
        "model_m.add(Dense(num_classes, activation='softmax'))\n",
        "model_m.summary()"
      ],
      "execution_count": null,
      "outputs": [
        {
          "output_type": "stream",
          "text": [
            "Model: \"sequential\"\n",
            "_________________________________________________________________\n",
            "Layer (type)                 Output Shape              Param #   \n",
            "=================================================================\n",
            "dense (Dense)                (None, 256, 32)           320       \n",
            "_________________________________________________________________\n",
            "batch_normalization (BatchNo (None, 256, 32)           128       \n",
            "_________________________________________________________________\n",
            "dropout (Dropout)            (None, 256, 32)           0         \n",
            "_________________________________________________________________\n",
            "lstm (LSTM)                  (None, 256, 32)           8320      \n",
            "_________________________________________________________________\n",
            "dropout_1 (Dropout)          (None, 256, 32)           0         \n",
            "_________________________________________________________________\n",
            "lstm_1 (LSTM)                (None, 32)                8320      \n",
            "_________________________________________________________________\n",
            "dropout_2 (Dropout)          (None, 32)                0         \n",
            "_________________________________________________________________\n",
            "dense_1 (Dense)              (None, 512)               16896     \n",
            "_________________________________________________________________\n",
            "dense_2 (Dense)              (None, 3)                 1539      \n",
            "=================================================================\n",
            "Total params: 35,523\n",
            "Trainable params: 35,459\n",
            "Non-trainable params: 64\n",
            "_________________________________________________________________\n"
          ],
          "name": "stdout"
        }
      ]
    },
    {
      "cell_type": "markdown",
      "metadata": {
        "id": "OQNE8LmN_O3B"
      },
      "source": [
        "## Fit LSTM the model"
      ]
    },
    {
      "cell_type": "code",
      "metadata": {
        "id": "icb2Wx9l3BXo",
        "outputId": "3b749243-7377-4b42-9ad3-85f140075e1c",
        "colab": {
          "base_uri": "https://localhost:8080/",
          "height": 1000
        }
      },
      "source": [
        "start_time = time.time()\n",
        "callbacks_list = [keras.callbacks.ModelCheckpoint(filepath='./drive/My Drive/FallDetection/LSTM_Model.h5',\n",
        "                                                  monitor='val_loss', save_best_only=True)]#keras.callbacks.EarlyStopping(monitor='acc', patience=1)]\n",
        "\n",
        "optimizer = keras.optimizers.Adam(clipvalue=0.5)\n",
        "model_m.compile(loss='categorical_crossentropy',\n",
        "                optimizer=optimizer, \n",
        "                metrics=_metrics)\n",
        "\n",
        "BATCH_SIZE = 64\n",
        "EPOCHS = 40\n",
        "\n",
        "history = model_m.fit(X_train,\n",
        "                      y_train,\n",
        "                      batch_size=BATCH_SIZE,\n",
        "                      epochs=EPOCHS,\n",
        "                      callbacks=callbacks_list,\n",
        "                      validation_split=0.2,\n",
        "                      verbose=1,\n",
        "                      class_weight=class_weight)\n",
        "\n",
        "json.dump(history.history, open(\"./drive/My Drive/FallDetection/LSTM_History.pkl\", \"w\"))\n",
        "print(\"--- %s seconds ---\" % (time.time() - start_time))"
      ],
      "execution_count": null,
      "outputs": [
        {
          "output_type": "stream",
          "text": [
            "Epoch 1/40\n",
            "1170/1170 [==============================] - 338s 289ms/step - loss: 167784924642803712.0000 - acc: 0.2187 - f_score: 0.2044 - TP_bkg: 0.0678 - TN_bkg: 0.5513 - FP_bkg: 0.1154 - FN_bkg: 0.2655 - TP_alert: 0.0570 - TN_alert: 0.5422 - FP_alert: 0.1245 - FN_alert: 0.2764 - TP_fall: 0.0530 - TN_fall: 0.5399 - FP_fall: 0.1268 - FN_fall: 0.2803 - val_loss: 238.6214 - val_acc: 0.0459 - val_f_score: 0.0339 - val_TP_bkg: 0.0068 - val_TN_bkg: 0.6519 - val_FP_bkg: 0.0148 - val_FN_bkg: 0.3265 - val_TP_alert: 0.0114 - val_TN_alert: 0.6507 - val_FP_alert: 0.0159 - val_FN_alert: 0.3220 - val_TP_fall: 0.0034 - val_TN_fall: 0.6564 - val_FP_fall: 0.0102 - val_FN_fall: 0.3299\n",
            "Epoch 2/40\n",
            "1170/1170 [==============================] - 334s 285ms/step - loss: 0.0321 - acc: 0.2154 - f_score: 0.0226 - TP_bkg: 0.0037 - TN_bkg: 0.6601 - FP_bkg: 0.0066 - FN_bkg: 0.3296 - TP_alert: 0.0048 - TN_alert: 0.6613 - FP_alert: 0.0054 - FN_alert: 0.3285 - TP_fall: 0.0040 - TN_fall: 0.6630 - FP_fall: 0.0037 - FN_fall: 0.3293 - val_loss: 1.3935 - val_acc: 0.0665 - val_f_score: 0.0241 - val_TP_bkg: 0.0011 - val_TN_bkg: 0.6530 - val_FP_bkg: 0.0137 - val_FN_bkg: 0.3322 - val_TP_alert: 0.0068 - val_TN_alert: 0.6519 - val_FP_alert: 0.0148 - val_FN_alert: 0.3265 - val_TP_fall: 0.0034 - val_TN_fall: 0.6598 - val_FP_fall: 0.0068 - val_FN_fall: 0.3299\n",
            "Epoch 3/40\n",
            "1170/1170 [==============================] - 328s 281ms/step - loss: 0.0287 - acc: 0.3700 - f_score: 0.0111 - TP_bkg: 0.0023 - TN_bkg: 0.6598 - FP_bkg: 0.0068 - FN_bkg: 0.3311 - TP_alert: 0.0020 - TN_alert: 0.6621 - FP_alert: 0.0046 - FN_alert: 0.3313 - TP_fall: 0.0034 - TN_fall: 0.6618 - FP_fall: 0.0048 - FN_fall: 0.3299 - val_loss: 1.0826 - val_acc: 0.8125 - val_f_score: 0.0165 - val_TP_bkg: 0.0011 - val_TN_bkg: 0.6530 - val_FP_bkg: 0.0137 - val_FN_bkg: 0.3322 - val_TP_alert: 0.0034 - val_TN_alert: 0.6519 - val_FP_alert: 0.0148 - val_FN_alert: 0.3299 - val_TP_fall: 0.0011 - val_TN_fall: 0.6576 - val_FP_fall: 0.0091 - val_FN_fall: 0.3322\n",
            "Epoch 4/40\n",
            "1170/1170 [==============================] - 322s 275ms/step - loss: 0.0282 - acc: 0.5122 - f_score: 0.0069 - TP_bkg: 8.5470e-04 - TN_bkg: 0.6618 - FP_bkg: 0.0048 - FN_bkg: 0.3325 - TP_alert: 0.0011 - TN_alert: 0.6601 - FP_alert: 0.0066 - FN_alert: 0.3322 - TP_fall: 0.0014 - TN_fall: 0.6607 - FP_fall: 0.0060 - FN_fall: 0.3319 - val_loss: 1.1074 - val_acc: 0.7669 - val_f_score: 0.0210 - val_TP_bkg: 0.0023 - val_TN_bkg: 0.6496 - val_FP_bkg: 0.0171 - val_FN_bkg: 0.3311 - val_TP_alert: 0.0046 - val_TN_alert: 0.6485 - val_FP_alert: 0.0182 - val_FN_alert: 0.3288 - val_TP_fall: 0.0023 - val_TN_fall: 0.6542 - val_FP_fall: 0.0125 - val_FN_fall: 0.3311\n",
            "Epoch 5/40\n",
            "1170/1170 [==============================] - 326s 279ms/step - loss: 0.0282 - acc: 0.6110 - f_score: 0.0061 - TP_bkg: 0.0014 - TN_bkg: 0.6618 - FP_bkg: 0.0048 - FN_bkg: 0.3319 - TP_alert: 2.8490e-04 - TN_alert: 0.6598 - FP_alert: 0.0068 - FN_alert: 0.3331 - TP_fall: 0.0017 - TN_fall: 0.6601 - FP_fall: 0.0066 - FN_fall: 0.3316 - val_loss: 1.0262 - val_acc: 0.8757 - val_f_score: 0.0126 - val_TP_bkg: 0.0023 - val_TN_bkg: 0.6621 - val_FP_bkg: 0.0046 - val_FN_bkg: 0.3311 - val_TP_alert: 0.0023 - val_TN_alert: 0.6621 - val_FP_alert: 0.0046 - val_FN_alert: 0.3311 - val_TP_fall: 0.0000e+00 - val_TN_fall: 0.6667 - val_FP_fall: 0.0000e+00 - val_FN_fall: 0.3333\n",
            "Epoch 6/40\n",
            "1170/1170 [==============================] - 328s 281ms/step - loss: 0.0281 - acc: 0.6120 - f_score: 0.0057 - TP_bkg: 2.8490e-04 - TN_bkg: 0.6618 - FP_bkg: 0.0048 - FN_bkg: 0.3331 - TP_alert: 0.0011 - TN_alert: 0.6635 - FP_alert: 0.0031 - FN_alert: 0.3322 - TP_fall: 5.6980e-04 - TN_fall: 0.6607 - FP_fall: 0.0060 - FN_fall: 0.3328 - val_loss: 1.0146 - val_acc: 0.6253 - val_f_score: 0.0057 - val_TP_bkg: 0.0000e+00 - val_TN_bkg: 0.6667 - val_FP_bkg: 0.0000e+00 - val_FN_bkg: 0.3333 - val_TP_alert: 0.0011 - val_TN_alert: 0.6644 - val_FP_alert: 0.0023 - val_FN_alert: 0.3322 - val_TP_fall: 0.0000e+00 - val_TN_fall: 0.6667 - val_FP_fall: 0.0000e+00 - val_FN_fall: 0.3333\n",
            "Epoch 7/40\n",
            "1170/1170 [==============================] - 325s 278ms/step - loss: 0.0287 - acc: 0.6290 - f_score: 0.0084 - TP_bkg: 8.5470e-04 - TN_bkg: 0.6607 - FP_bkg: 0.0060 - FN_bkg: 0.3325 - TP_alert: 5.6980e-04 - TN_alert: 0.6607 - FP_alert: 0.0060 - FN_alert: 0.3328 - TP_fall: 0.0023 - TN_fall: 0.6624 - FP_fall: 0.0043 - FN_fall: 0.3311 - val_loss: 1.4718 - val_acc: 0.8321 - val_f_score: 0.0296 - val_TP_bkg: 0.0068 - val_TN_bkg: 0.6667 - val_FP_bkg: 0.0000e+00 - val_FN_bkg: 0.3265 - val_TP_alert: 0.0034 - val_TN_alert: 0.6633 - val_FP_alert: 0.0034 - val_FN_alert: 0.3299 - val_TP_fall: 0.0046 - val_TN_fall: 0.6633 - val_FP_fall: 0.0034 - val_FN_fall: 0.3288\n",
            "Epoch 8/40\n",
            "1170/1170 [==============================] - 320s 274ms/step - loss: 0.0304 - acc: 0.5067 - f_score: 0.0372 - TP_bkg: 0.0068 - TN_bkg: 0.6593 - FP_bkg: 0.0074 - FN_bkg: 0.3265 - TP_alert: 0.0080 - TN_alert: 0.6595 - FP_alert: 0.0071 - FN_alert: 0.3254 - TP_fall: 0.0054 - TN_fall: 0.6598 - FP_fall: 0.0068 - FN_fall: 0.3279 - val_loss: 0.9641 - val_acc: 0.8814 - val_f_score: 0.0706 - val_TP_bkg: 0.0102 - val_TN_bkg: 0.6633 - val_FP_bkg: 0.0034 - val_FN_bkg: 0.3231 - val_TP_alert: 0.0159 - val_TN_alert: 0.6644 - val_FP_alert: 0.0023 - val_FN_alert: 0.3174 - val_TP_fall: 0.0137 - val_TN_fall: 0.6667 - val_FP_fall: 0.0000e+00 - val_FN_fall: 0.3197\n",
            "Epoch 9/40\n",
            "1170/1170 [==============================] - 314s 268ms/step - loss: 0.0277 - acc: 0.6491 - f_score: 0.1761 - TP_bkg: 0.0345 - TN_bkg: 0.6598 - FP_bkg: 0.0068 - FN_bkg: 0.2989 - TP_alert: 0.0348 - TN_alert: 0.6564 - FP_alert: 0.0103 - FN_alert: 0.2986 - TP_fall: 0.0362 - TN_fall: 0.6584 - FP_fall: 0.0083 - FN_fall: 0.2972 - val_loss: 0.9780 - val_acc: 0.6469 - val_f_score: 0.1060 - val_TP_bkg: 0.0171 - val_TN_bkg: 0.6644 - val_FP_bkg: 0.0023 - val_FN_bkg: 0.3163 - val_TP_alert: 0.0205 - val_TN_alert: 0.6655 - val_FP_alert: 0.0011 - val_FN_alert: 0.3129 - val_TP_fall: 0.0182 - val_TN_fall: 0.6644 - val_FP_fall: 0.0023 - val_FN_fall: 0.3151\n",
            "Epoch 10/40\n",
            "1170/1170 [==============================] - 326s 278ms/step - loss: 23867.9297 - acc: 0.5499 - f_score: 0.2064 - TP_bkg: 0.0413 - TN_bkg: 0.6353 - FP_bkg: 0.0313 - FN_bkg: 0.2920 - TP_alert: 0.0456 - TN_alert: 0.6311 - FP_alert: 0.0356 - FN_alert: 0.2878 - TP_fall: 0.0422 - TN_fall: 0.6299 - FP_fall: 0.0368 - FN_fall: 0.2912 - val_loss: 0.9169 - val_acc: 0.8093 - val_f_score: 0.2457 - val_TP_bkg: 0.0489 - val_TN_bkg: 0.6633 - val_FP_bkg: 0.0034 - val_FN_bkg: 0.2844 - val_TP_alert: 0.0444 - val_TN_alert: 0.6621 - val_FP_alert: 0.0046 - val_FN_alert: 0.2890 - val_TP_fall: 0.0444 - val_TN_fall: 0.6598 - val_FP_fall: 0.0068 - val_FN_fall: 0.2890\n",
            "Epoch 11/40\n",
            "1170/1170 [==============================] - 326s 278ms/step - loss: 0.0278 - acc: 0.5808 - f_score: 0.1912 - TP_bkg: 0.0328 - TN_bkg: 0.6544 - FP_bkg: 0.0123 - FN_bkg: 0.3006 - TP_alert: 0.0405 - TN_alert: 0.6536 - FP_alert: 0.0131 - FN_alert: 0.2929 - TP_fall: 0.0345 - TN_fall: 0.6558 - FP_fall: 0.0108 - FN_fall: 0.2989 - val_loss: 0.9075 - val_acc: 0.8096 - val_f_score: 0.2821 - val_TP_bkg: 0.0557 - val_TN_bkg: 0.6655 - val_FP_bkg: 0.0011 - val_FN_bkg: 0.2776 - val_TP_alert: 0.0592 - val_TN_alert: 0.6633 - val_FP_alert: 0.0034 - val_FN_alert: 0.2742 - val_TP_fall: 0.0523 - val_TN_fall: 0.6621 - val_FP_fall: 0.0046 - val_FN_fall: 0.2810\n",
            "Epoch 12/40\n",
            "1170/1170 [==============================] - 326s 278ms/step - loss: 0.0271 - acc: 0.6229 - f_score: 0.2682 - TP_bkg: 0.0573 - TN_bkg: 0.6544 - FP_bkg: 0.0123 - FN_bkg: 0.2761 - TP_alert: 0.0499 - TN_alert: 0.6516 - FP_alert: 0.0151 - FN_alert: 0.2835 - TP_fall: 0.0504 - TN_fall: 0.6547 - FP_fall: 0.0120 - FN_fall: 0.2829 - val_loss: 0.9491 - val_acc: 0.6456 - val_f_score: 0.3048 - val_TP_bkg: 0.0603 - val_TN_bkg: 0.6587 - val_FP_bkg: 0.0080 - val_FN_bkg: 0.2730 - val_TP_alert: 0.0569 - val_TN_alert: 0.6621 - val_FP_alert: 0.0046 - val_FN_alert: 0.2765 - val_TP_fall: 0.0603 - val_TN_fall: 0.6598 - val_FP_fall: 0.0068 - val_FN_fall: 0.2730\n",
            "Epoch 13/40\n",
            "1170/1170 [==============================] - 327s 279ms/step - loss: 0.0265 - acc: 0.5693 - f_score: 0.3336 - TP_bkg: 0.0644 - TN_bkg: 0.6482 - FP_bkg: 0.0185 - FN_bkg: 0.2689 - TP_alert: 0.0670 - TN_alert: 0.6507 - FP_alert: 0.0160 - FN_alert: 0.2664 - TP_fall: 0.0675 - TN_fall: 0.6507 - FP_fall: 0.0160 - FN_fall: 0.2658 - val_loss: 0.7851 - val_acc: 0.7639 - val_f_score: 0.4654 - val_TP_bkg: 0.0978 - val_TN_bkg: 0.6530 - val_FP_bkg: 0.0137 - val_FN_bkg: 0.2355 - val_TP_alert: 0.1092 - val_TN_alert: 0.6576 - val_FP_alert: 0.0091 - val_FN_alert: 0.2241 - val_TP_fall: 0.0990 - val_TN_fall: 0.6564 - val_FP_fall: 0.0102 - val_FN_fall: 0.2344\n",
            "Epoch 14/40\n",
            "1170/1170 [==============================] - 330s 282ms/step - loss: 3419.3181 - acc: 0.5668 - f_score: 0.1877 - TP_bkg: 0.0353 - TN_bkg: 0.6538 - FP_bkg: 0.0128 - FN_bkg: 0.2980 - TP_alert: 0.0410 - TN_alert: 0.6519 - FP_alert: 0.0148 - FN_alert: 0.2923 - TP_fall: 0.0385 - TN_fall: 0.6513 - FP_fall: 0.0154 - FN_fall: 0.2949 - val_loss: 1.0324 - val_acc: 0.4949 - val_f_score: 0.2461 - val_TP_bkg: 0.0444 - val_TN_bkg: 0.6564 - val_FP_bkg: 0.0102 - val_FN_bkg: 0.2890 - val_TP_alert: 0.0546 - val_TN_alert: 0.6621 - val_FP_alert: 0.0046 - val_FN_alert: 0.2787 - val_TP_fall: 0.0466 - val_TN_fall: 0.6621 - val_FP_fall: 0.0046 - val_FN_fall: 0.2867\n",
            "Epoch 15/40\n",
            "1170/1170 [==============================] - 322s 275ms/step - loss: 0.0889 - acc: 0.4254 - f_score: 0.2655 - TP_bkg: 0.0547 - TN_bkg: 0.6538 - FP_bkg: 0.0128 - FN_bkg: 0.2786 - TP_alert: 0.0561 - TN_alert: 0.6541 - FP_alert: 0.0125 - FN_alert: 0.2772 - TP_fall: 0.0470 - TN_fall: 0.6550 - FP_fall: 0.0117 - FN_fall: 0.2863 - val_loss: 0.7528 - val_acc: 0.8591 - val_f_score: 0.4939 - val_TP_bkg: 0.1024 - val_TN_bkg: 0.6655 - val_FP_bkg: 0.0011 - val_FN_bkg: 0.2309 - val_TP_alert: 0.1138 - val_TN_alert: 0.6644 - val_FP_alert: 0.0023 - val_FN_alert: 0.2196 - val_TP_fall: 0.0967 - val_TN_fall: 0.6598 - val_FP_fall: 0.0068 - val_FN_fall: 0.2366\n",
            "Epoch 16/40\n",
            "1170/1170 [==============================] - 326s 279ms/step - loss: 0.0271 - acc: 0.4504 - f_score: 0.2867 - TP_bkg: 0.0615 - TN_bkg: 0.6584 - FP_bkg: 0.0083 - FN_bkg: 0.2718 - TP_alert: 0.0538 - TN_alert: 0.6590 - FP_alert: 0.0077 - FN_alert: 0.2795 - TP_fall: 0.0610 - TN_fall: 0.6570 - FP_fall: 0.0097 - FN_fall: 0.2724 - val_loss: 0.7081 - val_acc: 0.7029 - val_f_score: 0.5643 - val_TP_bkg: 0.1195 - val_TN_bkg: 0.6610 - val_FP_bkg: 0.0057 - val_FN_bkg: 0.2139 - val_TP_alert: 0.1251 - val_TN_alert: 0.6633 - val_FP_alert: 0.0034 - val_FN_alert: 0.2082 - val_TP_fall: 0.1251 - val_TN_fall: 0.6564 - val_FP_fall: 0.0102 - val_FN_fall: 0.2082\n",
            "Epoch 17/40\n",
            "1170/1170 [==============================] - 328s 280ms/step - loss: 0.2875 - acc: 0.4088 - f_score: 0.2850 - TP_bkg: 0.0630 - TN_bkg: 0.6476 - FP_bkg: 0.0191 - FN_bkg: 0.2704 - TP_alert: 0.0584 - TN_alert: 0.6444 - FP_alert: 0.0222 - FN_alert: 0.2749 - TP_fall: 0.0587 - TN_fall: 0.6436 - FP_fall: 0.0231 - FN_fall: 0.2746 - val_loss: 0.9707 - val_acc: 0.3724 - val_f_score: 0.3581 - val_TP_bkg: 0.0660 - val_TN_bkg: 0.6598 - val_FP_bkg: 0.0068 - val_FN_bkg: 0.2673 - val_TP_alert: 0.0774 - val_TN_alert: 0.6667 - val_FP_alert: 0.0000e+00 - val_FN_alert: 0.2560 - val_TP_fall: 0.0683 - val_TN_fall: 0.6633 - val_FP_fall: 0.0034 - val_FN_fall: 0.2651\n",
            "Epoch 18/40\n",
            "1170/1170 [==============================] - 320s 273ms/step - loss: 0.0268 - acc: 0.4607 - f_score: 0.3601 - TP_bkg: 0.0801 - TN_bkg: 0.6533 - FP_bkg: 0.0134 - FN_bkg: 0.2533 - TP_alert: 0.0712 - TN_alert: 0.6541 - FP_alert: 0.0125 - FN_alert: 0.2621 - TP_fall: 0.0843 - TN_fall: 0.6544 - FP_fall: 0.0123 - FN_fall: 0.2490 - val_loss: 0.8913 - val_acc: 0.5528 - val_f_score: 0.5675 - val_TP_bkg: 0.1206 - val_TN_bkg: 0.6633 - val_FP_bkg: 0.0034 - val_FN_bkg: 0.2127 - val_TP_alert: 0.1286 - val_TN_alert: 0.6598 - val_FP_alert: 0.0068 - val_FN_alert: 0.2048 - val_TP_fall: 0.1308 - val_TN_fall: 0.6576 - val_FP_fall: 0.0091 - val_FN_fall: 0.2025\n",
            "Epoch 19/40\n",
            "1170/1170 [==============================] - 326s 279ms/step - loss: nan - acc: 0.9347 - f_score: nan - TP_bkg: nan - TN_bkg: nan - FP_bkg: nan - FN_bkg: nan - TP_alert: nan - TN_alert: nan - FP_alert: nan - FN_alert: nan - TP_fall: nan - TN_fall: nan - FP_fall: nan - FN_fall: nan - val_loss: nan - val_acc: 0.9504 - val_f_score: nan - val_TP_bkg: nan - val_TN_bkg: nan - val_FP_bkg: nan - val_FN_bkg: nan - val_TP_alert: nan - val_TN_alert: nan - val_FP_alert: nan - val_FN_alert: nan - val_TP_fall: nan - val_TN_fall: nan - val_FP_fall: nan - val_FN_fall: nan\n",
            "Epoch 20/40\n",
            "1170/1170 [==============================] - 320s 273ms/step - loss: nan - acc: 0.9550 - f_score: nan - TP_bkg: nan - TN_bkg: nan - FP_bkg: nan - FN_bkg: nan - TP_alert: nan - TN_alert: nan - FP_alert: nan - FN_alert: nan - TP_fall: nan - TN_fall: nan - FP_fall: nan - FN_fall: nan - val_loss: nan - val_acc: 0.9504 - val_f_score: nan - val_TP_bkg: nan - val_TN_bkg: nan - val_FP_bkg: nan - val_FN_bkg: nan - val_TP_alert: nan - val_TN_alert: nan - val_FP_alert: nan - val_FN_alert: nan - val_TP_fall: nan - val_TN_fall: nan - val_FP_fall: nan - val_FN_fall: nan\n",
            "Epoch 21/40\n",
            "1170/1170 [==============================] - 324s 277ms/step - loss: nan - acc: 0.9550 - f_score: nan - TP_bkg: nan - TN_bkg: nan - FP_bkg: nan - FN_bkg: nan - TP_alert: nan - TN_alert: nan - FP_alert: nan - FN_alert: nan - TP_fall: nan - TN_fall: nan - FP_fall: nan - FN_fall: nan - val_loss: nan - val_acc: 0.9504 - val_f_score: nan - val_TP_bkg: nan - val_TN_bkg: nan - val_FP_bkg: nan - val_FN_bkg: nan - val_TP_alert: nan - val_TN_alert: nan - val_FP_alert: nan - val_FN_alert: nan - val_TP_fall: nan - val_TN_fall: nan - val_FP_fall: nan - val_FN_fall: nan\n",
            "Epoch 22/40\n",
            "1170/1170 [==============================] - 325s 278ms/step - loss: nan - acc: 0.9550 - f_score: nan - TP_bkg: nan - TN_bkg: nan - FP_bkg: nan - FN_bkg: nan - TP_alert: nan - TN_alert: nan - FP_alert: nan - FN_alert: nan - TP_fall: nan - TN_fall: nan - FP_fall: nan - FN_fall: nan - val_loss: nan - val_acc: 0.9504 - val_f_score: nan - val_TP_bkg: nan - val_TN_bkg: nan - val_FP_bkg: nan - val_FN_bkg: nan - val_TP_alert: nan - val_TN_alert: nan - val_FP_alert: nan - val_FN_alert: nan - val_TP_fall: nan - val_TN_fall: nan - val_FP_fall: nan - val_FN_fall: nan\n",
            "Epoch 23/40\n",
            "1170/1170 [==============================] - 331s 283ms/step - loss: nan - acc: 0.9550 - f_score: nan - TP_bkg: nan - TN_bkg: nan - FP_bkg: nan - FN_bkg: nan - TP_alert: nan - TN_alert: nan - FP_alert: nan - FN_alert: nan - TP_fall: nan - TN_fall: nan - FP_fall: nan - FN_fall: nan - val_loss: nan - val_acc: 0.9504 - val_f_score: nan - val_TP_bkg: nan - val_TN_bkg: nan - val_FP_bkg: nan - val_FN_bkg: nan - val_TP_alert: nan - val_TN_alert: nan - val_FP_alert: nan - val_FN_alert: nan - val_TP_fall: nan - val_TN_fall: nan - val_FP_fall: nan - val_FN_fall: nan\n",
            "Epoch 24/40\n",
            "1170/1170 [==============================] - 327s 279ms/step - loss: nan - acc: 0.9550 - f_score: nan - TP_bkg: nan - TN_bkg: nan - FP_bkg: nan - FN_bkg: nan - TP_alert: nan - TN_alert: nan - FP_alert: nan - FN_alert: nan - TP_fall: nan - TN_fall: nan - FP_fall: nan - FN_fall: nan - val_loss: nan - val_acc: 0.9504 - val_f_score: nan - val_TP_bkg: nan - val_TN_bkg: nan - val_FP_bkg: nan - val_FN_bkg: nan - val_TP_alert: nan - val_TN_alert: nan - val_FP_alert: nan - val_FN_alert: nan - val_TP_fall: nan - val_TN_fall: nan - val_FP_fall: nan - val_FN_fall: nan\n",
            "Epoch 25/40\n",
            "1170/1170 [==============================] - 328s 280ms/step - loss: nan - acc: 0.9550 - f_score: nan - TP_bkg: nan - TN_bkg: nan - FP_bkg: nan - FN_bkg: nan - TP_alert: nan - TN_alert: nan - FP_alert: nan - FN_alert: nan - TP_fall: nan - TN_fall: nan - FP_fall: nan - FN_fall: nan - val_loss: nan - val_acc: 0.9504 - val_f_score: nan - val_TP_bkg: nan - val_TN_bkg: nan - val_FP_bkg: nan - val_FN_bkg: nan - val_TP_alert: nan - val_TN_alert: nan - val_FP_alert: nan - val_FN_alert: nan - val_TP_fall: nan - val_TN_fall: nan - val_FP_fall: nan - val_FN_fall: nan\n",
            "Epoch 26/40\n",
            "1170/1170 [==============================] - 320s 273ms/step - loss: nan - acc: 0.9550 - f_score: nan - TP_bkg: nan - TN_bkg: nan - FP_bkg: nan - FN_bkg: nan - TP_alert: nan - TN_alert: nan - FP_alert: nan - FN_alert: nan - TP_fall: nan - TN_fall: nan - FP_fall: nan - FN_fall: nan - val_loss: nan - val_acc: 0.9504 - val_f_score: nan - val_TP_bkg: nan - val_TN_bkg: nan - val_FP_bkg: nan - val_FN_bkg: nan - val_TP_alert: nan - val_TN_alert: nan - val_FP_alert: nan - val_FN_alert: nan - val_TP_fall: nan - val_TN_fall: nan - val_FP_fall: nan - val_FN_fall: nan\n",
            "Epoch 27/40\n",
            "1170/1170 [==============================] - 320s 274ms/step - loss: nan - acc: 0.9550 - f_score: nan - TP_bkg: nan - TN_bkg: nan - FP_bkg: nan - FN_bkg: nan - TP_alert: nan - TN_alert: nan - FP_alert: nan - FN_alert: nan - TP_fall: nan - TN_fall: nan - FP_fall: nan - FN_fall: nan - val_loss: nan - val_acc: 0.9504 - val_f_score: nan - val_TP_bkg: nan - val_TN_bkg: nan - val_FP_bkg: nan - val_FN_bkg: nan - val_TP_alert: nan - val_TN_alert: nan - val_FP_alert: nan - val_FN_alert: nan - val_TP_fall: nan - val_TN_fall: nan - val_FP_fall: nan - val_FN_fall: nan\n",
            "Epoch 28/40\n",
            "1170/1170 [==============================] - 311s 266ms/step - loss: nan - acc: 0.9550 - f_score: nan - TP_bkg: nan - TN_bkg: nan - FP_bkg: nan - FN_bkg: nan - TP_alert: nan - TN_alert: nan - FP_alert: nan - FN_alert: nan - TP_fall: nan - TN_fall: nan - FP_fall: nan - FN_fall: nan - val_loss: nan - val_acc: 0.9504 - val_f_score: nan - val_TP_bkg: nan - val_TN_bkg: nan - val_FP_bkg: nan - val_FN_bkg: nan - val_TP_alert: nan - val_TN_alert: nan - val_FP_alert: nan - val_FN_alert: nan - val_TP_fall: nan - val_TN_fall: nan - val_FP_fall: nan - val_FN_fall: nan\n",
            "Epoch 29/40\n",
            " 330/1170 [=======>......................] - ETA: 3:39 - loss: nan - acc: 0.9529 - f_score: nan - TP_bkg: nan - TN_bkg: nan - FP_bkg: nan - FN_bkg: nan - TP_alert: nan - TN_alert: nan - FP_alert: nan - FN_alert: nan - TP_fall: nan - TN_fall: nan - FP_fall: nan - FN_fall: nanBuffered data was truncated after reaching the output size limit."
          ],
          "name": "stdout"
        }
      ]
    },
    {
      "cell_type": "markdown",
      "metadata": {
        "id": "kWmbbM1M6HWm"
      },
      "source": [
        "# **ConvLSTM**"
      ]
    },
    {
      "cell_type": "code",
      "metadata": {
        "id": "Ngma-RBG6c_d",
        "outputId": "f3fc5402-8ced-4b67-cf61-0ed6e81ad4c3",
        "colab": {
          "base_uri": "https://localhost:8080/",
          "height": 650
        }
      },
      "source": [
        "model_m = keras.Sequential()\n",
        "model_m.add(Conv1D(filters=64, kernel_size=3, activation='relu', input_shape=(num_time_periods, num_sensors)))\n",
        "model_m.add(MaxPooling1D(2))\n",
        "model_m.add(Conv1D(filters=64, kernel_size=3, activation='relu'))\n",
        "model_m.add(MaxPooling1D(2))\n",
        "model_m.add(Conv1D(filters=64, kernel_size=3, activation='relu'))\n",
        "model_m.add(MaxPooling1D(2))\n",
        "model_m.add(Conv1D(filters=64, kernel_size=3, activation='relu'))\n",
        "model_m.add(MaxPooling1D(2))\n",
        "model_m.add(LSTM(32, activation='relu', return_sequences=True))\n",
        "model_m.add(Dropout(0.5))\n",
        "model_m.add(LSTM(32, activation='relu'))\n",
        "model_m.add(Dropout(0.5))\n",
        "model_m.add(Dense(512))\n",
        "model_m.add(Dense(num_classes, activation='softmax'))\n",
        "model_m.summary()"
      ],
      "execution_count": null,
      "outputs": [
        {
          "output_type": "stream",
          "text": [
            "Model: \"sequential_1\"\n",
            "_________________________________________________________________\n",
            "Layer (type)                 Output Shape              Param #   \n",
            "=================================================================\n",
            "conv1d_4 (Conv1D)            (None, 254, 64)           1792      \n",
            "_________________________________________________________________\n",
            "max_pooling1d_4 (MaxPooling1 (None, 127, 64)           0         \n",
            "_________________________________________________________________\n",
            "conv1d_5 (Conv1D)            (None, 125, 64)           12352     \n",
            "_________________________________________________________________\n",
            "max_pooling1d_5 (MaxPooling1 (None, 62, 64)            0         \n",
            "_________________________________________________________________\n",
            "conv1d_6 (Conv1D)            (None, 60, 64)            12352     \n",
            "_________________________________________________________________\n",
            "max_pooling1d_6 (MaxPooling1 (None, 30, 64)            0         \n",
            "_________________________________________________________________\n",
            "conv1d_7 (Conv1D)            (None, 28, 64)            12352     \n",
            "_________________________________________________________________\n",
            "max_pooling1d_7 (MaxPooling1 (None, 14, 64)            0         \n",
            "_________________________________________________________________\n",
            "lstm_2 (LSTM)                (None, 14, 32)            12416     \n",
            "_________________________________________________________________\n",
            "dropout_2 (Dropout)          (None, 14, 32)            0         \n",
            "_________________________________________________________________\n",
            "lstm_3 (LSTM)                (None, 32)                8320      \n",
            "_________________________________________________________________\n",
            "dropout_3 (Dropout)          (None, 32)                0         \n",
            "_________________________________________________________________\n",
            "dense_2 (Dense)              (None, 512)               16896     \n",
            "_________________________________________________________________\n",
            "dense_3 (Dense)              (None, 3)                 1539      \n",
            "=================================================================\n",
            "Total params: 78,019\n",
            "Trainable params: 78,019\n",
            "Non-trainable params: 0\n",
            "_________________________________________________________________\n"
          ],
          "name": "stdout"
        }
      ]
    },
    {
      "cell_type": "code",
      "metadata": {
        "id": "C_qKTrDU6dE5",
        "outputId": "703da804-523b-449b-e34f-dd6169fecffb",
        "colab": {
          "base_uri": "https://localhost:8080/",
          "height": 635
        }
      },
      "source": [
        "start_time = time.time()\n",
        "callbacks_list = [keras.callbacks.ModelCheckpoint(filepath='./drive/My Drive/FallDetection/ConvLSTM_Model.h5',\n",
        "                                                  monitor='val_loss', save_best_only=True)]#keras.callbacks.EarlyStopping(monitor='acc', patience=1)]\n",
        "\n",
        "optimizer = keras.optimizers.Adam(clipvalue=0.5)\n",
        "model_m.compile(loss='categorical_crossentropy',\n",
        "                optimizer=optimizer,\n",
        "                metrics=_metrics)\n",
        "\n",
        "BATCH_SIZE = 64\n",
        "EPOCHS = 100\n",
        "\n",
        "history = model_m.fit(X_train,\n",
        "                      y_train,\n",
        "                      batch_size=BATCH_SIZE,\n",
        "                      epochs=EPOCHS,\n",
        "                      callbacks=callbacks_list,\n",
        "                      validation_split=0.2,\n",
        "                      verbose=1,\n",
        "                      class_weight=class_weight)\n",
        "\n",
        "json.dump(history.history, open(\"./drive/My Drive/FallDetection/ConvLSTM_History.pkl\", \"w\"))\n",
        "print(\"--- %s seconds ---\" % (time.time() - start_time))"
      ],
      "execution_count": null,
      "outputs": [
        {
          "output_type": "stream",
          "text": [
            "Epoch 1/100\n",
            "1170/1170 [==============================] - 126s 108ms/step - loss: 0.0180 - acc: 0.8462 - f_score: 0.8120 - TP_bkg: 0.2564 - TN_bkg: 0.6407 - FP_bkg: 0.0259 - FN_bkg: 0.0769 - TP_alert: 0.2547 - TN_alert: 0.6462 - FP_alert: 0.0205 - FN_alert: 0.0786 - TP_fall: 0.2550 - TN_fall: 0.6419 - FP_fall: 0.0248 - FN_fall: 0.0783 - val_loss: 0.4982 - val_acc: 0.8590 - val_f_score: 0.8642 - val_TP_bkg: 0.2628 - val_TN_bkg: 0.6451 - val_FP_bkg: 0.0216 - val_FN_bkg: 0.0705 - val_TP_alert: 0.2662 - val_TN_alert: 0.6473 - val_FP_alert: 0.0193 - val_FN_alert: 0.0671 - val_TP_fall: 0.2730 - val_TN_fall: 0.6428 - val_FP_fall: 0.0239 - val_FN_fall: 0.0603\n",
            "Epoch 2/100\n",
            "1170/1170 [==============================] - 124s 106ms/step - loss: 0.0130 - acc: 0.8861 - f_score: 0.8870 - TP_bkg: 0.2912 - TN_bkg: 0.6390 - FP_bkg: 0.0276 - FN_bkg: 0.0422 - TP_alert: 0.2883 - TN_alert: 0.6419 - FP_alert: 0.0248 - FN_alert: 0.0450 - TP_fall: 0.2897 - TN_fall: 0.6442 - FP_fall: 0.0225 - FN_fall: 0.0436 - val_loss: 0.2719 - val_acc: 0.9106 - val_f_score: 0.9117 - val_TP_bkg: 0.2969 - val_TN_bkg: 0.6416 - val_FP_bkg: 0.0250 - val_FN_bkg: 0.0364 - val_TP_alert: 0.3015 - val_TN_alert: 0.6405 - val_FP_alert: 0.0262 - val_FN_alert: 0.0319 - val_TP_fall: 0.3026 - val_TN_fall: 0.6496 - val_FP_fall: 0.0171 - val_FN_fall: 0.0307\n",
            "Epoch 3/100\n",
            "1170/1170 [==============================] - 115s 98ms/step - loss: 0.0103 - acc: 0.8983 - f_score: 0.8990 - TP_bkg: 0.2940 - TN_bkg: 0.6376 - FP_bkg: 0.0291 - FN_bkg: 0.0393 - TP_alert: 0.2977 - TN_alert: 0.6407 - FP_alert: 0.0259 - FN_alert: 0.0356 - TP_fall: 0.2980 - TN_fall: 0.6396 - FP_fall: 0.0271 - FN_fall: 0.0353 - val_loss: 0.2102 - val_acc: 0.9313 - val_f_score: 0.9315 - val_TP_bkg: 0.3094 - val_TN_bkg: 0.6473 - val_FP_bkg: 0.0193 - val_FN_bkg: 0.0239 - val_TP_alert: 0.3094 - val_TN_alert: 0.6485 - val_FP_alert: 0.0182 - val_FN_alert: 0.0239 - val_TP_fall: 0.3129 - val_TN_fall: 0.6507 - val_FP_fall: 0.0159 - val_FN_fall: 0.0205\n",
            "Epoch 4/100\n",
            "1170/1170 [==============================] - 115s 98ms/step - loss: 0.0101 - acc: 0.9039 - f_score: 0.9048 - TP_bkg: 0.2997 - TN_bkg: 0.6410 - FP_bkg: 0.0256 - FN_bkg: 0.0336 - TP_alert: 0.2949 - TN_alert: 0.6390 - FP_alert: 0.0276 - FN_alert: 0.0385 - TP_fall: 0.2940 - TN_fall: 0.6370 - FP_fall: 0.0296 - FN_fall: 0.0393 - val_loss: 0.1803 - val_acc: 0.9458 - val_f_score: 0.9458 - val_TP_bkg: 0.3117 - val_TN_bkg: 0.6473 - val_FP_bkg: 0.0193 - val_FN_bkg: 0.0216 - val_TP_alert: 0.3151 - val_TN_alert: 0.6507 - val_FP_alert: 0.0159 - val_FN_alert: 0.0182 - val_TP_fall: 0.3185 - val_TN_fall: 0.6530 - val_FP_fall: 0.0137 - val_FN_fall: 0.0148\n",
            "Epoch 5/100\n",
            "1170/1170 [==============================] - 115s 98ms/step - loss: 0.0116 - acc: 0.9010 - f_score: 0.8998 - TP_bkg: 0.2954 - TN_bkg: 0.6399 - FP_bkg: 0.0268 - FN_bkg: 0.0379 - TP_alert: 0.2895 - TN_alert: 0.6373 - FP_alert: 0.0293 - FN_alert: 0.0439 - TP_fall: 0.3014 - TN_fall: 0.6459 - FP_fall: 0.0208 - FN_fall: 0.0319 - val_loss: 0.3933 - val_acc: 0.8713 - val_f_score: 0.8713 - val_TP_bkg: 0.2912 - val_TN_bkg: 0.6291 - val_FP_bkg: 0.0375 - val_FN_bkg: 0.0421 - val_TP_alert: 0.2901 - val_TN_alert: 0.6337 - val_FP_alert: 0.0330 - val_FN_alert: 0.0432 - val_TP_fall: 0.2969 - val_TN_fall: 0.6382 - val_FP_fall: 0.0284 - val_FN_fall: 0.0364\n",
            "Epoch 6/100\n",
            "1170/1170 [==============================] - 114s 98ms/step - loss: 0.0087 - acc: 0.9086 - f_score: 0.9090 - TP_bkg: 0.3023 - TN_bkg: 0.6436 - FP_bkg: 0.0231 - FN_bkg: 0.0311 - TP_alert: 0.2986 - TN_alert: 0.6385 - FP_alert: 0.0282 - FN_alert: 0.0348 - TP_fall: 0.3006 - TN_fall: 0.6399 - FP_fall: 0.0268 - FN_fall: 0.0328 - val_loss: 0.2185 - val_acc: 0.9317 - val_f_score: 0.9322 - val_TP_bkg: 0.3026 - val_TN_bkg: 0.6394 - val_FP_bkg: 0.0273 - val_FN_bkg: 0.0307 - val_TP_alert: 0.3072 - val_TN_alert: 0.6451 - val_FP_alert: 0.0216 - val_FN_alert: 0.0262 - val_TP_fall: 0.3129 - val_TN_fall: 0.6496 - val_FP_fall: 0.0171 - val_FN_fall: 0.0205\n",
            "Epoch 7/100\n",
            "1170/1170 [==============================] - 115s 98ms/step - loss: 0.0089 - acc: 0.9078 - f_score: 0.9078 - TP_bkg: 0.3023 - TN_bkg: 0.6399 - FP_bkg: 0.0268 - FN_bkg: 0.0311 - TP_alert: 0.2986 - TN_alert: 0.6379 - FP_alert: 0.0288 - FN_alert: 0.0348 - TP_fall: 0.2977 - TN_fall: 0.6385 - FP_fall: 0.0282 - FN_fall: 0.0356 - val_loss: 0.1796 - val_acc: 0.9342 - val_f_score: 0.9345 - val_TP_bkg: 0.3060 - val_TN_bkg: 0.6439 - val_FP_bkg: 0.0228 - val_FN_bkg: 0.0273 - val_TP_alert: 0.3072 - val_TN_alert: 0.6451 - val_FP_alert: 0.0216 - val_FN_alert: 0.0262 - val_TP_fall: 0.3197 - val_TN_fall: 0.6553 - val_FP_fall: 0.0114 - val_FN_fall: 0.0137\n",
            "Epoch 8/100\n",
            "1170/1170 [==============================] - 113s 96ms/step - loss: 0.0083 - acc: 0.9097 - f_score: 0.9097 - TP_bkg: 0.3040 - TN_bkg: 0.6422 - FP_bkg: 0.0245 - FN_bkg: 0.0293 - TP_alert: 0.2974 - TN_alert: 0.6368 - FP_alert: 0.0299 - FN_alert: 0.0359 - TP_fall: 0.3011 - TN_fall: 0.6413 - FP_fall: 0.0254 - FN_fall: 0.0322 - val_loss: 0.2134 - val_acc: 0.9356 - val_f_score: 0.9358 - val_TP_bkg: 0.3106 - val_TN_bkg: 0.6462 - val_FP_bkg: 0.0205 - val_FN_bkg: 0.0228 - val_TP_alert: 0.3106 - val_TN_alert: 0.6439 - val_FP_alert: 0.0228 - val_FN_alert: 0.0228 - val_TP_fall: 0.3163 - val_TN_fall: 0.6519 - val_FP_fall: 0.0148 - val_FN_fall: 0.0171\n",
            "Epoch 9/100\n",
            "1170/1170 [==============================] - 112s 96ms/step - loss: 0.0079 - acc: 0.9060 - f_score: 0.9059 - TP_bkg: 0.2983 - TN_bkg: 0.6385 - FP_bkg: 0.0282 - FN_bkg: 0.0350 - TP_alert: 0.2952 - TN_alert: 0.6359 - FP_alert: 0.0308 - FN_alert: 0.0382 - TP_fall: 0.2986 - TN_fall: 0.6405 - FP_fall: 0.0262 - FN_fall: 0.0348 - val_loss: 0.2111 - val_acc: 0.9430 - val_f_score: 0.9428 - val_TP_bkg: 0.3106 - val_TN_bkg: 0.6451 - val_FP_bkg: 0.0216 - val_FN_bkg: 0.0228 - val_TP_alert: 0.3106 - val_TN_alert: 0.6462 - val_FP_alert: 0.0205 - val_FN_alert: 0.0228 - val_TP_fall: 0.3140 - val_TN_fall: 0.6530 - val_FP_fall: 0.0137 - val_FN_fall: 0.0193\n",
            "Epoch 10/100\n",
            "1170/1170 [==============================] - 114s 97ms/step - loss: 0.0073 - acc: 0.9214 - f_score: 0.9214 - TP_bkg: 0.3071 - TN_bkg: 0.6470 - FP_bkg: 0.0197 - FN_bkg: 0.0262 - TP_alert: 0.3057 - TN_alert: 0.6436 - FP_alert: 0.0231 - FN_alert: 0.0276 - TP_fall: 0.3017 - TN_fall: 0.6399 - FP_fall: 0.0268 - FN_fall: 0.0316 - val_loss: 0.2658 - val_acc: 0.9124 - val_f_score: 0.9124 - val_TP_bkg: 0.2981 - val_TN_bkg: 0.6348 - val_FP_bkg: 0.0319 - val_FN_bkg: 0.0353 - val_TP_alert: 0.2992 - val_TN_alert: 0.6360 - val_FP_alert: 0.0307 - val_FN_alert: 0.0341 - val_TP_fall: 0.3060 - val_TN_fall: 0.6473 - val_FP_fall: 0.0193 - val_FN_fall: 0.0273\n",
            "Epoch 11/100\n",
            "1170/1170 [==============================] - 112s 96ms/step - loss: 0.0077 - acc: 0.9135 - f_score: 0.9134 - TP_bkg: 0.2997 - TN_bkg: 0.6393 - FP_bkg: 0.0274 - FN_bkg: 0.0336 - TP_alert: 0.3006 - TN_alert: 0.6407 - FP_alert: 0.0259 - FN_alert: 0.0328 - TP_fall: 0.3014 - TN_fall: 0.6393 - FP_fall: 0.0274 - FN_fall: 0.0319 - val_loss: 0.3266 - val_acc: 0.8809 - val_f_score: 0.8811 - val_TP_bkg: 0.2912 - val_TN_bkg: 0.6280 - val_FP_bkg: 0.0387 - val_FN_bkg: 0.0421 - val_TP_alert: 0.2958 - val_TN_alert: 0.6314 - val_FP_alert: 0.0353 - val_FN_alert: 0.0375 - val_TP_fall: 0.2992 - val_TN_fall: 0.6360 - val_FP_fall: 0.0307 - val_FN_fall: 0.0341\n",
            "Epoch 12/100\n",
            "1170/1170 [==============================] - 114s 97ms/step - loss: 0.0077 - acc: 0.9072 - f_score: 0.9072 - TP_bkg: 0.3009 - TN_bkg: 0.6439 - FP_bkg: 0.0228 - FN_bkg: 0.0325 - TP_alert: 0.2980 - TN_alert: 0.6396 - FP_alert: 0.0271 - FN_alert: 0.0353 - TP_fall: 0.2949 - TN_fall: 0.6359 - FP_fall: 0.0308 - FN_fall: 0.0385 - val_loss: 0.2526 - val_acc: 0.9255 - val_f_score: 0.9251 - val_TP_bkg: 0.2958 - val_TN_bkg: 0.6337 - val_FP_bkg: 0.0330 - val_FN_bkg: 0.0375 - val_TP_alert: 0.3083 - val_TN_alert: 0.6439 - val_FP_alert: 0.0228 - val_FN_alert: 0.0250 - val_TP_fall: 0.3117 - val_TN_fall: 0.6485 - val_FP_fall: 0.0182 - val_FN_fall: 0.0216\n",
            "Epoch 13/100\n",
            "1170/1170 [==============================] - 118s 101ms/step - loss: 0.0071 - acc: 0.9216 - f_score: 0.9216 - TP_bkg: 0.3057 - TN_bkg: 0.6442 - FP_bkg: 0.0225 - FN_bkg: 0.0276 - TP_alert: 0.3068 - TN_alert: 0.6453 - FP_alert: 0.0214 - FN_alert: 0.0265 - TP_fall: 0.3060 - TN_fall: 0.6436 - FP_fall: 0.0231 - FN_fall: 0.0274 - val_loss: 0.1998 - val_acc: 0.9370 - val_f_score: 0.9372 - val_TP_bkg: 0.3060 - val_TN_bkg: 0.6416 - val_FP_bkg: 0.0250 - val_FN_bkg: 0.0273 - val_TP_alert: 0.3083 - val_TN_alert: 0.6416 - val_FP_alert: 0.0250 - val_FN_alert: 0.0250 - val_TP_fall: 0.3208 - val_TN_fall: 0.6553 - val_FP_fall: 0.0114 - val_FN_fall: 0.0125\n",
            "Epoch 14/100\n",
            "1170/1170 [==============================] - 114s 98ms/step - loss: 0.0069 - acc: 0.9246 - f_score: 0.9249 - TP_bkg: 0.3091 - TN_bkg: 0.6464 - FP_bkg: 0.0202 - FN_bkg: 0.0242 - TP_alert: 0.3097 - TN_alert: 0.6467 - FP_alert: 0.0199 - FN_alert: 0.0236 - TP_fall: 0.3085 - TN_fall: 0.6473 - FP_fall: 0.0194 - FN_fall: 0.0248 - val_loss: 0.1946 - val_acc: 0.9321 - val_f_score: 0.9321 - val_TP_bkg: 0.3049 - val_TN_bkg: 0.6394 - val_FP_bkg: 0.0273 - val_FN_bkg: 0.0284 - val_TP_alert: 0.3129 - val_TN_alert: 0.6473 - val_FP_alert: 0.0193 - val_FN_alert: 0.0205 - val_TP_fall: 0.3083 - val_TN_fall: 0.6473 - val_FP_fall: 0.0193 - val_FN_fall: 0.0250\n",
            "Epoch 15/100\n",
            "1170/1170 [==============================] - 116s 99ms/step - loss: 0.0064 - acc: 0.9229 - f_score: 0.9229 - TP_bkg: 0.3006 - TN_bkg: 0.6405 - FP_bkg: 0.0262 - FN_bkg: 0.0328 - TP_alert: 0.3094 - TN_alert: 0.6482 - FP_alert: 0.0185 - FN_alert: 0.0239 - TP_fall: 0.3071 - TN_fall: 0.6442 - FP_fall: 0.0225 - FN_fall: 0.0262 - val_loss: 0.2317 - val_acc: 0.9245 - val_f_score: 0.9243 - val_TP_bkg: 0.3038 - val_TN_bkg: 0.6394 - val_FP_bkg: 0.0273 - val_FN_bkg: 0.0296 - val_TP_alert: 0.3049 - val_TN_alert: 0.6382 - val_FP_alert: 0.0284 - val_FN_alert: 0.0284 - val_TP_fall: 0.3083 - val_TN_fall: 0.6451 - val_FP_fall: 0.0216 - val_FN_fall: 0.0250\n",
            "Epoch 16/100\n",
            "1170/1170 [==============================] - 116s 99ms/step - loss: 0.0063 - acc: 0.9157 - f_score: 0.9154 - TP_bkg: 0.3048 - TN_bkg: 0.6416 - FP_bkg: 0.0251 - FN_bkg: 0.0285 - TP_alert: 0.3020 - TN_alert: 0.6402 - FP_alert: 0.0265 - FN_alert: 0.0313 - TP_fall: 0.3031 - TN_fall: 0.6402 - FP_fall: 0.0265 - FN_fall: 0.0302 - val_loss: 0.1431 - val_acc: 0.9476 - val_f_score: 0.9476 - val_TP_bkg: 0.3106 - val_TN_bkg: 0.6439 - val_FP_bkg: 0.0228 - val_FN_bkg: 0.0228 - val_TP_alert: 0.3151 - val_TN_alert: 0.6485 - val_FP_alert: 0.0182 - val_FN_alert: 0.0182 - val_TP_fall: 0.3163 - val_TN_fall: 0.6519 - val_FP_fall: 0.0148 - val_FN_fall: 0.0171\n",
            "Epoch 17/100\n",
            "1170/1170 [==============================] - 118s 101ms/step - loss: 0.0061 - acc: 0.9233 - f_score: 0.9232 - TP_bkg: 0.3074 - TN_bkg: 0.6447 - FP_bkg: 0.0219 - FN_bkg: 0.0259 - TP_alert: 0.3043 - TN_alert: 0.6416 - FP_alert: 0.0251 - FN_alert: 0.0291 - TP_fall: 0.3103 - TN_fall: 0.6479 - FP_fall: 0.0188 - FN_fall: 0.0231 - val_loss: 0.1437 - val_acc: 0.9507 - val_f_score: 0.9502 - val_TP_bkg: 0.3151 - val_TN_bkg: 0.6485 - val_FP_bkg: 0.0182 - val_FN_bkg: 0.0182 - val_TP_alert: 0.3174 - val_TN_alert: 0.6519 - val_FP_alert: 0.0148 - val_FN_alert: 0.0159 - val_TP_fall: 0.3197 - val_TN_fall: 0.6553 - val_FP_fall: 0.0114 - val_FN_fall: 0.0137\n",
            "Epoch 18/100\n",
            "1170/1170 [==============================] - 113s 96ms/step - loss: 0.0067 - acc: 0.9136 - f_score: 0.9131 - TP_bkg: 0.3054 - TN_bkg: 0.6425 - FP_bkg: 0.0242 - FN_bkg: 0.0279 - TP_alert: 0.3011 - TN_alert: 0.6390 - FP_alert: 0.0276 - FN_alert: 0.0322 - TP_fall: 0.3074 - TN_fall: 0.6462 - FP_fall: 0.0205 - FN_fall: 0.0259 - val_loss: 0.1717 - val_acc: 0.9427 - val_f_score: 0.9427 - val_TP_bkg: 0.3106 - val_TN_bkg: 0.6485 - val_FP_bkg: 0.0182 - val_FN_bkg: 0.0228 - val_TP_alert: 0.3129 - val_TN_alert: 0.6485 - val_FP_alert: 0.0182 - val_FN_alert: 0.0205 - val_TP_fall: 0.3140 - val_TN_fall: 0.6542 - val_FP_fall: 0.0125 - val_FN_fall: 0.0193\n",
            "Epoch 19/100\n",
            "1170/1170 [==============================] - 111s 95ms/step - loss: 0.0062 - acc: 0.9229 - f_score: 0.9230 - TP_bkg: 0.3077 - TN_bkg: 0.6462 - FP_bkg: 0.0205 - FN_bkg: 0.0256 - TP_alert: 0.3074 - TN_alert: 0.6450 - FP_alert: 0.0217 - FN_alert: 0.0259 - TP_fall: 0.3097 - TN_fall: 0.6479 - FP_fall: 0.0188 - FN_fall: 0.0236 - val_loss: 0.1755 - val_acc: 0.9410 - val_f_score: 0.9408 - val_TP_bkg: 0.3060 - val_TN_bkg: 0.6428 - val_FP_bkg: 0.0239 - val_FN_bkg: 0.0273 - val_TP_alert: 0.3117 - val_TN_alert: 0.6462 - val_FP_alert: 0.0205 - val_FN_alert: 0.0216 - val_TP_fall: 0.3163 - val_TN_fall: 0.6519 - val_FP_fall: 0.0148 - val_FN_fall: 0.0171\n",
            "Epoch 20/100\n",
            "1170/1170 [==============================] - 113s 97ms/step - loss: 0.0061 - acc: 0.9143 - f_score: 0.9133 - TP_bkg: 0.3020 - TN_bkg: 0.6410 - FP_bkg: 0.0256 - FN_bkg: 0.0313 - TP_alert: 0.3034 - TN_alert: 0.6425 - FP_alert: 0.0242 - FN_alert: 0.0299 - TP_fall: 0.3037 - TN_fall: 0.6427 - FP_fall: 0.0239 - FN_fall: 0.0296 - val_loss: 0.2282 - val_acc: 0.9029 - val_f_score: 0.9029 - val_TP_bkg: 0.2969 - val_TN_bkg: 0.6337 - val_FP_bkg: 0.0330 - val_FN_bkg: 0.0364 - val_TP_alert: 0.3038 - val_TN_alert: 0.6382 - val_FP_alert: 0.0284 - val_FN_alert: 0.0296 - val_TP_fall: 0.2981 - val_TN_fall: 0.6394 - val_FP_fall: 0.0273 - val_FN_fall: 0.0353\n",
            "Epoch 21/100\n",
            "1170/1170 [==============================] - 112s 96ms/step - loss: 0.0065 - acc: 0.9173 - f_score: 0.9166 - TP_bkg: 0.3011 - TN_bkg: 0.6365 - FP_bkg: 0.0302 - FN_bkg: 0.0322 - TP_alert: 0.3029 - TN_alert: 0.6416 - FP_alert: 0.0251 - FN_alert: 0.0305 - TP_fall: 0.3020 - TN_fall: 0.6407 - FP_fall: 0.0259 - FN_fall: 0.0313 - val_loss: 0.1859 - val_acc: 0.9358 - val_f_score: 0.9356 - val_TP_bkg: 0.3003 - val_TN_bkg: 0.6371 - val_FP_bkg: 0.0296 - val_FN_bkg: 0.0330 - val_TP_alert: 0.3129 - val_TN_alert: 0.6473 - val_FP_alert: 0.0193 - val_FN_alert: 0.0205 - val_TP_fall: 0.3163 - val_TN_fall: 0.6507 - val_FP_fall: 0.0159 - val_FN_fall: 0.0171\n",
            "Epoch 22/100\n",
            "1170/1170 [==============================] - 112s 96ms/step - loss: 0.0066 - acc: 0.9167 - f_score: 0.9161 - TP_bkg: 0.3017 - TN_bkg: 0.6382 - FP_bkg: 0.0285 - FN_bkg: 0.0316 - TP_alert: 0.3060 - TN_alert: 0.6436 - FP_alert: 0.0231 - FN_alert: 0.0274 - TP_fall: 0.3051 - TN_fall: 0.6422 - FP_fall: 0.0245 - FN_fall: 0.0282 - val_loss: 0.1855 - val_acc: 0.9343 - val_f_score: 0.9339 - val_TP_bkg: 0.3060 - val_TN_bkg: 0.6428 - val_FP_bkg: 0.0239 - val_FN_bkg: 0.0273 - val_TP_alert: 0.3072 - val_TN_alert: 0.6428 - val_FP_alert: 0.0239 - val_FN_alert: 0.0262 - val_TP_fall: 0.3117 - val_TN_fall: 0.6507 - val_FP_fall: 0.0159 - val_FN_fall: 0.0216\n",
            "Epoch 23/100\n",
            "1170/1170 [==============================] - 111s 95ms/step - loss: 0.0060 - acc: 0.9148 - f_score: 0.9143 - TP_bkg: 0.3054 - TN_bkg: 0.6436 - FP_bkg: 0.0231 - FN_bkg: 0.0279 - TP_alert: 0.3034 - TN_alert: 0.6425 - FP_alert: 0.0242 - FN_alert: 0.0299 - TP_fall: 0.3046 - TN_fall: 0.6436 - FP_fall: 0.0231 - FN_fall: 0.0288 - val_loss: 0.1769 - val_acc: 0.9377 - val_f_score: 0.9371 - val_TP_bkg: 0.3072 - val_TN_bkg: 0.6451 - val_FP_bkg: 0.0216 - val_FN_bkg: 0.0262 - val_TP_alert: 0.3151 - val_TN_alert: 0.6496 - val_FP_alert: 0.0171 - val_FN_alert: 0.0182 - val_TP_fall: 0.3140 - val_TN_fall: 0.6507 - val_FP_fall: 0.0159 - val_FN_fall: 0.0193\n",
            "Epoch 24/100\n",
            "1170/1170 [==============================] - 112s 96ms/step - loss: 0.0060 - acc: 0.9182 - f_score: 0.9176 - TP_bkg: 0.3029 - TN_bkg: 0.6422 - FP_bkg: 0.0245 - FN_bkg: 0.0305 - TP_alert: 0.3011 - TN_alert: 0.6387 - FP_alert: 0.0279 - FN_alert: 0.0322 - TP_fall: 0.3074 - TN_fall: 0.6450 - FP_fall: 0.0217 - FN_fall: 0.0259 - val_loss: 0.3107 - val_acc: 0.8818 - val_f_score: 0.8814 - val_TP_bkg: 0.2924 - val_TN_bkg: 0.6303 - val_FP_bkg: 0.0364 - val_FN_bkg: 0.0410 - val_TP_alert: 0.3003 - val_TN_alert: 0.6348 - val_FP_alert: 0.0319 - val_FN_alert: 0.0330 - val_TP_fall: 0.3049 - val_TN_fall: 0.6439 - val_FP_fall: 0.0228 - val_FN_fall: 0.0284\n",
            "Epoch 25/100\n",
            "1170/1170 [==============================] - 111s 95ms/step - loss: 0.0063 - acc: 0.9224 - f_score: 0.9223 - TP_bkg: 0.3103 - TN_bkg: 0.6456 - FP_bkg: 0.0211 - FN_bkg: 0.0231 - TP_alert: 0.3029 - TN_alert: 0.6396 - FP_alert: 0.0271 - FN_alert: 0.0305 - TP_fall: 0.3029 - TN_fall: 0.6396 - FP_fall: 0.0271 - FN_fall: 0.0305 - val_loss: 0.2171 - val_acc: 0.9326 - val_f_score: 0.9332 - val_TP_bkg: 0.3083 - val_TN_bkg: 0.6451 - val_FP_bkg: 0.0216 - val_FN_bkg: 0.0250 - val_TP_alert: 0.3106 - val_TN_alert: 0.6462 - val_FP_alert: 0.0205 - val_FN_alert: 0.0228 - val_TP_fall: 0.3117 - val_TN_fall: 0.6496 - val_FP_fall: 0.0171 - val_FN_fall: 0.0216\n",
            "Epoch 26/100\n",
            "1170/1170 [==============================] - 112s 96ms/step - loss: 0.0056 - acc: 0.9294 - f_score: 0.9290 - TP_bkg: 0.3037 - TN_bkg: 0.6402 - FP_bkg: 0.0265 - FN_bkg: 0.0296 - TP_alert: 0.3080 - TN_alert: 0.6462 - FP_alert: 0.0205 - FN_alert: 0.0254 - TP_fall: 0.3097 - TN_fall: 0.6467 - FP_fall: 0.0199 - FN_fall: 0.0236 - val_loss: 0.1753 - val_acc: 0.9377 - val_f_score: 0.9374 - val_TP_bkg: 0.3083 - val_TN_bkg: 0.6416 - val_FP_bkg: 0.0250 - val_FN_bkg: 0.0250 - val_TP_alert: 0.3129 - val_TN_alert: 0.6473 - val_FP_alert: 0.0193 - val_FN_alert: 0.0205 - val_TP_fall: 0.3163 - val_TN_fall: 0.6507 - val_FP_fall: 0.0159 - val_FN_fall: 0.0171\n",
            "Epoch 27/100\n",
            "1170/1170 [==============================] - 113s 97ms/step - loss: 0.0060 - acc: 0.9244 - f_score: 0.9238 - TP_bkg: 0.3103 - TN_bkg: 0.6490 - FP_bkg: 0.0177 - FN_bkg: 0.0231 - TP_alert: 0.3103 - TN_alert: 0.6479 - FP_alert: 0.0188 - FN_alert: 0.0231 - TP_fall: 0.3068 - TN_fall: 0.6464 - FP_fall: 0.0202 - FN_fall: 0.0265 - val_loss: 0.1984 - val_acc: 0.9306 - val_f_score: 0.9300 - val_TP_bkg: 0.3060 - val_TN_bkg: 0.6405 - val_FP_bkg: 0.0262 - val_FN_bkg: 0.0273 - val_TP_alert: 0.3038 - val_TN_alert: 0.6382 - val_FP_alert: 0.0284 - val_FN_alert: 0.0296 - val_TP_fall: 0.3140 - val_TN_fall: 0.6519 - val_FP_fall: 0.0148 - val_FN_fall: 0.0193\n",
            "Epoch 28/100\n",
            " 651/1170 [===============>..............] - ETA: 47s - loss: 0.0053 - acc: 0.9277 - f_score: 0.9276 - TP_bkg: 0.3047 - TN_bkg: 0.6411 - FP_bkg: 0.0256 - FN_bkg: 0.0287 - TP_alert: 0.3036 - TN_alert: 0.6426 - FP_alert: 0.0241 - FN_alert: 0.0297 - TP_fall: 0.3021 - TN_fall: 0.6400 - FP_fall: 0.0266 - FN_fall: 0.0312Buffered data was truncated after reaching the output size limit."
          ],
          "name": "stdout"
        }
      ]
    },
    {
      "cell_type": "markdown",
      "metadata": {
        "id": "2MpmeBxc-k4r"
      },
      "source": [
        "# **Show result**"
      ]
    },
    {
      "cell_type": "code",
      "metadata": {
        "id": "L54m8BzUI8Ki"
      },
      "source": [
        "structure = \"CNN\"\n",
        "#structure = \"LSTM\"\n",
        "#structure = \"ConvLSTM\""
      ],
      "execution_count": 54,
      "outputs": []
    },
    {
      "cell_type": "code",
      "metadata": {
        "id": "ZqM5wITpRXZo"
      },
      "source": [
        "model_m = keras.models.load_model(f\"./drive/My Drive/FallDetection/{structure}_Model.h5\",\n",
        "                                  custom_objects={\"f_score\":f_score,\"TP_bkg\":TP_bkg,\"TN_bkg\":TN_bkg,\n",
        "                                  \"FP_bkg\":FP_bkg,\"FN_bkg\":FN_bkg,\"TP_alert\":TP_alert,\n",
        "                                  \"TN_alert\":TN_alert,\"FP_alert\":FP_alert,\"FN_alert\":FN_alert,\n",
        "                                  \"TP_fall\":TP_fall,\"TN_fall\":TN_fall,\"FP_fall\":FP_fall,\"FN_fall\":FN_fall})"
      ],
      "execution_count": 55,
      "outputs": []
    },
    {
      "cell_type": "code",
      "metadata": {
        "id": "2PqTV-W5BeNJ"
      },
      "source": [
        "history_dict = json.load(open(f\"./drive/My Drive/FallDetection/{structure}_History.pkl\", 'r'))"
      ],
      "execution_count": 56,
      "outputs": []
    },
    {
      "cell_type": "code",
      "metadata": {
        "id": "UWdmnT0XGlCa",
        "outputId": "b52e3a7e-7116-4284-b2c1-bf7504b24e09",
        "colab": {
          "base_uri": "https://localhost:8080/",
          "height": 302
        }
      },
      "source": [
        "def accurace(tp,tn,fp,fn):\n",
        "  return (np.array(tp)+ np.array(tn)) / (np.array(tp)+np.array(tn)+np.array(fn)+np.array(fp))\n",
        "acc_bkg = accurace(history_dict['TP_bkg'] ,history_dict['TN_bkg'] ,history_dict['FP_bkg'] ,history_dict['FN_bkg'] )\n",
        "acc_alert = accurace(history_dict['TP_alert'] ,history_dict['TN_alert'] ,history_dict['FP_alert'] ,history_dict['FN_alert'])\n",
        "acc_fall = accurace(history_dict['TP_fall'] ,history_dict['TN_fall'] ,history_dict['FP_fall'] ,history_dict['FN_fall'] )\n",
        "plt.plot(acc_bkg)\n",
        "plt.plot(acc_alert)\n",
        "plt.plot(acc_fall)\n",
        "plt.title('acc')\n",
        "plt.ylabel('acc')\n",
        "plt.xlabel('epoch')\n",
        "plt.legend(['bkg', 'alert','fall'], loc='upper left')\n",
        "plt.show()"
      ],
      "execution_count": 57,
      "outputs": [
        {
          "output_type": "display_data",
          "data": {
            "image/png": "[encoded data removed]",
            "text/plain": [
              "<Figure size 432x288 with 1 Axes>"
            ]
          },
          "metadata": {
            "tags": []
          }
        }
      ]
    },
    {
      "cell_type": "code",
      "metadata": {
        "id": "-GhOQzZOdD6M",
        "outputId": "113bc769-170a-4918-ab6c-f30e09481a49",
        "colab": {
          "base_uri": "https://localhost:8080/",
          "height": 373
        }
      },
      "source": [
        "def sensitivity(tp,tn,fp,fn):\n",
        "  return np.array(tp) / (np.array(tp)+np.array(fn)) * 100\n",
        "sen_bkg = sensitivity(history_dict['TP_bkg'] ,history_dict['TN_bkg'] ,history_dict['FP_bkg'] ,history_dict['FN_bkg'] )\n",
        "print(f'sensivity bkg : {sen_bkg[-1]}')\n",
        "sen_alert = sensitivity(history_dict['TP_alert'] ,history_dict['TN_alert'] ,history_dict['FP_alert'] ,history_dict['FN_alert'])\n",
        "print(f'sensivity alert : {sen_alert[-1]}')\n",
        "sen_fall = sensitivity(history_dict['TP_fall'] ,history_dict['TN_fall'] ,history_dict['FP_fall'] ,history_dict['FN_fall'] )\n",
        "print(f'sensivity fall : {sen_fall[-1]}')\n",
        "print(f'avg of sensivity : {(sen_bkg[-1] + sen_alert[-1]+ sen_fall[-1])/3}')\n",
        "plt.plot(sen_bkg,'bo')\n",
        "plt.plot(sen_alert,'go')\n",
        "plt.plot(sen_fall,'ro')\n",
        "plt.title('sensitivity')\n",
        "plt.ylabel('sensitivity')\n",
        "plt.xlabel('epoch')\n",
        "plt.legend(['bkg', 'alert','fall'], loc='upper left')\n",
        "plt.axis([0, 40, 0, 100])\n",
        "plt.show()"
      ],
      "execution_count": 58,
      "outputs": [
        {
          "output_type": "stream",
          "text": [
            "sensivity bkg : 93.67523969481739\n",
            "sensivity alert : 93.58977020395666\n",
            "sensivity fall : 94.95728955074705\n",
            "avg of sensivity : 94.07409981650703\n"
          ],
          "name": "stdout"
        },
        {
          "output_type": "display_data",
          "data": {
            "image/png": "[encoded data removed]",
            "text/plain": [
              "<Figure size 432x288 with 1 Axes>"
            ]
          },
          "metadata": {
            "tags": []
          }
        }
      ]
    },
    {
      "cell_type": "code",
      "metadata": {
        "id": "m2mwfDRvPx5o",
        "outputId": "bc8668b3-71dd-421f-9dc2-ee784be02b72",
        "colab": {
          "base_uri": "https://localhost:8080/",
          "height": 373
        }
      },
      "source": [
        "def specificity(tp,tn,fp,fn):\n",
        "  return np.array(tn) / (np.array(tn)+np.array(fp)) * 100\n",
        "sep_bkg = specificity(history_dict['TP_bkg'] ,history_dict['TN_bkg'] ,history_dict['FP_bkg'] ,history_dict['FN_bkg'] )\n",
        "print(f'specificity bkg : {sen_bkg[-1]}')\n",
        "sep_alert = specificity(history_dict['TP_alert'] ,history_dict['TN_alert'] ,history_dict['FP_alert'] ,history_dict['FN_alert'])\n",
        "print(f'specificity alert : {sen_alert[-1]}')\n",
        "sep_fall = specificity(history_dict['TP_fall'] ,history_dict['TN_fall'] ,history_dict['FP_fall'] ,history_dict['FN_fall'] )\n",
        "print(f'specificity fall : {sen_fall[-1]}')\n",
        "print(f'avg of specificity : {(sep_bkg[-1] + sep_alert[-1]+ sep_fall[-1])/3}')\n",
        "plt.plot(sep_bkg,'bo')\n",
        "plt.plot(sep_alert,'go')\n",
        "plt.plot(sep_fall,'ro')\n",
        "plt.title('specificity')\n",
        "plt.ylabel('specificity')\n",
        "plt.xlabel('epoch')\n",
        "plt.legend(['bkg', 'alert','fall'], loc='upper left')\n",
        "plt.axis([0, 40, 0, 100])\n",
        "plt.show()"
      ],
      "execution_count": 59,
      "outputs": [
        {
          "output_type": "stream",
          "text": [
            "specificity bkg : 93.67523969481739\n",
            "specificity alert : 93.58977020395666\n",
            "specificity fall : 94.95728955074705\n",
            "avg of specificity : 97.20799079801479\n"
          ],
          "name": "stdout"
        },
        {
          "output_type": "display_data",
          "data": {
            "image/png": "[encoded data removed]",
            "text/plain": [
              "<Figure size 432x288 with 1 Axes>"
            ]
          },
          "metadata": {
            "tags": []
          }
        }
      ]
    },
    {
      "cell_type": "code",
      "metadata": {
        "id": "ENGrKtrTmgM-"
      },
      "source": [
        "prep = model_m.predict(X_test)\n",
        "prep2 = prep.copy()"
      ],
      "execution_count": 60,
      "outputs": []
    },
    {
      "cell_type": "code",
      "metadata": {
        "id": "QKgYAeJJkaM7",
        "outputId": "932c7b06-20eb-422f-e445-e98f4917583d",
        "colab": {
          "base_uri": "https://localhost:8080/",
          "height": 88
        }
      },
      "source": [
        "prep3 = [i == max(i) for i in prep2]\n",
        "p = [i[0] for i in prep3]\n",
        "t = [i[0]==1 for i in y_test]\n",
        "bkgacc = (sum([p[i] == t[i] for i in range(0,len(p))]) / len(p)) * 100\n",
        "p = [i[1] for i in prep3]\n",
        "t = [i[1]==1 for i in y_test]\n",
        "alartacc = (sum([p[i] == t[i] for i in range(0,len(p))]) / len(p)) * 100\n",
        "p = [i[2] for i in prep3]\n",
        "t = [i[2]==1 for i in y_test]\n",
        "fallacc = (sum([p[i] == t[i] for i in range(0,len(p))]) / len(p)) * 100\n",
        "print(f'bkg acc: {bkgacc}')\n",
        "print(f'alart acc: {alartacc}')\n",
        "print(f'fall acc: {fallacc}')\n",
        "print(f'mean: {(bkgacc + alartacc + fallacc)/3}')"
      ],
      "execution_count": 61,
      "outputs": [
        {
          "output_type": "stream",
          "text": [
            "bkg acc: 95.02521583041286\n",
            "alart acc: 96.16633900333362\n",
            "fall acc: 98.30327378408411\n",
            "mean: 96.49827620594353\n"
          ],
          "name": "stdout"
        }
      ]
    },
    {
      "cell_type": "code",
      "metadata": {
        "id": "nQQlo8kTZZbz",
        "outputId": "653812bc-840d-416c-d877-28d6743639df",
        "colab": {
          "base_uri": "https://localhost:8080/",
          "height": 126
        }
      },
      "source": [
        "score = model_m.evaluate(X_test, y_test, verbose=2,batch_size=64)\n",
        "\n",
        "print(\"\\nAccuracy on test data: %0.4f\" % (score[1]*100))\n",
        "print(\"\\nLoss on test data: %0.4f\" % score[0])"
      ],
      "execution_count": 62,
      "outputs": [
        {
          "output_type": "stream",
          "text": [
            "366/366 - 5s - loss: 0.1716 - acc: 0.9475 - f_score: 0.9476 - TP_bkg: 0.3188 - TN_bkg: 0.6521 - FP_bkg: 0.0146 - FN_bkg: 0.0146 - TP_alert: 0.3142 - TN_alert: 0.6485 - FP_alert: 0.0182 - FN_alert: 0.0191 - TP_fall: 0.3160 - TN_fall: 0.6494 - FP_fall: 0.0173 - FN_fall: 0.0173\n",
            "\n",
            "Accuracy on test data: 94.7474\n",
            "\n",
            "Loss on test data: 0.1716\n"
          ],
          "name": "stdout"
        }
      ]
    },
    {
      "cell_type": "code",
      "metadata": {
        "id": "A2jzbrdRdGho",
        "outputId": "5e7331b9-ba4f-46a1-b503-c3ad3775777c",
        "colab": {
          "base_uri": "https://localhost:8080/",
          "height": 641
        }
      },
      "source": [
        "print(\"\\n--- Confusion matrix for test data ---\\n\")\n",
        "y_pred_test = model_m.predict(X_test)\n",
        "# Take the class with the highest probability from the test predictions\n",
        "max_y_pred_test = np.argmax(y_pred_test, axis=1)\n",
        "max_y_test = np.argmax(y_test, axis=1)\n",
        "show_confusion_matrix(max_y_test, max_y_pred_test,0)\n",
        "show_confusion_matrix(max_y_test, max_y_pred_test,1)"
      ],
      "execution_count": 63,
      "outputs": [
        {
          "output_type": "stream",
          "text": [
            "\n",
            "--- Confusion matrix for test data ---\n",
            "\n"
          ],
          "name": "stdout"
        },
        {
          "output_type": "display_data",
          "data": {
            "image/png": "[encoded data removed]",
            "text/plain": [
              "<Figure size 432x288 with 2 Axes>"
            ]
          },
          "metadata": {
            "tags": []
          }
        },
        {
          "output_type": "display_data",
          "data": {
            "image/png": "[encoded data removed]",
            "text/plain": [
              "<Figure size 432x288 with 2 Axes>"
            ]
          },
          "metadata": {
            "tags": []
          }
        }
      ]
    }
  ]
}