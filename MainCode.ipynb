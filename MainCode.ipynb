{
  "nbformat": 4,
  "nbformat_minor": 0,
  "metadata": {
    "colab": {
      "name": "MainCode.ipynb",
      "provenance": [],
      "collapsed_sections": []
    },
    "kernelspec": {
      "display_name": "Python 3",
      "language": "python",
      "name": "python3"
    },
    "language_info": {
      "codemirror_mode": {
        "name": "ipython",
        "version": 3
      },
      "file_extension": ".py",
      "mimetype": "text/x-python",
      "name": "python",
      "nbconvert_exporter": "python",
      "pygments_lexer": "ipython3",
      "version": "3.7.4"
    }
  },
  "cells": [
    {
      "cell_type": "code",
      "metadata": {
        "id": "EOTvmEP3m2KN"
      },
      "source": [
        "# Imports"
      ],
      "execution_count": 1,
      "outputs": []
    },
    {
      "cell_type": "code",
      "metadata": {
        "id": "pFyYfrLmQklW",
        "outputId": "b85b84e1-ff78-47e1-9f69-6510916f863f",
        "colab": {
          "base_uri": "https://localhost:8080/",
          "height": 35
        }
      },
      "source": [
        "# Compatibility layer between Python 2 and Python 3\n",
        "from __future__ import print_function\n",
        "from matplotlib import pyplot as plt\n",
        "import numpy as np\n",
        "import pandas as pd\n",
        "import seaborn as sns\n",
        "from scipy import stats\n",
        "import pickle\n",
        "import json\n",
        "import time\n",
        "\n",
        "from sklearn import metrics\n",
        "from sklearn.metrics import classification_report\n",
        "from sklearn import preprocessing\n",
        "from sklearn.model_selection import train_test_split\n",
        "\n",
        "import tensorflow as tf\n",
        "import keras\n",
        "from keras.models import Sequential\n",
        "from keras.layers import Dense, Dropout, Flatten, Reshape, GlobalAveragePooling1D, BatchNormalization,LSTM\n",
        "from keras.layers import Conv2D, MaxPooling2D, Conv1D, MaxPooling1D\n",
        "from keras.utils import np_utils\n",
        "from keras import backend as K\n",
        "print('keras version ', keras.__version__)\n",
        "\n",
        "from IPython.display import clear_output    "
      ],
      "execution_count": 2,
      "outputs": [
        {
          "output_type": "stream",
          "text": [
            "keras version  2.4.3\n"
          ],
          "name": "stdout"
        }
      ]
    },
    {
      "cell_type": "code",
      "metadata": {
        "id": "pReOnwtJQn-m",
        "outputId": "6ede9d4c-7ae5-424d-8505-6d0b8a18ef79",
        "colab": {
          "base_uri": "https://localhost:8080/",
          "height": 35
        }
      },
      "source": [
        "!mkdir -p dataset/sisfall\n",
        "!wget https://www.dropbox.com/s/vvxd7whyn76oiua/xvalue.zip  -O ./dataset/sisfall/xvalue.zip \n",
        "!unzip ./dataset/sisfall/xvalue.zip   -d ./dataset/sisfall/\n",
        "!rm ./dataset/sisfall/xvalue.zip\n",
        "clear_output(wait=True)\n",
        "print('finished')"
      ],
      "execution_count": 3,
      "outputs": [
        {
          "output_type": "stream",
          "text": [
            "finished\n"
          ],
          "name": "stdout"
        }
      ]
    },
    {
      "cell_type": "code",
      "metadata": {
        "id": "M7x_CWLquc-h",
        "outputId": "822af2ea-178f-4d3b-b597-b005734d81b4",
        "colab": {
          "base_uri": "https://localhost:8080/",
          "height": 35
        }
      },
      "source": [
        "!mkdir -p /content/Drive/sisfall\n",
        "!wget https://www.dropbox.com/s/vvxd7whyn76oiua/xvalue.zip  -O ./content/Drive/sisfall/xvalue.zip \n",
        "!unzip ./content/Drive/sisfall/xvalue.zip   -d ./content/Drive/sisfall/\n",
        "!rm ./content/Drive/sisfall/xvalue.zip\n",
        "clear_output(wait=True)\n",
        "print('finished')\n"
      ],
      "execution_count": null,
      "outputs": [
        {
          "output_type": "stream",
          "text": [
            "finished\n"
          ],
          "name": "stdout"
        }
      ]
    },
    {
      "cell_type": "code",
      "metadata": {
        "id": "03igmIbB3hdt",
        "outputId": "0cf4aa7c-b9a8-4a6d-8786-4610262a7df3",
        "colab": {
          "base_uri": "https://localhost:8080/",
          "height": 35
        }
      },
      "source": [
        "from google.colab import drive\n",
        "drive.mount('/content/drive')\n",
        "#drive.mount('/content/dataset')\n",
        "clear_output(wait=True)\n",
        "print('finished')"
      ],
      "execution_count": 4,
      "outputs": [
        {
          "output_type": "stream",
          "text": [
            "finished\n"
          ],
          "name": "stdout"
        }
      ]
    },
    {
      "cell_type": "markdown",
      "metadata": {
        "id": "nFObAWarQklg"
      },
      "source": [
        "# Functions"
      ]
    },
    {
      "cell_type": "code",
      "metadata": {
        "id": "stiXc632p7KR"
      },
      "source": [
        "def show_confusion_matrix(validations, predictions):\n",
        "    matrix = metrics.confusion_matrix(validations, predictions)\n",
        "    plt.figure(figsize=(6, 4))\n",
        "    sns.heatmap(matrix,cmap=\"coolwarm\",linecolor='white',linewidths=1,\n",
        "                xticklabels=LABELS,yticklabels=LABELS,annot=True,fmt=\"d\")\n",
        "    plt.title(\"Confusion Matrix\")\n",
        "    plt.ylabel(\"True Label\")\n",
        "    plt.xlabel(\"Predicted Label\")\n",
        "    plt.show()\n",
        "\n",
        "def convert_to_float(x):\n",
        "    try:\n",
        "        return np.float(x)\n",
        "    except:\n",
        "        return np.nan"
      ],
      "execution_count": 24,
      "outputs": []
    },
    {
      "cell_type": "code",
      "metadata": {
        "id": "waolhwezyi50",
        "outputId": "b5eb9866-3052-4713-fa52-3ffe8644ae75",
        "colab": {
          "base_uri": "https://localhost:8080/",
          "height": 302
        }
      },
      "source": [
        "show_confusion_matrix([0,0,0,0,1,1],[0,0,0,0,1,1])"
      ],
      "execution_count": 29,
      "outputs": [
        {
          "output_type": "display_data",
          "data": {
            "image/png": "[encoded data removed]",
            "text/plain": [
              "<Figure size 432x288 with 2 Axes>"
            ]
          },
          "metadata": {
            "tags": []
          }
        }
      ]
    },
    {
      "cell_type": "code",
      "metadata": {
        "id": "_Tb29BqyyLgV",
        "outputId": "d708f64d-b450-4a89-d090-bf1b415954b6",
        "colab": {
          "base_uri": "https://localhost:8080/",
          "height": 115
        }
      },
      "source": [
        "LABELS = [\"Bkg\",\"Alert\",\"Fall\"]\n",
        "#xvalue = np.load('./content/Drive/sisfall/xvalue.npy')\n",
        "xvalue = np.load('/content/dataset/sisfall/xvalue.npy')\n",
        "#yvalue = pd.read_csv('./dataset/sisfall/yvalue.csv')\n",
        "yvalue = pd.read_csv('/content/dataset/sisfall/yvalue.csv')\n",
        "\n",
        "print(f'shape xvalue : {xvalue.shape}')\n",
        "print(f'shape yvalue : {yvalue.shape}')\n",
        "yvalue.head(1)"
      ],
      "execution_count": 7,
      "outputs": [
        {
          "output_type": "stream",
          "text": [
            "shape xvalue : (116988, 256, 9)\n",
            "shape yvalue : (116988, 3)\n"
          ],
          "name": "stdout"
        },
        {
          "output_type": "execute_result",
          "data": {
            "text/html": [
              "<div>\n",
              "<style scoped>\n",
              "    .dataframe tbody tr th:only-of-type {\n",
              "        vertical-align: middle;\n",
              "    }\n",
              "\n",
              "    .dataframe tbody tr th {\n",
              "        vertical-align: top;\n",
              "    }\n",
              "\n",
              "    .dataframe thead th {\n",
              "        text-align: right;\n",
              "    }\n",
              "</style>\n",
              "<table border=\"1\" class=\"dataframe\">\n",
              "  <thead>\n",
              "    <tr style=\"text-align: right;\">\n",
              "      <th></th>\n",
              "      <th>Target</th>\n",
              "      <th>subId</th>\n",
              "      <th>activiteId</th>\n",
              "    </tr>\n",
              "  </thead>\n",
              "  <tbody>\n",
              "    <tr>\n",
              "      <th>0</th>\n",
              "      <td>0</td>\n",
              "      <td>SA01</td>\n",
              "      <td>D01</td>\n",
              "    </tr>\n",
              "  </tbody>\n",
              "</table>\n",
              "</div>"
            ],
            "text/plain": [
              "   Target subId activiteId\n",
              "0       0  SA01        D01"
            ]
          },
          "metadata": {
            "tags": []
          },
          "execution_count": 7
        }
      ]
    },
    {
      "cell_type": "code",
      "metadata": {
        "id": "rE-7o9epQkmB"
      },
      "source": [
        "pd.options.display.float_format = '{:.1f}'.format\n",
        "sns.set()\n",
        "plt.style.use('ggplot') # 'Solarize_Light2', '_classic_test_patch', 'bmh', 'classic', 'dark_background', 'fast', 'fivethirtyeight', 'ggplot', 'grayscale', 'seaborn', 'seaborn-bright', 'seaborn-colorblind', 'seaborn-dark', 'seaborn-dark-palette', 'seaborn-darkgrid', 'seaborn-deep', 'seaborn-muted', 'seaborn-notebook', 'seaborn-paper', 'seaborn-pastel', 'seaborn-poster', 'seaborn-talk', 'seaborn-ticks', 'seaborn-white', 'seaborn-whitegrid', 'tableau-colorblind10'"
      ],
      "execution_count": 8,
      "outputs": []
    },
    {
      "cell_type": "code",
      "metadata": {
        "id": "wRzbED5cgLEc",
        "outputId": "9da5e743-b1a6-4751-8b78-3a33e5a68f23",
        "colab": {
          "base_uri": "https://localhost:8080/",
          "height": 301
        }
      },
      "source": [
        "ax = yvalue['Target'].value_counts().plot(kind='bar',title='show target histogram')\n",
        "ax.set_xticks(range(0,3))\n",
        "ax.set_xticklabels(['Bkg','Fall','Alert'])\n",
        "plt.show()"
      ],
      "execution_count": 9,
      "outputs": [
        {
          "output_type": "display_data",
          "data": {
            "image/png": "[encoded data removed]",
            "text/plain": [
              "<Figure size 432x288 with 1 Axes>"
            ]
          },
          "metadata": {
            "tags": []
          }
        }
      ]
    },
    {
      "cell_type": "code",
      "metadata": {
        "id": "OjwzpCYJQkmJ",
        "outputId": "a7a44e45-4dd5-45b4-c5a8-74f203014b12",
        "colab": {
          "base_uri": "https://localhost:8080/",
          "height": 297
        }
      },
      "source": [
        "ax = yvalue['activiteId'].value_counts().plot(kind='bar',title='show activite histogram')\n",
        "plt.show()"
      ],
      "execution_count": 10,
      "outputs": [
        {
          "output_type": "display_data",
          "data": {
            "image/png": "[encoded data removed]",
            "text/plain": [
              "<Figure size 432x288 with 1 Axes>"
            ]
          },
          "metadata": {
            "tags": []
          }
        }
      ]
    },
    {
      "cell_type": "code",
      "metadata": {
        "id": "h40q2HWhQkmN",
        "outputId": "4b276485-2a16-46a7-ad41-b10ad8d71ce0",
        "colab": {
          "base_uri": "https://localhost:8080/",
          "height": 54
        }
      },
      "source": [
        "yvalue = yvalue['Target']\n",
        "yvalue.head(1)"
      ],
      "execution_count": 11,
      "outputs": [
        {
          "output_type": "execute_result",
          "data": {
            "text/plain": [
              "0    0\n",
              "Name: Target, dtype: int64"
            ]
          },
          "metadata": {
            "tags": []
          },
          "execution_count": 11
        }
      ]
    },
    {
      "cell_type": "code",
      "metadata": {
        "id": "ZMS51XMHQkmS",
        "outputId": "117ac4c6-cc6d-4c12-97b3-56539974992a",
        "colab": {
          "base_uri": "https://localhost:8080/",
          "height": 90
        }
      },
      "source": [
        "X_train, X_test, y_train, y_test = train_test_split(xvalue, yvalue, test_size = 0.20, random_state = 0)\n",
        "print(f'Shape of train feature is : {X_train.shape}')\n",
        "print(f'Shape of train target is : {y_train.shape}')\n",
        "print(f'Shape of test feature is : {X_test.shape}')\n",
        "print(f'Shape of test target is : {y_test.shape}')"
      ],
      "execution_count": 12,
      "outputs": [
        {
          "output_type": "stream",
          "text": [
            "Shape of train feature is : (93590, 256, 9)\n",
            "Shape of train target is : (93590,)\n",
            "Shape of test feature is : (23398, 256, 9)\n",
            "Shape of test target is : (23398,)\n"
          ],
          "name": "stdout"
        }
      ]
    },
    {
      "cell_type": "markdown",
      "metadata": {
        "id": "8QIl7mFRQkmY"
      },
      "source": [
        "## reshape"
      ]
    },
    {
      "cell_type": "code",
      "metadata": {
        "id": "tQn9qBAb2zj8",
        "outputId": "5991d8aa-e8c8-4d38-be30-fa79ed674cc9",
        "colab": {
          "base_uri": "https://localhost:8080/",
          "height": 72
        }
      },
      "source": [
        "# Set input & output dimensions\n",
        "num_time_periods, num_sensors = X_train.shape[1], X_train.shape[2]\n",
        "num_classes = len(LABELS)\n",
        "print('num_classes: ' + str(num_classes))\n",
        "print('num_sensors: '+  str(num_sensors))\n",
        "print('num_time_periods: ' + str(num_time_periods))"
      ],
      "execution_count": 13,
      "outputs": [
        {
          "output_type": "stream",
          "text": [
            "num_classes: 3\n",
            "num_sensors: 9\n",
            "num_time_periods: 256\n"
          ],
          "name": "stdout"
        }
      ]
    },
    {
      "cell_type": "code",
      "metadata": {
        "id": "r0vec9AHCjwP",
        "outputId": "de9e75df-98f3-464e-c112-3ea56df5d358",
        "colab": {
          "base_uri": "https://localhost:8080/",
          "height": 54
        }
      },
      "source": [
        "## only use for cnn \n",
        "input_shape = (num_time_periods * num_sensors)\n",
        "X_train = X_train.reshape(X_train.shape[0], input_shape)\n",
        "X_test = X_test.reshape(X_test.shape[0], input_shape)\n",
        "print(X_train.shape)\n",
        "print(X_test.shape)"
      ],
      "execution_count": null,
      "outputs": [
        {
          "output_type": "stream",
          "text": [
            "(93590, 2304)\n",
            "(23398, 2304)\n"
          ],
          "name": "stdout"
        }
      ]
    },
    {
      "cell_type": "markdown",
      "metadata": {
        "id": "mrvA2A_MQkmf"
      },
      "source": [
        "##  Convert type for Keras otherwise Keras cannot process the data"
      ]
    },
    {
      "cell_type": "code",
      "metadata": {
        "id": "lHcu6R13Upvy"
      },
      "source": [
        "X_train = X_train.astype(\"float32\")\n",
        "y_train = y_train.astype(\"float32\")\n",
        "X_test = X_test.astype(\"float32\")\n",
        "y_test = y_test.astype(\"float32\")"
      ],
      "execution_count": 16,
      "outputs": []
    },
    {
      "cell_type": "markdown",
      "metadata": {
        "id": "oxpCeDt-Qkmj"
      },
      "source": [
        "## Convert lable to one-hot"
      ]
    },
    {
      "cell_type": "code",
      "metadata": {
        "id": "1ZeWJjekUz4D",
        "outputId": "9131cfa1-438b-465e-c3e4-9fb8d9ea9ceb",
        "colab": {
          "base_uri": "https://localhost:8080/",
          "height": 72
        }
      },
      "source": [
        "y_train = np_utils.to_categorical(y_train,num_classes)\n",
        "y_test = np_utils.to_categorical(y_test,num_classes)\n",
        "y_train[:3]"
      ],
      "execution_count": 17,
      "outputs": [
        {
          "output_type": "execute_result",
          "data": {
            "text/plain": [
              "array([[1., 0., 0.],\n",
              "       [1., 0., 0.],\n",
              "       [0., 0., 1.]], dtype=float32)"
            ]
          },
          "metadata": {
            "tags": []
          },
          "execution_count": 17
        }
      ]
    },
    {
      "cell_type": "markdown",
      "metadata": {
        "id": "Vl2ngbAq8Kcd"
      },
      "source": [
        "## **Define our metrics:**"
      ]
    },
    {
      "cell_type": "code",
      "metadata": {
        "id": "UyrPu6Qy8HvH"
      },
      "source": [
        "def recall(y_true, y_pred):    \n",
        "    true_positives = K.sum(K.round(K.clip(y_true * y_pred, 0, 1)))\n",
        "    possible_positives = K.sum(K.round(K.clip(y_true, 0, 1)))\n",
        "    recall = true_positives / (possible_positives + K.epsilon())\n",
        "    return recall   \n",
        "    \n",
        "def precision(y_true, y_pred):        \n",
        "    true_positives = K.sum(K.round(K.clip(y_true * y_pred, 0, 1)))\n",
        "    predicted_positives = K.sum(K.round(K.clip(y_pred, 0, 1)))\n",
        "    precision = true_positives / (predicted_positives + K.epsilon())\n",
        "    return precision\n",
        "\n",
        "def f_score(y_true, y_pred):\n",
        "    _precision = precision(y_true, y_pred)\n",
        "    _recall = recall(y_true, y_pred)\n",
        "    return 2*((_precision*_recall)/(_precision+_recall+K.epsilon()))\n",
        "\n",
        "def TP(y_true, y_pred):\n",
        "    tp = K.sum(K.round(K.clip(y_true * y_pred, 0, 1))) # TP\n",
        "    y_pos = K.round(K.clip(y_true, 0, 1))\n",
        "    n_pos = K.sum(y_pos)\n",
        "    y_neg = 1 - y_pos\n",
        "    n_neg = K.sum(y_neg)\n",
        "    n = n_pos + n_neg\n",
        "    return tp/n\n",
        "    \n",
        "def TP_bkg(y_true, y_pred):\n",
        "    return TP(y_true[0], y_pred[0])\n",
        "def TP_alert(y_true, y_pred):\n",
        "    return TP(y_true[1], y_pred[1])\n",
        "def TP_fall(y_true, y_pred):\n",
        "    return TP(y_true[2], y_pred[2])\n",
        "\n",
        "def TN(y_true, y_pred):\n",
        "    y_pos = K.round(K.clip(y_true, 0, 1))\n",
        "    n_pos = K.sum(y_pos)\n",
        "    y_neg = 1 - y_pos\n",
        "    n_neg = K.sum(y_neg)\n",
        "    n = n_pos + n_neg\n",
        "    y_pred_pos = K.round(K.clip(y_pred, 0, 1))\n",
        "    y_pred_neg = 1 - y_pred_pos\n",
        "    tn = K.sum(K.round(K.clip(y_neg * y_pred_neg, 0, 1))) # TN\n",
        "    return tn/n\n",
        "\n",
        "def TN_bkg(y_true, y_pred):\n",
        "    return TN(y_true[0], y_pred[0])\n",
        "def TN_alert(y_true, y_pred):\n",
        "    return TN(y_true[1], y_pred[1])\n",
        "def TN_fall(y_true, y_pred):\n",
        "    return TN(y_true[2], y_pred[2])\n",
        "  \n",
        "def FP(y_true, y_pred):\n",
        "    y_pos = K.round(K.clip(y_true, 0, 1))\n",
        "    n_pos = K.sum(y_pos)\n",
        "    y_neg = 1 - y_pos\n",
        "    n_neg = K.sum(y_neg)\n",
        "    n = n_pos + n_neg\n",
        "    tn = K.sum(K.round(K.clip(y_neg * y_pred, 0, 1))) # FP\n",
        "    return tn/n\n",
        "def FP_bkg(y_true, y_pred):\n",
        "    return FP(y_true[0], y_pred[0])\n",
        "def FP_alert(y_true, y_pred):\n",
        "    return FP(y_true[1], y_pred[1])\n",
        "def FP_fall(y_true, y_pred):\n",
        "    return FP(y_true[2], y_pred[2])\n",
        "\n",
        "def FN(y_true, y_pred):\n",
        "    y_pos = K.round(K.clip(y_true, 0, 1))\n",
        "    n_pos = K.sum(y_pos)\n",
        "    y_neg = 1 - y_pos\n",
        "    n_neg = K.sum(y_neg)\n",
        "    n = n_pos + n_neg\n",
        "    y_pred_pos = K.round(K.clip(y_pred, 0, 1))\n",
        "    y_pred_neg = 1 - y_pred_pos\n",
        "    tn = K.sum(K.round(K.clip(y_true * y_pred_neg, 0, 1))) # FN\n",
        "    return tn/n\n",
        "\n",
        "def FN_bkg(y_true, y_pred):\n",
        "    return FN(y_true[0], y_pred[0])\n",
        "\n",
        "def FN_alert(y_true, y_pred):\n",
        "    return FN(y_true[1], y_pred[1])\n",
        "    \n",
        "def FN_fall(y_true, y_pred):\n",
        "    return FN(y_true[2], y_pred[2])"
      ],
      "execution_count": 18,
      "outputs": []
    },
    {
      "cell_type": "markdown",
      "metadata": {
        "id": "cOYSX_ABQkmr"
      },
      "source": [
        "## Build our model\n",
        "### CNN"
      ]
    },
    {
      "cell_type": "code",
      "metadata": {
        "id": "qDs0mSoUVHjd",
        "outputId": "f770abb2-9c5d-49a1-bc58-5b3ef37bd0e9",
        "colab": {
          "base_uri": "https://localhost:8080/",
          "height": 686
        }
      },
      "source": [
        "model_m = Sequential()\n",
        "model_m.add(Reshape((num_time_periods, num_sensors), input_shape=(input_shape,)))\n",
        "model_m.add(Conv1D(filters=64, kernel_size=3, activation='relu', input_shape=(num_time_periods, num_sensors)))\n",
        "model_m.add(BatchNormalization())\n",
        "model_m.add(MaxPooling1D(3))\n",
        "model_m.add(Conv1D(filters=64, kernel_size=3, activation='relu'))\n",
        "model_m.add(BatchNormalization())\n",
        "model_m.add(MaxPooling1D(3))\n",
        "model_m.add(Conv1D(filters=64, kernel_size=3, activation='relu'))\n",
        "model_m.add(BatchNormalization())\n",
        "model_m.add(MaxPooling1D(3))\n",
        "model_m.add(GlobalAveragePooling1D())\n",
        "model_m.add(Dropout(0.5))\n",
        "model_m.add(Dense(1920, activation='relu'))\n",
        "model_m.add(Dense(512, activation='relu'))\n",
        "model_m.add(Dense(num_classes, activation='softmax'))\n",
        "print(model_m.summary())"
      ],
      "execution_count": null,
      "outputs": [
        {
          "output_type": "stream",
          "text": [
            "Model: \"sequential_6\"\n",
            "_________________________________________________________________\n",
            "Layer (type)                 Output Shape              Param #   \n",
            "=================================================================\n",
            "reshape_4 (Reshape)          (None, 256, 9)            0         \n",
            "_________________________________________________________________\n",
            "conv1d_6 (Conv1D)            (None, 254, 64)           1792      \n",
            "_________________________________________________________________\n",
            "batch_normalization_6 (Batch (None, 254, 64)           256       \n",
            "_________________________________________________________________\n",
            "max_pooling1d_6 (MaxPooling1 (None, 84, 64)            0         \n",
            "_________________________________________________________________\n",
            "conv1d_7 (Conv1D)            (None, 82, 64)            12352     \n",
            "_________________________________________________________________\n",
            "batch_normalization_7 (Batch (None, 82, 64)            256       \n",
            "_________________________________________________________________\n",
            "max_pooling1d_7 (MaxPooling1 (None, 27, 64)            0         \n",
            "_________________________________________________________________\n",
            "conv1d_8 (Conv1D)            (None, 25, 64)            12352     \n",
            "_________________________________________________________________\n",
            "batch_normalization_8 (Batch (None, 25, 64)            256       \n",
            "_________________________________________________________________\n",
            "max_pooling1d_8 (MaxPooling1 (None, 8, 64)             0         \n",
            "_________________________________________________________________\n",
            "global_average_pooling1d_2 ( (None, 64)                0         \n",
            "_________________________________________________________________\n",
            "dropout_2 (Dropout)          (None, 64)                0         \n",
            "_________________________________________________________________\n",
            "dense_8 (Dense)              (None, 1920)              124800    \n",
            "_________________________________________________________________\n",
            "dense_9 (Dense)              (None, 512)               983552    \n",
            "_________________________________________________________________\n",
            "dense_10 (Dense)             (None, 3)                 1539      \n",
            "=================================================================\n",
            "Total params: 1,137,155\n",
            "Trainable params: 1,136,771\n",
            "Non-trainable params: 384\n",
            "_________________________________________________________________\n",
            "None\n"
          ],
          "name": "stdout"
        }
      ]
    },
    {
      "cell_type": "markdown",
      "metadata": {
        "id": "k9ELwqlGQkmv"
      },
      "source": [
        "## Fit CNN the model"
      ]
    },
    {
      "cell_type": "code",
      "metadata": {
        "id": "45GRnLWSVn6U",
        "outputId": "6004b10b-b5d4-4a92-e3f7-6a757a4522e9",
        "colab": {
          "base_uri": "https://localhost:8080/",
          "height": 1000
        }
      },
      "source": [
        "start_time = time.time()\n",
        "callbacks_list = [keras.callbacks.ModelCheckpoint(filepath='./drive/My Drive/cnn_best_model.h5',\n",
        "                                                  monitor='val_loss', save_best_only=True)]#keras.callbacks.EarlyStopping(monitor='acc', patience=1)]\n",
        "\n",
        "optimizer = keras.optimizers.Adam(clipvalue=0.5)\n",
        "model_m.compile(loss='categorical_crossentropy',\n",
        "                optimizer=optimizer, metrics=['acc',f_score,TP_bkg,TN_bkg,FP_bkg,FN_bkg,TP_alert,TN_alert,FP_alert,FN_alert,TP_fall,TN_fall,FP_fall,FN_fall])    # accuracy\n",
        "\n",
        "BATCH_SIZE = 64\n",
        "EPOCHS = 40\n",
        "\n",
        "history = model_m.fit(X_train,\n",
        "                      y_train,\n",
        "                      batch_size=BATCH_SIZE,\n",
        "                      epochs=EPOCHS,\n",
        "                      callbacks=callbacks_list,\n",
        "                      validation_split=0.2,\n",
        "                      verbose=1)\n",
        "\n",
        "json.dump(history.history, open(\"./drive/My Drive/history_cnn.pkl\", \"w\"))\n",
        "print(\"--- %s seconds ---\" % (time.time() - start_time))"
      ],
      "execution_count": null,
      "outputs": [
        {
          "output_type": "stream",
          "text": [
            "Epoch 1/40\n",
            "1170/1170 [==============================] - 113s 97ms/step - loss: 0.0964 - acc: 0.9716 - f_score: 0.9716 - TP_bkg: 0.3228 - TN_bkg: 0.6578 - FP_bkg: 0.0088 - FN_bkg: 0.0105 - TP_alert: 0.3254 - TN_alert: 0.6610 - FP_alert: 0.0057 - FN_alert: 0.0080 - TP_fall: 0.3256 - TN_fall: 0.6604 - FP_fall: 0.0063 - FN_fall: 0.0077 - val_loss: 0.0714 - val_acc: 0.9769 - val_f_score: 0.9774 - val_TP_bkg: 0.3254 - val_TN_bkg: 0.6610 - val_FP_bkg: 0.0057 - val_FN_bkg: 0.0080 - val_TP_alert: 0.3242 - val_TN_alert: 0.6587 - val_FP_alert: 0.0080 - val_FN_alert: 0.0091 - val_TP_fall: 0.3299 - val_TN_fall: 0.6655 - val_FP_fall: 0.0011 - val_FN_fall: 0.0034\n",
            "Epoch 2/40\n",
            "1170/1170 [==============================] - 122s 104ms/step - loss: 0.0778 - acc: 0.9763 - f_score: 0.9764 - TP_bkg: 0.3222 - TN_bkg: 0.6587 - FP_bkg: 0.0080 - FN_bkg: 0.0111 - TP_alert: 0.3234 - TN_alert: 0.6601 - FP_alert: 0.0066 - FN_alert: 0.0100 - TP_fall: 0.3236 - TN_fall: 0.6595 - FP_fall: 0.0071 - FN_fall: 0.0097 - val_loss: 0.0693 - val_acc: 0.9788 - val_f_score: 0.9781 - val_TP_bkg: 0.3254 - val_TN_bkg: 0.6621 - val_FP_bkg: 0.0046 - val_FN_bkg: 0.0080 - val_TP_alert: 0.3242 - val_TN_alert: 0.6587 - val_FP_alert: 0.0080 - val_FN_alert: 0.0091 - val_TP_fall: 0.3254 - val_TN_fall: 0.6610 - val_FP_fall: 0.0057 - val_FN_fall: 0.0080\n",
            "Epoch 3/40\n",
            "1170/1170 [==============================] - 133s 114ms/step - loss: 0.0705 - acc: 0.9780 - f_score: 0.9782 - TP_bkg: 0.3242 - TN_bkg: 0.6607 - FP_bkg: 0.0060 - FN_bkg: 0.0091 - TP_alert: 0.3251 - TN_alert: 0.6595 - FP_alert: 0.0071 - FN_alert: 0.0083 - TP_fall: 0.3242 - TN_fall: 0.6595 - FP_fall: 0.0071 - FN_fall: 0.0091 - val_loss: 0.0614 - val_acc: 0.9792 - val_f_score: 0.9797 - val_TP_bkg: 0.3265 - val_TN_bkg: 0.6633 - val_FP_bkg: 0.0034 - val_FN_bkg: 0.0068 - val_TP_alert: 0.3242 - val_TN_alert: 0.6598 - val_FP_alert: 0.0068 - val_FN_alert: 0.0091 - val_TP_fall: 0.3276 - val_TN_fall: 0.6633 - val_FP_fall: 0.0034 - val_FN_fall: 0.0057\n",
            "Epoch 4/40\n",
            "1170/1170 [==============================] - 132s 113ms/step - loss: 0.0650 - acc: 0.9791 - f_score: 0.9795 - TP_bkg: 0.3262 - TN_bkg: 0.6615 - FP_bkg: 0.0051 - FN_bkg: 0.0071 - TP_alert: 0.3268 - TN_alert: 0.6618 - FP_alert: 0.0048 - FN_alert: 0.0066 - TP_fall: 0.3279 - TN_fall: 0.6618 - FP_fall: 0.0048 - FN_fall: 0.0054 - val_loss: 0.0615 - val_acc: 0.9796 - val_f_score: 0.9796 - val_TP_bkg: 0.3288 - val_TN_bkg: 0.6633 - val_FP_bkg: 0.0034 - val_FN_bkg: 0.0046 - val_TP_alert: 0.3242 - val_TN_alert: 0.6576 - val_FP_alert: 0.0091 - val_FN_alert: 0.0091 - val_TP_fall: 0.3288 - val_TN_fall: 0.6644 - val_FP_fall: 0.0023 - val_FN_fall: 0.0046\n",
            "Epoch 5/40\n",
            "1170/1170 [==============================] - 126s 108ms/step - loss: 0.0639 - acc: 0.9798 - f_score: 0.9800 - TP_bkg: 0.3256 - TN_bkg: 0.6610 - FP_bkg: 0.0057 - FN_bkg: 0.0077 - TP_alert: 0.3239 - TN_alert: 0.6587 - FP_alert: 0.0080 - FN_alert: 0.0094 - TP_fall: 0.3245 - TN_fall: 0.6601 - FP_fall: 0.0066 - FN_fall: 0.0088 - val_loss: 0.0555 - val_acc: 0.9810 - val_f_score: 0.9810 - val_TP_bkg: 0.3276 - val_TN_bkg: 0.6633 - val_FP_bkg: 0.0034 - val_FN_bkg: 0.0057 - val_TP_alert: 0.3254 - val_TN_alert: 0.6587 - val_FP_alert: 0.0080 - val_FN_alert: 0.0080 - val_TP_fall: 0.3288 - val_TN_fall: 0.6633 - val_FP_fall: 0.0034 - val_FN_fall: 0.0046\n",
            "Epoch 6/40\n",
            "1170/1170 [==============================] - 120s 102ms/step - loss: 0.0590 - acc: 0.9806 - f_score: 0.9810 - TP_bkg: 0.3276 - TN_bkg: 0.6627 - FP_bkg: 0.0040 - FN_bkg: 0.0057 - TP_alert: 0.3265 - TN_alert: 0.6604 - FP_alert: 0.0063 - FN_alert: 0.0068 - TP_fall: 0.3256 - TN_fall: 0.6601 - FP_fall: 0.0066 - FN_fall: 0.0077 - val_loss: 0.0552 - val_acc: 0.9809 - val_f_score: 0.9808 - val_TP_bkg: 0.3288 - val_TN_bkg: 0.6621 - val_FP_bkg: 0.0046 - val_FN_bkg: 0.0046 - val_TP_alert: 0.3242 - val_TN_alert: 0.6576 - val_FP_alert: 0.0091 - val_FN_alert: 0.0091 - val_TP_fall: 0.3311 - val_TN_fall: 0.6644 - val_FP_fall: 0.0023 - val_FN_fall: 0.0023\n",
            "Epoch 7/40\n",
            "1170/1170 [==============================] - 112s 96ms/step - loss: 0.0570 - acc: 0.9813 - f_score: 0.9814 - TP_bkg: 0.3254 - TN_bkg: 0.6613 - FP_bkg: 0.0054 - FN_bkg: 0.0080 - TP_alert: 0.3274 - TN_alert: 0.6621 - FP_alert: 0.0046 - FN_alert: 0.0060 - TP_fall: 0.3256 - TN_fall: 0.6595 - FP_fall: 0.0071 - FN_fall: 0.0077 - val_loss: 0.0524 - val_acc: 0.9814 - val_f_score: 0.9816 - val_TP_bkg: 0.3276 - val_TN_bkg: 0.6621 - val_FP_bkg: 0.0046 - val_FN_bkg: 0.0057 - val_TP_alert: 0.3254 - val_TN_alert: 0.6587 - val_FP_alert: 0.0080 - val_FN_alert: 0.0080 - val_TP_fall: 0.3276 - val_TN_fall: 0.6621 - val_FP_fall: 0.0046 - val_FN_fall: 0.0057\n",
            "Epoch 8/40\n",
            "1170/1170 [==============================] - 110s 94ms/step - loss: 0.0544 - acc: 0.9815 - f_score: 0.9817 - TP_bkg: 0.3282 - TN_bkg: 0.6624 - FP_bkg: 0.0043 - FN_bkg: 0.0051 - TP_alert: 0.3268 - TN_alert: 0.6624 - FP_alert: 0.0043 - FN_alert: 0.0066 - TP_fall: 0.3274 - TN_fall: 0.6621 - FP_fall: 0.0046 - FN_fall: 0.0060 - val_loss: 0.0525 - val_acc: 0.9817 - val_f_score: 0.9818 - val_TP_bkg: 0.3276 - val_TN_bkg: 0.6621 - val_FP_bkg: 0.0046 - val_FN_bkg: 0.0057 - val_TP_alert: 0.3231 - val_TN_alert: 0.6587 - val_FP_alert: 0.0080 - val_FN_alert: 0.0102 - val_TP_fall: 0.3299 - val_TN_fall: 0.6644 - val_FP_fall: 0.0023 - val_FN_fall: 0.0034\n",
            "Epoch 9/40\n",
            "1170/1170 [==============================] - 115s 98ms/step - loss: 0.0516 - acc: 0.9826 - f_score: 0.9829 - TP_bkg: 0.3259 - TN_bkg: 0.6607 - FP_bkg: 0.0060 - FN_bkg: 0.0074 - TP_alert: 0.3276 - TN_alert: 0.6618 - FP_alert: 0.0048 - FN_alert: 0.0057 - TP_fall: 0.3265 - TN_fall: 0.6604 - FP_fall: 0.0063 - FN_fall: 0.0068 - val_loss: 0.0507 - val_acc: 0.9829 - val_f_score: 0.9826 - val_TP_bkg: 0.3265 - val_TN_bkg: 0.6610 - val_FP_bkg: 0.0057 - val_FN_bkg: 0.0068 - val_TP_alert: 0.3231 - val_TN_alert: 0.6587 - val_FP_alert: 0.0080 - val_FN_alert: 0.0102 - val_TP_fall: 0.3276 - val_TN_fall: 0.6621 - val_FP_fall: 0.0046 - val_FN_fall: 0.0057\n",
            "Epoch 10/40\n",
            "1170/1170 [==============================] - 115s 98ms/step - loss: 0.0498 - acc: 0.9829 - f_score: 0.9831 - TP_bkg: 0.3265 - TN_bkg: 0.6615 - FP_bkg: 0.0051 - FN_bkg: 0.0068 - TP_alert: 0.3251 - TN_alert: 0.6607 - FP_alert: 0.0060 - FN_alert: 0.0083 - TP_fall: 0.3282 - TN_fall: 0.6621 - FP_fall: 0.0046 - FN_fall: 0.0051 - val_loss: 0.0492 - val_acc: 0.9830 - val_f_score: 0.9827 - val_TP_bkg: 0.3276 - val_TN_bkg: 0.6633 - val_FP_bkg: 0.0034 - val_FN_bkg: 0.0057 - val_TP_alert: 0.3220 - val_TN_alert: 0.6598 - val_FP_alert: 0.0068 - val_FN_alert: 0.0114 - val_TP_fall: 0.3299 - val_TN_fall: 0.6633 - val_FP_fall: 0.0034 - val_FN_fall: 0.0034\n",
            "Epoch 11/40\n",
            "1170/1170 [==============================] - 115s 98ms/step - loss: 0.0490 - acc: 0.9838 - f_score: 0.9839 - TP_bkg: 0.3265 - TN_bkg: 0.6613 - FP_bkg: 0.0054 - FN_bkg: 0.0068 - TP_alert: 0.3291 - TN_alert: 0.6630 - FP_alert: 0.0037 - FN_alert: 0.0043 - TP_fall: 0.3274 - TN_fall: 0.6613 - FP_fall: 0.0054 - FN_fall: 0.0060 - val_loss: 0.0485 - val_acc: 0.9833 - val_f_score: 0.9835 - val_TP_bkg: 0.3288 - val_TN_bkg: 0.6621 - val_FP_bkg: 0.0046 - val_FN_bkg: 0.0046 - val_TP_alert: 0.3231 - val_TN_alert: 0.6576 - val_FP_alert: 0.0091 - val_FN_alert: 0.0102 - val_TP_fall: 0.3299 - val_TN_fall: 0.6633 - val_FP_fall: 0.0034 - val_FN_fall: 0.0034\n",
            "Epoch 12/40\n",
            "1170/1170 [==============================] - 113s 97ms/step - loss: 0.0468 - acc: 0.9839 - f_score: 0.9841 - TP_bkg: 0.3274 - TN_bkg: 0.6613 - FP_bkg: 0.0054 - FN_bkg: 0.0060 - TP_alert: 0.3271 - TN_alert: 0.6607 - FP_alert: 0.0060 - FN_alert: 0.0063 - TP_fall: 0.3282 - TN_fall: 0.6624 - FP_fall: 0.0043 - FN_fall: 0.0051 - val_loss: 0.0501 - val_acc: 0.9829 - val_f_score: 0.9827 - val_TP_bkg: 0.3276 - val_TN_bkg: 0.6610 - val_FP_bkg: 0.0057 - val_FN_bkg: 0.0057 - val_TP_alert: 0.3220 - val_TN_alert: 0.6576 - val_FP_alert: 0.0091 - val_FN_alert: 0.0114 - val_TP_fall: 0.3288 - val_TN_fall: 0.6621 - val_FP_fall: 0.0046 - val_FN_fall: 0.0046\n",
            "Epoch 13/40\n",
            "1170/1170 [==============================] - 112s 96ms/step - loss: 0.0458 - acc: 0.9846 - f_score: 0.9846 - TP_bkg: 0.3288 - TN_bkg: 0.6633 - FP_bkg: 0.0034 - FN_bkg: 0.0046 - TP_alert: 0.3265 - TN_alert: 0.6618 - FP_alert: 0.0048 - FN_alert: 0.0068 - TP_fall: 0.3285 - TN_fall: 0.6624 - FP_fall: 0.0043 - FN_fall: 0.0048 - val_loss: 0.0526 - val_acc: 0.9818 - val_f_score: 0.9816 - val_TP_bkg: 0.3288 - val_TN_bkg: 0.6621 - val_FP_bkg: 0.0046 - val_FN_bkg: 0.0046 - val_TP_alert: 0.3242 - val_TN_alert: 0.6587 - val_FP_alert: 0.0080 - val_FN_alert: 0.0091 - val_TP_fall: 0.3299 - val_TN_fall: 0.6633 - val_FP_fall: 0.0034 - val_FN_fall: 0.0034\n",
            "Epoch 14/40\n",
            "1170/1170 [==============================] - 114s 98ms/step - loss: 0.0444 - acc: 0.9849 - f_score: 0.9851 - TP_bkg: 0.3291 - TN_bkg: 0.6627 - FP_bkg: 0.0040 - FN_bkg: 0.0043 - TP_alert: 0.3279 - TN_alert: 0.6621 - FP_alert: 0.0046 - FN_alert: 0.0054 - TP_fall: 0.3279 - TN_fall: 0.6630 - FP_fall: 0.0037 - FN_fall: 0.0054 - val_loss: 0.0599 - val_acc: 0.9818 - val_f_score: 0.9825 - val_TP_bkg: 0.3288 - val_TN_bkg: 0.6633 - val_FP_bkg: 0.0034 - val_FN_bkg: 0.0046 - val_TP_alert: 0.3254 - val_TN_alert: 0.6598 - val_FP_alert: 0.0068 - val_FN_alert: 0.0080 - val_TP_fall: 0.3311 - val_TN_fall: 0.6644 - val_FP_fall: 0.0023 - val_FN_fall: 0.0023\n",
            "Epoch 15/40\n",
            "1170/1170 [==============================] - 141s 121ms/step - loss: 0.0427 - acc: 0.9854 - f_score: 0.9858 - TP_bkg: 0.3288 - TN_bkg: 0.6633 - FP_bkg: 0.0034 - FN_bkg: 0.0046 - TP_alert: 0.3299 - TN_alert: 0.6641 - FP_alert: 0.0026 - FN_alert: 0.0034 - TP_fall: 0.3288 - TN_fall: 0.6633 - FP_fall: 0.0034 - FN_fall: 0.0046 - val_loss: 0.0476 - val_acc: 0.9837 - val_f_score: 0.9838 - val_TP_bkg: 0.3288 - val_TN_bkg: 0.6633 - val_FP_bkg: 0.0034 - val_FN_bkg: 0.0046 - val_TP_alert: 0.3231 - val_TN_alert: 0.6576 - val_FP_alert: 0.0091 - val_FN_alert: 0.0102 - val_TP_fall: 0.3311 - val_TN_fall: 0.6644 - val_FP_fall: 0.0023 - val_FN_fall: 0.0023\n",
            "Epoch 16/40\n",
            "1170/1170 [==============================] - 115s 98ms/step - loss: 0.0419 - acc: 0.9857 - f_score: 0.9859 - TP_bkg: 0.3299 - TN_bkg: 0.6635 - FP_bkg: 0.0031 - FN_bkg: 0.0034 - TP_alert: 0.3274 - TN_alert: 0.6618 - FP_alert: 0.0048 - FN_alert: 0.0060 - TP_fall: 0.3251 - TN_fall: 0.6593 - FP_fall: 0.0074 - FN_fall: 0.0083 - val_loss: 0.0467 - val_acc: 0.9838 - val_f_score: 0.9842 - val_TP_bkg: 0.3276 - val_TN_bkg: 0.6621 - val_FP_bkg: 0.0046 - val_FN_bkg: 0.0057 - val_TP_alert: 0.3208 - val_TN_alert: 0.6598 - val_FP_alert: 0.0068 - val_FN_alert: 0.0125 - val_TP_fall: 0.3322 - val_TN_fall: 0.6655 - val_FP_fall: 0.0011 - val_FN_fall: 0.0011\n",
            "Epoch 17/40\n",
            "1170/1170 [==============================] - 111s 95ms/step - loss: 0.0409 - acc: 0.9860 - f_score: 0.9864 - TP_bkg: 0.3274 - TN_bkg: 0.6610 - FP_bkg: 0.0057 - FN_bkg: 0.0060 - TP_alert: 0.3282 - TN_alert: 0.6624 - FP_alert: 0.0043 - FN_alert: 0.0051 - TP_fall: 0.3296 - TN_fall: 0.6638 - FP_fall: 0.0028 - FN_fall: 0.0037 - val_loss: 0.0562 - val_acc: 0.9816 - val_f_score: 0.9817 - val_TP_bkg: 0.3265 - val_TN_bkg: 0.6621 - val_FP_bkg: 0.0046 - val_FN_bkg: 0.0068 - val_TP_alert: 0.3220 - val_TN_alert: 0.6576 - val_FP_alert: 0.0091 - val_FN_alert: 0.0114 - val_TP_fall: 0.3299 - val_TN_fall: 0.6633 - val_FP_fall: 0.0034 - val_FN_fall: 0.0034\n",
            "Epoch 18/40\n",
            "1170/1170 [==============================] - 118s 101ms/step - loss: 0.0398 - acc: 0.9862 - f_score: 0.9862 - TP_bkg: 0.3288 - TN_bkg: 0.6635 - FP_bkg: 0.0031 - FN_bkg: 0.0046 - TP_alert: 0.3305 - TN_alert: 0.6644 - FP_alert: 0.0023 - FN_alert: 0.0028 - TP_fall: 0.3285 - TN_fall: 0.6633 - FP_fall: 0.0034 - FN_fall: 0.0048 - val_loss: 0.0466 - val_acc: 0.9855 - val_f_score: 0.9854 - val_TP_bkg: 0.3288 - val_TN_bkg: 0.6621 - val_FP_bkg: 0.0046 - val_FN_bkg: 0.0046 - val_TP_alert: 0.3242 - val_TN_alert: 0.6587 - val_FP_alert: 0.0080 - val_FN_alert: 0.0091 - val_TP_fall: 0.3299 - val_TN_fall: 0.6644 - val_FP_fall: 0.0023 - val_FN_fall: 0.0034\n",
            "Epoch 19/40\n",
            "1170/1170 [==============================] - 114s 97ms/step - loss: 0.0391 - acc: 0.9868 - f_score: 0.9870 - TP_bkg: 0.3285 - TN_bkg: 0.6624 - FP_bkg: 0.0043 - FN_bkg: 0.0048 - TP_alert: 0.3274 - TN_alert: 0.6624 - FP_alert: 0.0043 - FN_alert: 0.0060 - TP_fall: 0.3276 - TN_fall: 0.6635 - FP_fall: 0.0031 - FN_fall: 0.0057 - val_loss: 0.0485 - val_acc: 0.9829 - val_f_score: 0.9829 - val_TP_bkg: 0.3276 - val_TN_bkg: 0.6621 - val_FP_bkg: 0.0046 - val_FN_bkg: 0.0057 - val_TP_alert: 0.3220 - val_TN_alert: 0.6564 - val_FP_alert: 0.0102 - val_FN_alert: 0.0114 - val_TP_fall: 0.3288 - val_TN_fall: 0.6644 - val_FP_fall: 0.0023 - val_FN_fall: 0.0046\n",
            "Epoch 20/40\n",
            "1170/1170 [==============================] - 115s 98ms/step - loss: 0.0384 - acc: 0.9865 - f_score: 0.9867 - TP_bkg: 0.3285 - TN_bkg: 0.6627 - FP_bkg: 0.0040 - FN_bkg: 0.0048 - TP_alert: 0.3285 - TN_alert: 0.6635 - FP_alert: 0.0031 - FN_alert: 0.0048 - TP_fall: 0.3288 - TN_fall: 0.6624 - FP_fall: 0.0043 - FN_fall: 0.0046 - val_loss: 0.0457 - val_acc: 0.9851 - val_f_score: 0.9851 - val_TP_bkg: 0.3288 - val_TN_bkg: 0.6633 - val_FP_bkg: 0.0034 - val_FN_bkg: 0.0046 - val_TP_alert: 0.3231 - val_TN_alert: 0.6576 - val_FP_alert: 0.0091 - val_FN_alert: 0.0102 - val_TP_fall: 0.3311 - val_TN_fall: 0.6655 - val_FP_fall: 0.0011 - val_FN_fall: 0.0023\n",
            "Epoch 21/40\n",
            "1170/1170 [==============================] - 119s 101ms/step - loss: 0.0365 - acc: 0.9877 - f_score: 0.9879 - TP_bkg: 0.3276 - TN_bkg: 0.6615 - FP_bkg: 0.0051 - FN_bkg: 0.0057 - TP_alert: 0.3302 - TN_alert: 0.6638 - FP_alert: 0.0028 - FN_alert: 0.0031 - TP_fall: 0.3296 - TN_fall: 0.6630 - FP_fall: 0.0037 - FN_fall: 0.0037 - val_loss: 0.0462 - val_acc: 0.9842 - val_f_score: 0.9845 - val_TP_bkg: 0.3276 - val_TN_bkg: 0.6621 - val_FP_bkg: 0.0046 - val_FN_bkg: 0.0057 - val_TP_alert: 0.3242 - val_TN_alert: 0.6598 - val_FP_alert: 0.0068 - val_FN_alert: 0.0091 - val_TP_fall: 0.3299 - val_TN_fall: 0.6644 - val_FP_fall: 0.0023 - val_FN_fall: 0.0034\n",
            "Epoch 22/40\n",
            "1170/1170 [==============================] - 127s 109ms/step - loss: 0.0371 - acc: 0.9873 - f_score: 0.9873 - TP_bkg: 0.3299 - TN_bkg: 0.6635 - FP_bkg: 0.0031 - FN_bkg: 0.0034 - TP_alert: 0.3288 - TN_alert: 0.6638 - FP_alert: 0.0028 - FN_alert: 0.0046 - TP_fall: 0.3279 - TN_fall: 0.6627 - FP_fall: 0.0040 - FN_fall: 0.0054 - val_loss: 0.0505 - val_acc: 0.9837 - val_f_score: 0.9838 - val_TP_bkg: 0.3265 - val_TN_bkg: 0.6610 - val_FP_bkg: 0.0057 - val_FN_bkg: 0.0068 - val_TP_alert: 0.3231 - val_TN_alert: 0.6621 - val_FP_alert: 0.0046 - val_FN_alert: 0.0102 - val_TP_fall: 0.3311 - val_TN_fall: 0.6644 - val_FP_fall: 0.0023 - val_FN_fall: 0.0023\n",
            "Epoch 23/40\n",
            "1170/1170 [==============================] - 125s 107ms/step - loss: 0.0371 - acc: 0.9879 - f_score: 0.9879 - TP_bkg: 0.3282 - TN_bkg: 0.6630 - FP_bkg: 0.0037 - FN_bkg: 0.0051 - TP_alert: 0.3305 - TN_alert: 0.6644 - FP_alert: 0.0023 - FN_alert: 0.0028 - TP_fall: 0.3299 - TN_fall: 0.6647 - FP_fall: 0.0020 - FN_fall: 0.0034 - val_loss: 0.0462 - val_acc: 0.9850 - val_f_score: 0.9853 - val_TP_bkg: 0.3288 - val_TN_bkg: 0.6633 - val_FP_bkg: 0.0034 - val_FN_bkg: 0.0046 - val_TP_alert: 0.3254 - val_TN_alert: 0.6610 - val_FP_alert: 0.0057 - val_FN_alert: 0.0080 - val_TP_fall: 0.3322 - val_TN_fall: 0.6655 - val_FP_fall: 0.0011 - val_FN_fall: 0.0011\n",
            "Epoch 24/40\n",
            "1170/1170 [==============================] - 128s 109ms/step - loss: 0.0341 - acc: 0.9882 - f_score: 0.9883 - TP_bkg: 0.3279 - TN_bkg: 0.6630 - FP_bkg: 0.0037 - FN_bkg: 0.0054 - TP_alert: 0.3279 - TN_alert: 0.6633 - FP_alert: 0.0034 - FN_alert: 0.0054 - TP_fall: 0.3279 - TN_fall: 0.6624 - FP_fall: 0.0043 - FN_fall: 0.0054 - val_loss: 0.0447 - val_acc: 0.9851 - val_f_score: 0.9850 - val_TP_bkg: 0.3276 - val_TN_bkg: 0.6621 - val_FP_bkg: 0.0046 - val_FN_bkg: 0.0057 - val_TP_alert: 0.3231 - val_TN_alert: 0.6587 - val_FP_alert: 0.0080 - val_FN_alert: 0.0102 - val_TP_fall: 0.3311 - val_TN_fall: 0.6655 - val_FP_fall: 0.0011 - val_FN_fall: 0.0023\n",
            "Epoch 25/40\n",
            "1170/1170 [==============================] - 115s 98ms/step - loss: 0.0349 - acc: 0.9881 - f_score: 0.9880 - TP_bkg: 0.3296 - TN_bkg: 0.6635 - FP_bkg: 0.0031 - FN_bkg: 0.0037 - TP_alert: 0.3311 - TN_alert: 0.6652 - FP_alert: 0.0014 - FN_alert: 0.0023 - TP_fall: 0.3282 - TN_fall: 0.6624 - FP_fall: 0.0043 - FN_fall: 0.0051 - val_loss: 0.0472 - val_acc: 0.9849 - val_f_score: 0.9849 - val_TP_bkg: 0.3288 - val_TN_bkg: 0.6633 - val_FP_bkg: 0.0034 - val_FN_bkg: 0.0046 - val_TP_alert: 0.3254 - val_TN_alert: 0.6598 - val_FP_alert: 0.0068 - val_FN_alert: 0.0080 - val_TP_fall: 0.3311 - val_TN_fall: 0.6644 - val_FP_fall: 0.0023 - val_FN_fall: 0.0023\n",
            "Epoch 26/40\n",
            "1170/1170 [==============================] - 113s 97ms/step - loss: 0.0325 - acc: 0.9889 - f_score: 0.9889 - TP_bkg: 0.3288 - TN_bkg: 0.6630 - FP_bkg: 0.0037 - FN_bkg: 0.0046 - TP_alert: 0.3271 - TN_alert: 0.6618 - FP_alert: 0.0048 - FN_alert: 0.0063 - TP_fall: 0.3291 - TN_fall: 0.6627 - FP_fall: 0.0040 - FN_fall: 0.0043 - val_loss: 0.0508 - val_acc: 0.9837 - val_f_score: 0.9840 - val_TP_bkg: 0.3276 - val_TN_bkg: 0.6610 - val_FP_bkg: 0.0057 - val_FN_bkg: 0.0057 - val_TP_alert: 0.3254 - val_TN_alert: 0.6587 - val_FP_alert: 0.0080 - val_FN_alert: 0.0080 - val_TP_fall: 0.3311 - val_TN_fall: 0.6644 - val_FP_fall: 0.0023 - val_FN_fall: 0.0023\n",
            "Epoch 27/40\n",
            "1170/1170 [==============================] - 113s 97ms/step - loss: 0.0333 - acc: 0.9887 - f_score: 0.9887 - TP_bkg: 0.3291 - TN_bkg: 0.6638 - FP_bkg: 0.0028 - FN_bkg: 0.0043 - TP_alert: 0.3282 - TN_alert: 0.6627 - FP_alert: 0.0040 - FN_alert: 0.0051 - TP_fall: 0.3279 - TN_fall: 0.6618 - FP_fall: 0.0048 - FN_fall: 0.0054 - val_loss: 0.0515 - val_acc: 0.9835 - val_f_score: 0.9838 - val_TP_bkg: 0.3299 - val_TN_bkg: 0.6633 - val_FP_bkg: 0.0034 - val_FN_bkg: 0.0034 - val_TP_alert: 0.3242 - val_TN_alert: 0.6587 - val_FP_alert: 0.0080 - val_FN_alert: 0.0091 - val_TP_fall: 0.3311 - val_TN_fall: 0.6655 - val_FP_fall: 0.0011 - val_FN_fall: 0.0023\n",
            "Epoch 28/40\n",
            "1170/1170 [==============================] - 113s 96ms/step - loss: 0.0319 - acc: 0.9892 - f_score: 0.9893 - TP_bkg: 0.3299 - TN_bkg: 0.6644 - FP_bkg: 0.0023 - FN_bkg: 0.0034 - TP_alert: 0.3271 - TN_alert: 0.6618 - FP_alert: 0.0048 - FN_alert: 0.0063 - TP_fall: 0.3305 - TN_fall: 0.6644 - FP_fall: 0.0023 - FN_fall: 0.0028 - val_loss: 0.0541 - val_acc: 0.9846 - val_f_score: 0.9846 - val_TP_bkg: 0.3276 - val_TN_bkg: 0.6610 - val_FP_bkg: 0.0057 - val_FN_bkg: 0.0057 - val_TP_alert: 0.3231 - val_TN_alert: 0.6610 - val_FP_alert: 0.0057 - val_FN_alert: 0.0102 - val_TP_fall: 0.3311 - val_TN_fall: 0.6644 - val_FP_fall: 0.0023 - val_FN_fall: 0.0023\n",
            "Epoch 29/40\n",
            "1170/1170 [==============================] - 126s 107ms/step - loss: 0.0318 - acc: 0.9888 - f_score: 0.9889 - TP_bkg: 0.3302 - TN_bkg: 0.6647 - FP_bkg: 0.0020 - FN_bkg: 0.0031 - TP_alert: 0.3299 - TN_alert: 0.6641 - FP_alert: 0.0026 - FN_alert: 0.0034 - TP_fall: 0.3302 - TN_fall: 0.6644 - FP_fall: 0.0023 - FN_fall: 0.0031 - val_loss: 0.0526 - val_acc: 0.9838 - val_f_score: 0.9835 - val_TP_bkg: 0.3265 - val_TN_bkg: 0.6621 - val_FP_bkg: 0.0046 - val_FN_bkg: 0.0068 - val_TP_alert: 0.3242 - val_TN_alert: 0.6587 - val_FP_alert: 0.0080 - val_FN_alert: 0.0091 - val_TP_fall: 0.3311 - val_TN_fall: 0.6644 - val_FP_fall: 0.0023 - val_FN_fall: 0.0023\n",
            "Epoch 30/40\n",
            "1170/1170 [==============================] - 119s 102ms/step - loss: 0.0307 - acc: 0.9894 - f_score: 0.9894 - TP_bkg: 0.3302 - TN_bkg: 0.6641 - FP_bkg: 0.0026 - FN_bkg: 0.0031 - TP_alert: 0.3291 - TN_alert: 0.6644 - FP_alert: 0.0023 - FN_alert: 0.0043 - TP_fall: 0.3305 - TN_fall: 0.6644 - FP_fall: 0.0023 - FN_fall: 0.0028 - val_loss: 0.0539 - val_acc: 0.9840 - val_f_score: 0.9836 - val_TP_bkg: 0.3265 - val_TN_bkg: 0.6610 - val_FP_bkg: 0.0057 - val_FN_bkg: 0.0068 - val_TP_alert: 0.3231 - val_TN_alert: 0.6587 - val_FP_alert: 0.0080 - val_FN_alert: 0.0102 - val_TP_fall: 0.3288 - val_TN_fall: 0.6644 - val_FP_fall: 0.0023 - val_FN_fall: 0.0046\n",
            "Epoch 31/40\n",
            "1170/1170 [==============================] - 126s 107ms/step - loss: 0.0304 - acc: 0.9897 - f_score: 0.9897 - TP_bkg: 0.3288 - TN_bkg: 0.6633 - FP_bkg: 0.0034 - FN_bkg: 0.0046 - TP_alert: 0.3319 - TN_alert: 0.6655 - FP_alert: 0.0011 - FN_alert: 0.0014 - TP_fall: 0.3288 - TN_fall: 0.6635 - FP_fall: 0.0031 - FN_fall: 0.0046 - val_loss: 0.0482 - val_acc: 0.9845 - val_f_score: 0.9847 - val_TP_bkg: 0.3265 - val_TN_bkg: 0.6598 - val_FP_bkg: 0.0068 - val_FN_bkg: 0.0068 - val_TP_alert: 0.3231 - val_TN_alert: 0.6587 - val_FP_alert: 0.0080 - val_FN_alert: 0.0102 - val_TP_fall: 0.3299 - val_TN_fall: 0.6644 - val_FP_fall: 0.0023 - val_FN_fall: 0.0034\n",
            "Epoch 32/40\n",
            "1170/1170 [==============================] - 117s 100ms/step - loss: 0.0304 - acc: 0.9894 - f_score: 0.9893 - TP_bkg: 0.3293 - TN_bkg: 0.6627 - FP_bkg: 0.0040 - FN_bkg: 0.0040 - TP_alert: 0.3302 - TN_alert: 0.6647 - FP_alert: 0.0020 - FN_alert: 0.0031 - TP_fall: 0.3313 - TN_fall: 0.6650 - FP_fall: 0.0017 - FN_fall: 0.0020 - val_loss: 0.0493 - val_acc: 0.9848 - val_f_score: 0.9849 - val_TP_bkg: 0.3276 - val_TN_bkg: 0.6644 - val_FP_bkg: 0.0023 - val_FN_bkg: 0.0057 - val_TP_alert: 0.3231 - val_TN_alert: 0.6598 - val_FP_alert: 0.0068 - val_FN_alert: 0.0102 - val_TP_fall: 0.3322 - val_TN_fall: 0.6655 - val_FP_fall: 0.0011 - val_FN_fall: 0.0011\n",
            "Epoch 33/40\n",
            "1170/1170 [==============================] - 124s 106ms/step - loss: 0.0298 - acc: 0.9899 - f_score: 0.9898 - TP_bkg: 0.3282 - TN_bkg: 0.6624 - FP_bkg: 0.0043 - FN_bkg: 0.0051 - TP_alert: 0.3285 - TN_alert: 0.6635 - FP_alert: 0.0031 - FN_alert: 0.0048 - TP_fall: 0.3279 - TN_fall: 0.6621 - FP_fall: 0.0046 - FN_fall: 0.0054 - val_loss: 0.0493 - val_acc: 0.9842 - val_f_score: 0.9844 - val_TP_bkg: 0.3265 - val_TN_bkg: 0.6621 - val_FP_bkg: 0.0046 - val_FN_bkg: 0.0068 - val_TP_alert: 0.3242 - val_TN_alert: 0.6587 - val_FP_alert: 0.0080 - val_FN_alert: 0.0091 - val_TP_fall: 0.3299 - val_TN_fall: 0.6633 - val_FP_fall: 0.0034 - val_FN_fall: 0.0034\n",
            "Epoch 34/40\n",
            "1170/1170 [==============================] - 117s 100ms/step - loss: 0.0291 - acc: 0.9902 - f_score: 0.9903 - TP_bkg: 0.3299 - TN_bkg: 0.6638 - FP_bkg: 0.0028 - FN_bkg: 0.0034 - TP_alert: 0.3313 - TN_alert: 0.6650 - FP_alert: 0.0017 - FN_alert: 0.0020 - TP_fall: 0.3305 - TN_fall: 0.6644 - FP_fall: 0.0023 - FN_fall: 0.0028 - val_loss: 0.0496 - val_acc: 0.9847 - val_f_score: 0.9848 - val_TP_bkg: 0.3288 - val_TN_bkg: 0.6621 - val_FP_bkg: 0.0046 - val_FN_bkg: 0.0046 - val_TP_alert: 0.3242 - val_TN_alert: 0.6587 - val_FP_alert: 0.0080 - val_FN_alert: 0.0091 - val_TP_fall: 0.3322 - val_TN_fall: 0.6655 - val_FP_fall: 0.0011 - val_FN_fall: 0.0011\n",
            "Epoch 35/40\n",
            "1170/1170 [==============================] - 125s 107ms/step - loss: 0.0278 - acc: 0.9904 - f_score: 0.9905 - TP_bkg: 0.3296 - TN_bkg: 0.6635 - FP_bkg: 0.0031 - FN_bkg: 0.0037 - TP_alert: 0.3305 - TN_alert: 0.6641 - FP_alert: 0.0026 - FN_alert: 0.0028 - TP_fall: 0.3313 - TN_fall: 0.6650 - FP_fall: 0.0017 - FN_fall: 0.0020 - val_loss: 0.0466 - val_acc: 0.9845 - val_f_score: 0.9846 - val_TP_bkg: 0.3288 - val_TN_bkg: 0.6621 - val_FP_bkg: 0.0046 - val_FN_bkg: 0.0046 - val_TP_alert: 0.3242 - val_TN_alert: 0.6610 - val_FP_alert: 0.0057 - val_FN_alert: 0.0091 - val_TP_fall: 0.3322 - val_TN_fall: 0.6655 - val_FP_fall: 0.0011 - val_FN_fall: 0.0011\n",
            "Epoch 36/40\n",
            "1170/1170 [==============================] - 111s 95ms/step - loss: 0.0274 - acc: 0.9909 - f_score: 0.9909 - TP_bkg: 0.3302 - TN_bkg: 0.6638 - FP_bkg: 0.0028 - FN_bkg: 0.0031 - TP_alert: 0.3293 - TN_alert: 0.6630 - FP_alert: 0.0037 - FN_alert: 0.0040 - TP_fall: 0.3308 - TN_fall: 0.6647 - FP_fall: 0.0020 - FN_fall: 0.0026 - val_loss: 0.0482 - val_acc: 0.9846 - val_f_score: 0.9845 - val_TP_bkg: 0.3276 - val_TN_bkg: 0.6610 - val_FP_bkg: 0.0057 - val_FN_bkg: 0.0057 - val_TP_alert: 0.3254 - val_TN_alert: 0.6587 - val_FP_alert: 0.0080 - val_FN_alert: 0.0080 - val_TP_fall: 0.3299 - val_TN_fall: 0.6655 - val_FP_fall: 0.0011 - val_FN_fall: 0.0034\n",
            "Epoch 37/40\n",
            "1170/1170 [==============================] - 109s 93ms/step - loss: 0.0270 - acc: 0.9906 - f_score: 0.9908 - TP_bkg: 0.3299 - TN_bkg: 0.6638 - FP_bkg: 0.0028 - FN_bkg: 0.0034 - TP_alert: 0.3308 - TN_alert: 0.6650 - FP_alert: 0.0017 - FN_alert: 0.0026 - TP_fall: 0.3302 - TN_fall: 0.6647 - FP_fall: 0.0020 - FN_fall: 0.0031 - val_loss: 0.0480 - val_acc: 0.9850 - val_f_score: 0.9849 - val_TP_bkg: 0.3265 - val_TN_bkg: 0.6610 - val_FP_bkg: 0.0057 - val_FN_bkg: 0.0068 - val_TP_alert: 0.3231 - val_TN_alert: 0.6598 - val_FP_alert: 0.0068 - val_FN_alert: 0.0102 - val_TP_fall: 0.3299 - val_TN_fall: 0.6644 - val_FP_fall: 0.0023 - val_FN_fall: 0.0034\n",
            "Epoch 38/40\n",
            "1170/1170 [==============================] - 111s 95ms/step - loss: 0.0267 - acc: 0.9908 - f_score: 0.9909 - TP_bkg: 0.3285 - TN_bkg: 0.6630 - FP_bkg: 0.0037 - FN_bkg: 0.0048 - TP_alert: 0.3288 - TN_alert: 0.6627 - FP_alert: 0.0040 - FN_alert: 0.0046 - TP_fall: 0.3311 - TN_fall: 0.6650 - FP_fall: 0.0017 - FN_fall: 0.0023 - val_loss: 0.0486 - val_acc: 0.9851 - val_f_score: 0.9852 - val_TP_bkg: 0.3265 - val_TN_bkg: 0.6610 - val_FP_bkg: 0.0057 - val_FN_bkg: 0.0068 - val_TP_alert: 0.3242 - val_TN_alert: 0.6610 - val_FP_alert: 0.0057 - val_FN_alert: 0.0091 - val_TP_fall: 0.3311 - val_TN_fall: 0.6655 - val_FP_fall: 0.0011 - val_FN_fall: 0.0023\n",
            "Epoch 39/40\n",
            "1170/1170 [==============================] - 121s 103ms/step - loss: 0.0275 - acc: 0.9909 - f_score: 0.9909 - TP_bkg: 0.3291 - TN_bkg: 0.6633 - FP_bkg: 0.0034 - FN_bkg: 0.0043 - TP_alert: 0.3291 - TN_alert: 0.6630 - FP_alert: 0.0037 - FN_alert: 0.0043 - TP_fall: 0.3308 - TN_fall: 0.6647 - FP_fall: 0.0020 - FN_fall: 0.0026 - val_loss: 0.0482 - val_acc: 0.9833 - val_f_score: 0.9837 - val_TP_bkg: 0.3254 - val_TN_bkg: 0.6587 - val_FP_bkg: 0.0080 - val_FN_bkg: 0.0080 - val_TP_alert: 0.3254 - val_TN_alert: 0.6587 - val_FP_alert: 0.0080 - val_FN_alert: 0.0080 - val_TP_fall: 0.3299 - val_TN_fall: 0.6644 - val_FP_fall: 0.0023 - val_FN_fall: 0.0034\n",
            "Epoch 40/40\n",
            "1170/1170 [==============================] - 118s 101ms/step - loss: 0.0257 - acc: 0.9911 - f_score: 0.9913 - TP_bkg: 0.3322 - TN_bkg: 0.6661 - FP_bkg: 5.6980e-04 - FN_bkg: 0.0011 - TP_alert: 0.3328 - TN_alert: 0.6661 - FP_alert: 5.6980e-04 - FN_alert: 5.6980e-04 - TP_fall: 0.3285 - TN_fall: 0.6630 - FP_fall: 0.0037 - FN_fall: 0.0048 - val_loss: 0.0506 - val_acc: 0.9849 - val_f_score: 0.9848 - val_TP_bkg: 0.3254 - val_TN_bkg: 0.6610 - val_FP_bkg: 0.0057 - val_FN_bkg: 0.0080 - val_TP_alert: 0.3254 - val_TN_alert: 0.6598 - val_FP_alert: 0.0068 - val_FN_alert: 0.0080 - val_TP_fall: 0.3311 - val_TN_fall: 0.6644 - val_FP_fall: 0.0023 - val_FN_fall: 0.0023\n",
            "--- 4747.838675022125 seconds ---\n"
          ],
          "name": "stdout"
        }
      ]
    },
    {
      "cell_type": "markdown",
      "metadata": {
        "id": "DX3CWGuO-yUm"
      },
      "source": [
        "## Build our model\n",
        "### LSTM"
      ]
    },
    {
      "cell_type": "code",
      "metadata": {
        "id": "9gfNVgmV_GyB",
        "outputId": "c12a883f-9262-4299-865e-e95659aecb9c",
        "colab": {
          "base_uri": "https://localhost:8080/",
          "height": 490
        }
      },
      "source": [
        "model_m = keras.Sequential()\n",
        "model_m.add(Dense(32, activation='relu', input_shape=(num_time_periods, num_sensors)))\n",
        "model_m.add(BatchNormalization())\n",
        "model_m.add(Dropout(0.5))\n",
        "model_m.add(LSTM(32, activation='relu', return_sequences=True))\n",
        "model_m.add(Dropout(0.5))\n",
        "model_m.add(LSTM(32, activation='relu'))\n",
        "model_m.add(Dropout(0.5))\n",
        "model_m.add(Dense(512))\n",
        "model_m.add(Dense(num_classes, activation='softmax'))\n",
        "model_m.summary()"
      ],
      "execution_count": 43,
      "outputs": [
        {
          "output_type": "stream",
          "text": [
            "Model: \"sequential_9\"\n",
            "_________________________________________________________________\n",
            "Layer (type)                 Output Shape              Param #   \n",
            "=================================================================\n",
            "dense_19 (Dense)             (None, 256, 32)           320       \n",
            "_________________________________________________________________\n",
            "batch_normalization_1 (Batch (None, 256, 32)           128       \n",
            "_________________________________________________________________\n",
            "dropout_11 (Dropout)         (None, 256, 32)           0         \n",
            "_________________________________________________________________\n",
            "lstm_12 (LSTM)               (None, 256, 32)           8320      \n",
            "_________________________________________________________________\n",
            "dropout_12 (Dropout)         (None, 256, 32)           0         \n",
            "_________________________________________________________________\n",
            "lstm_13 (LSTM)               (None, 32)                8320      \n",
            "_________________________________________________________________\n",
            "dropout_13 (Dropout)         (None, 32)                0         \n",
            "_________________________________________________________________\n",
            "dense_20 (Dense)             (None, 512)               16896     \n",
            "_________________________________________________________________\n",
            "dense_21 (Dense)             (None, 3)                 1539      \n",
            "=================================================================\n",
            "Total params: 35,523\n",
            "Trainable params: 35,459\n",
            "Non-trainable params: 64\n",
            "_________________________________________________________________\n"
          ],
          "name": "stdout"
        }
      ]
    },
    {
      "cell_type": "markdown",
      "metadata": {
        "id": "OQNE8LmN_O3B"
      },
      "source": [
        "## Fit LSTM the model"
      ]
    },
    {
      "cell_type": "code",
      "metadata": {
        "id": "icb2Wx9l3BXo",
        "outputId": "6a8d136b-dbcc-4718-b291-936c1463a12c",
        "colab": {
          "base_uri": "https://localhost:8080/",
          "height": 596
        }
      },
      "source": [
        "start_time = time.time()\n",
        "callbacks_list = [keras.callbacks.ModelCheckpoint(filepath='./drive/My Drive/lstm_best_model.h5',\n",
        "                                                  monitor='val_loss', save_best_only=True)]#keras.callbacks.EarlyStopping(monitor='acc', patience=1)]\n",
        "\n",
        "optimizer = keras.optimizers.Adam(clipvalue=0.5)\n",
        "model_m.compile(loss='categorical_crossentropy',\n",
        "                optimizer=optimizer, metrics=['acc',f_score,TP_bkg,TN_bkg,FP_bkg,FN_bkg,TP_alert,TN_alert,FP_alert,FN_alert,TP_fall,TN_fall,FP_fall,FN_fall])    # accuracy\n",
        "\n",
        "BATCH_SIZE = 64\n",
        "EPOCHS = 40\n",
        "\n",
        "history = model_m.fit(X_train,\n",
        "                      y_train,\n",
        "                      batch_size=BATCH_SIZE,\n",
        "                      epochs=EPOCHS,\n",
        "                      callbacks=callbacks_list,\n",
        "                      validation_split=0.2,\n",
        "                      verbose=1)\n",
        "\n",
        "json.dump(history.history, open(\"./drive/My Drive/history_lstm.pkl\", \"w\"))\n",
        "print(\"--- %s seconds ---\" % (time.time() - start_time))"
      ],
      "execution_count": 46,
      "outputs": [
        {
          "output_type": "stream",
          "text": [
            "Epoch 1/40\n",
            "1170/1170 [==============================] - 311s 266ms/step - loss: 1575834.2500 - acc: 0.9573 - f_score: 0.9574 - TP_bkg: 0.3202 - TN_bkg: 0.6541 - FP_bkg: 0.0125 - FN_bkg: 0.0131 - TP_alert: 0.3199 - TN_alert: 0.6533 - FP_alert: 0.0134 - FN_alert: 0.0134 - TP_fall: 0.3222 - TN_fall: 0.6558 - FP_fall: 0.0108 - FN_fall: 0.0111 - val_loss: 0.1556 - val_acc: 0.9608 - val_f_score: 0.9609 - val_TP_bkg: 0.3208 - val_TN_bkg: 0.6553 - val_FP_bkg: 0.0114 - val_FN_bkg: 0.0125 - val_TP_alert: 0.3197 - val_TN_alert: 0.6530 - val_FP_alert: 0.0137 - val_FN_alert: 0.0137 - val_TP_fall: 0.3185 - val_TN_fall: 0.6519 - val_FP_fall: 0.0148 - val_FN_fall: 0.0148\n",
            "Epoch 2/40\n",
            "1170/1170 [==============================] - 310s 265ms/step - loss: 0.1410 - acc: 0.9633 - f_score: 0.9636 - TP_bkg: 0.3191 - TN_bkg: 0.6547 - FP_bkg: 0.0120 - FN_bkg: 0.0142 - TP_alert: 0.3219 - TN_alert: 0.6567 - FP_alert: 0.0100 - FN_alert: 0.0114 - TP_fall: 0.3194 - TN_fall: 0.6533 - FP_fall: 0.0134 - FN_fall: 0.0140 - val_loss: 0.1315 - val_acc: 0.9607 - val_f_score: 0.9608 - val_TP_bkg: 0.3220 - val_TN_bkg: 0.6553 - val_FP_bkg: 0.0114 - val_FN_bkg: 0.0114 - val_TP_alert: 0.3197 - val_TN_alert: 0.6530 - val_FP_alert: 0.0137 - val_FN_alert: 0.0137 - val_TP_fall: 0.3174 - val_TN_fall: 0.6519 - val_FP_fall: 0.0148 - val_FN_fall: 0.0159\n",
            "Epoch 3/40\n",
            "1170/1170 [==============================] - 312s 267ms/step - loss: 0.1269 - acc: 0.9663 - f_score: 0.9665 - TP_bkg: 0.3199 - TN_bkg: 0.6553 - FP_bkg: 0.0114 - FN_bkg: 0.0134 - TP_alert: 0.3214 - TN_alert: 0.6561 - FP_alert: 0.0105 - FN_alert: 0.0120 - TP_fall: 0.3180 - TN_fall: 0.6521 - FP_fall: 0.0145 - FN_fall: 0.0154 - val_loss: 0.1600 - val_acc: 0.9551 - val_f_score: 0.9552 - val_TP_bkg: 0.3197 - val_TN_bkg: 0.6530 - val_FP_bkg: 0.0137 - val_FN_bkg: 0.0137 - val_TP_alert: 0.3197 - val_TN_alert: 0.6530 - val_FP_alert: 0.0137 - val_FN_alert: 0.0137 - val_TP_fall: 0.3174 - val_TN_fall: 0.6507 - val_FP_fall: 0.0159 - val_FN_fall: 0.0159\n",
            "Epoch 4/40\n",
            "1170/1170 [==============================] - 310s 265ms/step - loss: 0.1248 - acc: 0.9669 - f_score: 0.9670 - TP_bkg: 0.3194 - TN_bkg: 0.6550 - FP_bkg: 0.0117 - FN_bkg: 0.0140 - TP_alert: 0.3225 - TN_alert: 0.6573 - FP_alert: 0.0094 - FN_alert: 0.0108 - TP_fall: 0.3199 - TN_fall: 0.6550 - FP_fall: 0.0117 - FN_fall: 0.0134 - val_loss: 0.1605 - val_acc: 0.9561 - val_f_score: 0.9562 - val_TP_bkg: 0.3208 - val_TN_bkg: 0.6542 - val_FP_bkg: 0.0125 - val_FN_bkg: 0.0125 - val_TP_alert: 0.3197 - val_TN_alert: 0.6530 - val_FP_alert: 0.0137 - val_FN_alert: 0.0137 - val_TP_fall: 0.3174 - val_TN_fall: 0.6507 - val_FP_fall: 0.0159 - val_FN_fall: 0.0159\n",
            "Epoch 5/40\n",
            " 304/1170 [======>.......................] - ETA: 3:45 - loss: 0.1120 - acc: 0.9707 - f_score: 0.9710 - TP_bkg: 0.3191 - TN_bkg: 0.6535 - FP_bkg: 0.0132 - FN_bkg: 0.0143 - TP_alert: 0.3191 - TN_alert: 0.6546 - FP_alert: 0.0121 - FN_alert: 0.0143 - TP_fall: 0.3180 - TN_fall: 0.6524 - FP_fall: 0.0143 - FN_fall: 0.0154"
          ],
          "name": "stdout"
        },
        {
          "output_type": "error",
          "ename": "KeyboardInterrupt",
          "evalue": "ignored",
          "traceback": [
            "\u001b[0;31m---------------------------------------------------------------------------\u001b[0m",
            "\u001b[0;31mKeyboardInterrupt\u001b[0m                         Traceback (most recent call last)",
            "\u001b[0;32m<ipython-input-46-b36fc24f727b>\u001b[0m in \u001b[0;36m<module>\u001b[0;34m()\u001b[0m\n\u001b[1;32m     16\u001b[0m                       \u001b[0mcallbacks\u001b[0m\u001b[0;34m=\u001b[0m\u001b[0mcallbacks_list\u001b[0m\u001b[0;34m,\u001b[0m\u001b[0;34m\u001b[0m\u001b[0;34m\u001b[0m\u001b[0m\n\u001b[1;32m     17\u001b[0m                       \u001b[0mvalidation_split\u001b[0m\u001b[0;34m=\u001b[0m\u001b[0;36m0.2\u001b[0m\u001b[0;34m,\u001b[0m\u001b[0;34m\u001b[0m\u001b[0;34m\u001b[0m\u001b[0m\n\u001b[0;32m---> 18\u001b[0;31m                       verbose=1)\n\u001b[0m\u001b[1;32m     19\u001b[0m \u001b[0;34m\u001b[0m\u001b[0m\n\u001b[1;32m     20\u001b[0m \u001b[0mjson\u001b[0m\u001b[0;34m.\u001b[0m\u001b[0mdump\u001b[0m\u001b[0;34m(\u001b[0m\u001b[0mhistory\u001b[0m\u001b[0;34m.\u001b[0m\u001b[0mhistory\u001b[0m\u001b[0;34m,\u001b[0m \u001b[0mopen\u001b[0m\u001b[0;34m(\u001b[0m\u001b[0;34m\"./drive/My Drive/history_lstm.pkl\"\u001b[0m\u001b[0;34m,\u001b[0m \u001b[0;34m\"w\"\u001b[0m\u001b[0;34m)\u001b[0m\u001b[0;34m)\u001b[0m\u001b[0;34m\u001b[0m\u001b[0;34m\u001b[0m\u001b[0m\n",
            "\u001b[0;32m/usr/local/lib/python3.6/dist-packages/tensorflow/python/keras/engine/training.py\u001b[0m in \u001b[0;36m_method_wrapper\u001b[0;34m(self, *args, **kwargs)\u001b[0m\n\u001b[1;32m    106\u001b[0m   \u001b[0;32mdef\u001b[0m \u001b[0m_method_wrapper\u001b[0m\u001b[0;34m(\u001b[0m\u001b[0mself\u001b[0m\u001b[0;34m,\u001b[0m \u001b[0;34m*\u001b[0m\u001b[0margs\u001b[0m\u001b[0;34m,\u001b[0m \u001b[0;34m**\u001b[0m\u001b[0mkwargs\u001b[0m\u001b[0;34m)\u001b[0m\u001b[0;34m:\u001b[0m\u001b[0;34m\u001b[0m\u001b[0;34m\u001b[0m\u001b[0m\n\u001b[1;32m    107\u001b[0m     \u001b[0;32mif\u001b[0m \u001b[0;32mnot\u001b[0m \u001b[0mself\u001b[0m\u001b[0;34m.\u001b[0m\u001b[0m_in_multi_worker_mode\u001b[0m\u001b[0;34m(\u001b[0m\u001b[0;34m)\u001b[0m\u001b[0;34m:\u001b[0m  \u001b[0;31m# pylint: disable=protected-access\u001b[0m\u001b[0;34m\u001b[0m\u001b[0;34m\u001b[0m\u001b[0m\n\u001b[0;32m--> 108\u001b[0;31m       \u001b[0;32mreturn\u001b[0m \u001b[0mmethod\u001b[0m\u001b[0;34m(\u001b[0m\u001b[0mself\u001b[0m\u001b[0;34m,\u001b[0m \u001b[0;34m*\u001b[0m\u001b[0margs\u001b[0m\u001b[0;34m,\u001b[0m \u001b[0;34m**\u001b[0m\u001b[0mkwargs\u001b[0m\u001b[0;34m)\u001b[0m\u001b[0;34m\u001b[0m\u001b[0;34m\u001b[0m\u001b[0m\n\u001b[0m\u001b[1;32m    109\u001b[0m \u001b[0;34m\u001b[0m\u001b[0m\n\u001b[1;32m    110\u001b[0m     \u001b[0;31m# Running inside `run_distribute_coordinator` already.\u001b[0m\u001b[0;34m\u001b[0m\u001b[0;34m\u001b[0m\u001b[0;34m\u001b[0m\u001b[0m\n",
            "\u001b[0;32m/usr/local/lib/python3.6/dist-packages/tensorflow/python/keras/engine/training.py\u001b[0m in \u001b[0;36mfit\u001b[0;34m(self, x, y, batch_size, epochs, verbose, callbacks, validation_split, validation_data, shuffle, class_weight, sample_weight, initial_epoch, steps_per_epoch, validation_steps, validation_batch_size, validation_freq, max_queue_size, workers, use_multiprocessing)\u001b[0m\n\u001b[1;32m   1096\u001b[0m                 batch_size=batch_size):\n\u001b[1;32m   1097\u001b[0m               \u001b[0mcallbacks\u001b[0m\u001b[0;34m.\u001b[0m\u001b[0mon_train_batch_begin\u001b[0m\u001b[0;34m(\u001b[0m\u001b[0mstep\u001b[0m\u001b[0;34m)\u001b[0m\u001b[0;34m\u001b[0m\u001b[0;34m\u001b[0m\u001b[0m\n\u001b[0;32m-> 1098\u001b[0;31m               \u001b[0mtmp_logs\u001b[0m \u001b[0;34m=\u001b[0m \u001b[0mtrain_function\u001b[0m\u001b[0;34m(\u001b[0m\u001b[0miterator\u001b[0m\u001b[0;34m)\u001b[0m\u001b[0;34m\u001b[0m\u001b[0;34m\u001b[0m\u001b[0m\n\u001b[0m\u001b[1;32m   1099\u001b[0m               \u001b[0;32mif\u001b[0m \u001b[0mdata_handler\u001b[0m\u001b[0;34m.\u001b[0m\u001b[0mshould_sync\u001b[0m\u001b[0;34m:\u001b[0m\u001b[0;34m\u001b[0m\u001b[0;34m\u001b[0m\u001b[0m\n\u001b[1;32m   1100\u001b[0m                 \u001b[0mcontext\u001b[0m\u001b[0;34m.\u001b[0m\u001b[0masync_wait\u001b[0m\u001b[0;34m(\u001b[0m\u001b[0;34m)\u001b[0m\u001b[0;34m\u001b[0m\u001b[0;34m\u001b[0m\u001b[0m\n",
            "\u001b[0;32m/usr/local/lib/python3.6/dist-packages/tensorflow/python/eager/def_function.py\u001b[0m in \u001b[0;36m__call__\u001b[0;34m(self, *args, **kwds)\u001b[0m\n\u001b[1;32m    778\u001b[0m       \u001b[0;32melse\u001b[0m\u001b[0;34m:\u001b[0m\u001b[0;34m\u001b[0m\u001b[0;34m\u001b[0m\u001b[0m\n\u001b[1;32m    779\u001b[0m         \u001b[0mcompiler\u001b[0m \u001b[0;34m=\u001b[0m \u001b[0;34m\"nonXla\"\u001b[0m\u001b[0;34m\u001b[0m\u001b[0;34m\u001b[0m\u001b[0m\n\u001b[0;32m--> 780\u001b[0;31m         \u001b[0mresult\u001b[0m \u001b[0;34m=\u001b[0m \u001b[0mself\u001b[0m\u001b[0;34m.\u001b[0m\u001b[0m_call\u001b[0m\u001b[0;34m(\u001b[0m\u001b[0;34m*\u001b[0m\u001b[0margs\u001b[0m\u001b[0;34m,\u001b[0m \u001b[0;34m**\u001b[0m\u001b[0mkwds\u001b[0m\u001b[0;34m)\u001b[0m\u001b[0;34m\u001b[0m\u001b[0;34m\u001b[0m\u001b[0m\n\u001b[0m\u001b[1;32m    781\u001b[0m \u001b[0;34m\u001b[0m\u001b[0m\n\u001b[1;32m    782\u001b[0m       \u001b[0mnew_tracing_count\u001b[0m \u001b[0;34m=\u001b[0m \u001b[0mself\u001b[0m\u001b[0;34m.\u001b[0m\u001b[0m_get_tracing_count\u001b[0m\u001b[0;34m(\u001b[0m\u001b[0;34m)\u001b[0m\u001b[0;34m\u001b[0m\u001b[0;34m\u001b[0m\u001b[0m\n",
            "\u001b[0;32m/usr/local/lib/python3.6/dist-packages/tensorflow/python/eager/def_function.py\u001b[0m in \u001b[0;36m_call\u001b[0;34m(self, *args, **kwds)\u001b[0m\n\u001b[1;32m    805\u001b[0m       \u001b[0;31m# In this case we have created variables on the first call, so we run the\u001b[0m\u001b[0;34m\u001b[0m\u001b[0;34m\u001b[0m\u001b[0;34m\u001b[0m\u001b[0m\n\u001b[1;32m    806\u001b[0m       \u001b[0;31m# defunned version which is guaranteed to never create variables.\u001b[0m\u001b[0;34m\u001b[0m\u001b[0;34m\u001b[0m\u001b[0;34m\u001b[0m\u001b[0m\n\u001b[0;32m--> 807\u001b[0;31m       \u001b[0;32mreturn\u001b[0m \u001b[0mself\u001b[0m\u001b[0;34m.\u001b[0m\u001b[0m_stateless_fn\u001b[0m\u001b[0;34m(\u001b[0m\u001b[0;34m*\u001b[0m\u001b[0margs\u001b[0m\u001b[0;34m,\u001b[0m \u001b[0;34m**\u001b[0m\u001b[0mkwds\u001b[0m\u001b[0;34m)\u001b[0m  \u001b[0;31m# pylint: disable=not-callable\u001b[0m\u001b[0;34m\u001b[0m\u001b[0;34m\u001b[0m\u001b[0m\n\u001b[0m\u001b[1;32m    808\u001b[0m     \u001b[0;32melif\u001b[0m \u001b[0mself\u001b[0m\u001b[0;34m.\u001b[0m\u001b[0m_stateful_fn\u001b[0m \u001b[0;32mis\u001b[0m \u001b[0;32mnot\u001b[0m \u001b[0;32mNone\u001b[0m\u001b[0;34m:\u001b[0m\u001b[0;34m\u001b[0m\u001b[0;34m\u001b[0m\u001b[0m\n\u001b[1;32m    809\u001b[0m       \u001b[0;31m# Release the lock early so that multiple threads can perform the call\u001b[0m\u001b[0;34m\u001b[0m\u001b[0;34m\u001b[0m\u001b[0;34m\u001b[0m\u001b[0m\n",
            "\u001b[0;32m/usr/local/lib/python3.6/dist-packages/tensorflow/python/eager/function.py\u001b[0m in \u001b[0;36m__call__\u001b[0;34m(self, *args, **kwargs)\u001b[0m\n\u001b[1;32m   2827\u001b[0m     \u001b[0;32mwith\u001b[0m \u001b[0mself\u001b[0m\u001b[0;34m.\u001b[0m\u001b[0m_lock\u001b[0m\u001b[0;34m:\u001b[0m\u001b[0;34m\u001b[0m\u001b[0;34m\u001b[0m\u001b[0m\n\u001b[1;32m   2828\u001b[0m       \u001b[0mgraph_function\u001b[0m\u001b[0;34m,\u001b[0m \u001b[0margs\u001b[0m\u001b[0;34m,\u001b[0m \u001b[0mkwargs\u001b[0m \u001b[0;34m=\u001b[0m \u001b[0mself\u001b[0m\u001b[0;34m.\u001b[0m\u001b[0m_maybe_define_function\u001b[0m\u001b[0;34m(\u001b[0m\u001b[0margs\u001b[0m\u001b[0;34m,\u001b[0m \u001b[0mkwargs\u001b[0m\u001b[0;34m)\u001b[0m\u001b[0;34m\u001b[0m\u001b[0;34m\u001b[0m\u001b[0m\n\u001b[0;32m-> 2829\u001b[0;31m     \u001b[0;32mreturn\u001b[0m \u001b[0mgraph_function\u001b[0m\u001b[0;34m.\u001b[0m\u001b[0m_filtered_call\u001b[0m\u001b[0;34m(\u001b[0m\u001b[0margs\u001b[0m\u001b[0;34m,\u001b[0m \u001b[0mkwargs\u001b[0m\u001b[0;34m)\u001b[0m  \u001b[0;31m# pylint: disable=protected-access\u001b[0m\u001b[0;34m\u001b[0m\u001b[0;34m\u001b[0m\u001b[0m\n\u001b[0m\u001b[1;32m   2830\u001b[0m \u001b[0;34m\u001b[0m\u001b[0m\n\u001b[1;32m   2831\u001b[0m   \u001b[0;34m@\u001b[0m\u001b[0mproperty\u001b[0m\u001b[0;34m\u001b[0m\u001b[0;34m\u001b[0m\u001b[0m\n",
            "\u001b[0;32m/usr/local/lib/python3.6/dist-packages/tensorflow/python/eager/function.py\u001b[0m in \u001b[0;36m_filtered_call\u001b[0;34m(self, args, kwargs, cancellation_manager)\u001b[0m\n\u001b[1;32m   1846\u001b[0m                            resource_variable_ops.BaseResourceVariable))],\n\u001b[1;32m   1847\u001b[0m         \u001b[0mcaptured_inputs\u001b[0m\u001b[0;34m=\u001b[0m\u001b[0mself\u001b[0m\u001b[0;34m.\u001b[0m\u001b[0mcaptured_inputs\u001b[0m\u001b[0;34m,\u001b[0m\u001b[0;34m\u001b[0m\u001b[0;34m\u001b[0m\u001b[0m\n\u001b[0;32m-> 1848\u001b[0;31m         cancellation_manager=cancellation_manager)\n\u001b[0m\u001b[1;32m   1849\u001b[0m \u001b[0;34m\u001b[0m\u001b[0m\n\u001b[1;32m   1850\u001b[0m   \u001b[0;32mdef\u001b[0m \u001b[0m_call_flat\u001b[0m\u001b[0;34m(\u001b[0m\u001b[0mself\u001b[0m\u001b[0;34m,\u001b[0m \u001b[0margs\u001b[0m\u001b[0;34m,\u001b[0m \u001b[0mcaptured_inputs\u001b[0m\u001b[0;34m,\u001b[0m \u001b[0mcancellation_manager\u001b[0m\u001b[0;34m=\u001b[0m\u001b[0;32mNone\u001b[0m\u001b[0;34m)\u001b[0m\u001b[0;34m:\u001b[0m\u001b[0;34m\u001b[0m\u001b[0;34m\u001b[0m\u001b[0m\n",
            "\u001b[0;32m/usr/local/lib/python3.6/dist-packages/tensorflow/python/eager/function.py\u001b[0m in \u001b[0;36m_call_flat\u001b[0;34m(self, args, captured_inputs, cancellation_manager)\u001b[0m\n\u001b[1;32m   1922\u001b[0m       \u001b[0;31m# No tape is watching; skip to running the function.\u001b[0m\u001b[0;34m\u001b[0m\u001b[0;34m\u001b[0m\u001b[0;34m\u001b[0m\u001b[0m\n\u001b[1;32m   1923\u001b[0m       return self._build_call_outputs(self._inference_function.call(\n\u001b[0;32m-> 1924\u001b[0;31m           ctx, args, cancellation_manager=cancellation_manager))\n\u001b[0m\u001b[1;32m   1925\u001b[0m     forward_backward = self._select_forward_and_backward_functions(\n\u001b[1;32m   1926\u001b[0m         \u001b[0margs\u001b[0m\u001b[0;34m,\u001b[0m\u001b[0;34m\u001b[0m\u001b[0;34m\u001b[0m\u001b[0m\n",
            "\u001b[0;32m/usr/local/lib/python3.6/dist-packages/tensorflow/python/eager/function.py\u001b[0m in \u001b[0;36mcall\u001b[0;34m(self, ctx, args, cancellation_manager)\u001b[0m\n\u001b[1;32m    548\u001b[0m               \u001b[0minputs\u001b[0m\u001b[0;34m=\u001b[0m\u001b[0margs\u001b[0m\u001b[0;34m,\u001b[0m\u001b[0;34m\u001b[0m\u001b[0;34m\u001b[0m\u001b[0m\n\u001b[1;32m    549\u001b[0m               \u001b[0mattrs\u001b[0m\u001b[0;34m=\u001b[0m\u001b[0mattrs\u001b[0m\u001b[0;34m,\u001b[0m\u001b[0;34m\u001b[0m\u001b[0;34m\u001b[0m\u001b[0m\n\u001b[0;32m--> 550\u001b[0;31m               ctx=ctx)\n\u001b[0m\u001b[1;32m    551\u001b[0m         \u001b[0;32melse\u001b[0m\u001b[0;34m:\u001b[0m\u001b[0;34m\u001b[0m\u001b[0;34m\u001b[0m\u001b[0m\n\u001b[1;32m    552\u001b[0m           outputs = execute.execute_with_cancellation(\n",
            "\u001b[0;32m/usr/local/lib/python3.6/dist-packages/tensorflow/python/eager/execute.py\u001b[0m in \u001b[0;36mquick_execute\u001b[0;34m(op_name, num_outputs, inputs, attrs, ctx, name)\u001b[0m\n\u001b[1;32m     58\u001b[0m     \u001b[0mctx\u001b[0m\u001b[0;34m.\u001b[0m\u001b[0mensure_initialized\u001b[0m\u001b[0;34m(\u001b[0m\u001b[0;34m)\u001b[0m\u001b[0;34m\u001b[0m\u001b[0;34m\u001b[0m\u001b[0m\n\u001b[1;32m     59\u001b[0m     tensors = pywrap_tfe.TFE_Py_Execute(ctx._handle, device_name, op_name,\n\u001b[0;32m---> 60\u001b[0;31m                                         inputs, attrs, num_outputs)\n\u001b[0m\u001b[1;32m     61\u001b[0m   \u001b[0;32mexcept\u001b[0m \u001b[0mcore\u001b[0m\u001b[0;34m.\u001b[0m\u001b[0m_NotOkStatusException\u001b[0m \u001b[0;32mas\u001b[0m \u001b[0me\u001b[0m\u001b[0;34m:\u001b[0m\u001b[0;34m\u001b[0m\u001b[0;34m\u001b[0m\u001b[0m\n\u001b[1;32m     62\u001b[0m     \u001b[0;32mif\u001b[0m \u001b[0mname\u001b[0m \u001b[0;32mis\u001b[0m \u001b[0;32mnot\u001b[0m \u001b[0;32mNone\u001b[0m\u001b[0;34m:\u001b[0m\u001b[0;34m\u001b[0m\u001b[0;34m\u001b[0m\u001b[0m\n",
            "\u001b[0;31mKeyboardInterrupt\u001b[0m: "
          ]
        }
      ]
    },
    {
      "cell_type": "markdown",
      "metadata": {
        "id": "kWmbbM1M6HWm"
      },
      "source": [
        "# **ConvLSTM**"
      ]
    },
    {
      "cell_type": "code",
      "metadata": {
        "id": "Ngma-RBG6c_d",
        "outputId": "01adb99b-2663-4aa9-e5c1-e7c8fb96cf37",
        "colab": {
          "base_uri": "https://localhost:8080/",
          "height": 672
        }
      },
      "source": [
        "model_m = keras.Sequential()\n",
        "model_m.add(Conv1D(filters=64, kernel_size=3, activation='relu', input_shape=(num_time_periods, num_sensors)))\n",
        "model_m.add(MaxPooling1D(2))\n",
        "model_m.add(Conv1D(filters=64, kernel_size=3, activation='relu'))\n",
        "model_m.add(MaxPooling1D(2))\n",
        "model_m.add(Conv1D(filters=64, kernel_size=3, activation='relu'))\n",
        "model_m.add(MaxPooling1D(2))\n",
        "model_m.add(Conv1D(filters=64, kernel_size=3, activation='relu'))\n",
        "model_m.add(MaxPooling1D(2))\n",
        "model_m.add(LSTM(32, activation='relu', return_sequences=True))\n",
        "model_m.add(Dropout(0.5))\n",
        "model_m.add(LSTM(32, activation='relu'))\n",
        "model_m.add(Dropout(0.5))\n",
        "model_m.add(Dense(512))\n",
        "model_m.add(Dense(num_classes, activation='softmax'))\n",
        "model_m.summary()"
      ],
      "execution_count": 68,
      "outputs": [
        {
          "output_type": "stream",
          "text": [
            "Model: \"sequential_13\"\n",
            "_________________________________________________________________\n",
            "Layer (type)                 Output Shape              Param #   \n",
            "=================================================================\n",
            "conv1d_12 (Conv1D)           (None, 254, 64)           1792      \n",
            "_________________________________________________________________\n",
            "max_pooling1d (MaxPooling1D) (None, 127, 64)           0         \n",
            "_________________________________________________________________\n",
            "conv1d_13 (Conv1D)           (None, 125, 64)           12352     \n",
            "_________________________________________________________________\n",
            "max_pooling1d_1 (MaxPooling1 (None, 62, 64)            0         \n",
            "_________________________________________________________________\n",
            "conv1d_14 (Conv1D)           (None, 60, 64)            12352     \n",
            "_________________________________________________________________\n",
            "max_pooling1d_2 (MaxPooling1 (None, 30, 64)            0         \n",
            "_________________________________________________________________\n",
            "conv1d_15 (Conv1D)           (None, 28, 64)            12352     \n",
            "_________________________________________________________________\n",
            "max_pooling1d_3 (MaxPooling1 (None, 14, 64)            0         \n",
            "_________________________________________________________________\n",
            "lstm_20 (LSTM)               (None, 14, 32)            12416     \n",
            "_________________________________________________________________\n",
            "dropout_20 (Dropout)         (None, 14, 32)            0         \n",
            "_________________________________________________________________\n",
            "lstm_21 (LSTM)               (None, 32)                8320      \n",
            "_________________________________________________________________\n",
            "dropout_21 (Dropout)         (None, 32)                0         \n",
            "_________________________________________________________________\n",
            "dense_29 (Dense)             (None, 512)               16896     \n",
            "_________________________________________________________________\n",
            "dense_30 (Dense)             (None, 3)                 1539      \n",
            "=================================================================\n",
            "Total params: 78,019\n",
            "Trainable params: 78,019\n",
            "Non-trainable params: 0\n",
            "_________________________________________________________________\n"
          ],
          "name": "stdout"
        }
      ]
    },
    {
      "cell_type": "code",
      "metadata": {
        "id": "C_qKTrDU6dE5",
        "outputId": "038e3537-5875-4aca-e313-22d2a6871cd5",
        "colab": {
          "base_uri": "https://localhost:8080/",
          "height": 74
        }
      },
      "source": [
        "start_time = time.time()\n",
        "callbacks_list = [keras.callbacks.ModelCheckpoint(filepath='./drive/My Drive/convlstm_best_model.h5',\n",
        "                                                  monitor='val_loss', save_best_only=True)]#keras.callbacks.EarlyStopping(monitor='acc', patience=1)]\n",
        "\n",
        "optimizer = keras.optimizers.Adam(clipvalue=0.5)\n",
        "model_m.compile(loss='categorical_crossentropy',\n",
        "                optimizer=optimizer, metrics=['acc',f_score,TP_bkg,TN_bkg,FP_bkg,FN_bkg,TP_alert,TN_alert,FP_alert,FN_alert,TP_fall,TN_fall,FP_fall,FN_fall])    # accuracy\n",
        "\n",
        "BATCH_SIZE = 64\n",
        "EPOCHS = 100\n",
        "\n",
        "history = model_m.fit(X_train,\n",
        "                      y_train,\n",
        "                      batch_size=BATCH_SIZE,\n",
        "                      epochs=EPOCHS,\n",
        "                      callbacks=callbacks_list,\n",
        "                      validation_split=0.2,\n",
        "                      verbose=1)\n",
        "\n",
        "json.dump(history.history, open(\"./drive/My Drive/history_covnlstm.pkl\", \"w\"))\n",
        "print(\"--- %s seconds ---\" % (time.time() - start_time))"
      ],
      "execution_count": null,
      "outputs": [
        {
          "output_type": "stream",
          "text": [
            "Epoch 1/100\n",
            " 719/1170 [=================>............] - ETA: 31s - loss: 0.0622 - acc: 0.9807 - f_score: 0.9810 - TP_bkg: 0.3255 - TN_bkg: 0.6611 - FP_bkg: 0.0056 - FN_bkg: 0.0079 - TP_alert: 0.3250 - TN_alert: 0.6597 - FP_alert: 0.0070 - FN_alert: 0.0083 - TP_fall: 0.3268 - TN_fall: 0.6611 - FP_fall: 0.0056 - FN_fall: 0.0065"
          ],
          "name": "stdout"
        }
      ]
    },
    {
      "cell_type": "markdown",
      "metadata": {
        "id": "2MpmeBxc-k4r"
      },
      "source": [
        "# **Show result**"
      ]
    },
    {
      "cell_type": "code",
      "metadata": {
        "id": "ZqM5wITpRXZo"
      },
      "source": [
        "model_m = keras.models.load_model(\"./drive/My Drive/lstm_best_model.h5\",\n",
        "                                  custom_objects={\"f_score\":f_score,\"TP_bkg\":TP_bkg,\"TN_bkg\":TN_bkg,\n",
        "                                  \"FP_bkg\":FP_bkg,\"FN_bkg\":FN_bkg,\"TP_alert\":TP_alert,\n",
        "                                  \"TN_alert\":TN_alert,\"FP_alert\":FP_alert,\"FN_alert\":FN_alert,\n",
        "                                  \"TP_fall\":TP_fall,\"TN_fall\":TN_fall,\"FP_fall\":FP_fall,\"FN_fall\":FN_fall})                                  "
      ],
      "execution_count": 47,
      "outputs": []
    },
    {
      "cell_type": "code",
      "metadata": {
        "id": "2PqTV-W5BeNJ"
      },
      "source": [
        "history_dict = json.load(open(\"./drive/My Drive/history.pkl\", 'r'))"
      ],
      "execution_count": null,
      "outputs": []
    },
    {
      "cell_type": "code",
      "metadata": {
        "id": "UWdmnT0XGlCa",
        "outputId": "117f5815-1eae-40c2-a29d-f8e43a476d0b",
        "colab": {
          "base_uri": "https://localhost:8080/",
          "height": 302
        }
      },
      "source": [
        "def accurace(tp,tn,fp,fn):\n",
        "  return (np.array(tp)+ np.array(tn)) / (np.array(tp)+np.array(tn)+np.array(fn)+np.array(fp))\n",
        "acc_bkg = accurace(history_dict['TP_bkg'] ,history_dict['TN_bkg'] ,history_dict['FP_bkg'] ,history_dict['FN_bkg'] )\n",
        "acc_alert = accurace(history_dict['TP_alert'] ,history_dict['TN_alert'] ,history_dict['FP_alert'] ,history_dict['FN_alert'])\n",
        "acc_fall = accurace(history_dict['TP_fall'] ,history_dict['TN_fall'] ,history_dict['FP_fall'] ,history_dict['FN_fall'] )\n",
        "plt.plot(acc_bkg)\n",
        "plt.plot(acc_alert)\n",
        "plt.plot(acc_fall)\n",
        "plt.title('acc')\n",
        "plt.ylabel('acc')\n",
        "plt.xlabel('epoch')\n",
        "plt.legend(['bkg', 'alert','fall'], loc='upper left')\n",
        "plt.show()"
      ],
      "execution_count": null,
      "outputs": [
        {
          "output_type": "display_data",
          "data": {
            "image/png": "[encoded data removed]",
            "text/plain": [
              "<Figure size 432x288 with 1 Axes>"
            ]
          },
          "metadata": {
            "tags": []
          }
        }
      ]
    },
    {
      "cell_type": "code",
      "metadata": {
        "id": "-GhOQzZOdD6M",
        "outputId": "16d03ab0-9917-43cf-9a4a-74f4114e4512",
        "colab": {
          "base_uri": "https://localhost:8080/",
          "height": 371
        }
      },
      "source": [
        "def sensitivity(tp,tn,fp,fn):\n",
        "  return np.array(tp) / (np.array(tp)+np.array(fn)) * 100\n",
        "sen_bkg = sensitivity(history_dict['TP_bkg'] ,history_dict['TN_bkg'] ,history_dict['FP_bkg'] ,history_dict['FN_bkg'] )\n",
        "print(f'sensivity bkg : {sen_bkg[-1]}')\n",
        "sen_alert = sensitivity(history_dict['TP_alert'] ,history_dict['TN_alert'] ,history_dict['FP_alert'] ,history_dict['FN_alert'])\n",
        "print(f'sensivity alert : {sen_alert[-1]}')\n",
        "sen_fall = sensitivity(history_dict['TP_fall'] ,history_dict['TN_fall'] ,history_dict['FP_fall'] ,history_dict['FN_fall'] )\n",
        "print(f'sensivity fall : {sen_fall[-1]}')\n",
        "print(f'avg of sensivity : {(sen_bkg[-1] + sen_alert[-1]+ sen_fall[-1])/3}')\n",
        "plt.plot(sen_bkg,'bo')\n",
        "plt.plot(sen_alert,'go')\n",
        "plt.plot(sen_fall,'ro')\n",
        "plt.title('sensitivity')\n",
        "plt.ylabel('sensitivity')\n",
        "plt.xlabel('epoch')\n",
        "plt.legend(['bkg', 'alert','fall'], loc='upper left')\n",
        "plt.axis([0, 40, 0, 100])\n",
        "plt.show()"
      ],
      "execution_count": null,
      "outputs": [
        {
          "output_type": "stream",
          "text": [
            "sensivity bkg : 99.65812180229717\n",
            "sensivity alert : 99.82906091129749\n",
            "sensivity fall : 98.5470170646191\n",
            "avg of sensivity : 99.34473325940458\n"
          ],
          "name": "stdout"
        },
        {
          "output_type": "display_data",
          "data": {
            "image/png": "[encoded data removed]",
            "text/plain": [
              "<Figure size 432x288 with 1 Axes>"
            ]
          },
          "metadata": {
            "tags": []
          }
        }
      ]
    },
    {
      "cell_type": "code",
      "metadata": {
        "id": "m2mwfDRvPx5o",
        "outputId": "a897869d-16fe-48c0-94c4-ea9af70e73fa",
        "colab": {
          "base_uri": "https://localhost:8080/",
          "height": 371
        }
      },
      "source": [
        "def specificity(tp,tn,fp,fn):\n",
        "  return np.array(tn) / (np.array(tn)+np.array(fp)) * 100\n",
        "sep_bkg = specificity(history_dict['TP_bkg'] ,history_dict['TN_bkg'] ,history_dict['FP_bkg'] ,history_dict['FN_bkg'] )\n",
        "print(f'specificity bkg : {sen_bkg[-1]}')\n",
        "sep_alert = specificity(history_dict['TP_alert'] ,history_dict['TN_alert'] ,history_dict['FP_alert'] ,history_dict['FN_alert'])\n",
        "print(f'specificity alert : {sen_alert[-1]}')\n",
        "sep_fall = specificity(history_dict['TP_fall'] ,history_dict['TN_fall'] ,history_dict['FP_fall'] ,history_dict['FN_fall'] )\n",
        "print(f'specificity fall : {sen_fall[-1]}')\n",
        "print(f'avg of specificity : {(sep_bkg[-1] + sep_alert[-1]+ sep_fall[-1])/3}')\n",
        "plt.plot(sep_bkg,'bo')\n",
        "plt.plot(sep_alert,'go')\n",
        "plt.plot(sep_fall,'ro')\n",
        "plt.title('specificity')\n",
        "plt.ylabel('specificity')\n",
        "plt.xlabel('epoch')\n",
        "plt.legend(['bkg', 'alert','fall'], loc='upper left')\n",
        "plt.axis([0, 40, 0, 100])\n",
        "plt.show()"
      ],
      "execution_count": null,
      "outputs": [
        {
          "output_type": "stream",
          "text": [
            "specificity bkg : 99.65812180229717\n",
            "specificity alert : 99.82906091129749\n",
            "specificity fall : 98.5470170646191\n",
            "avg of specificity : 99.75783626123983\n"
          ],
          "name": "stdout"
        },
        {
          "output_type": "display_data",
          "data": {
            "image/png": "[encoded data removed]",
            "text/plain": [
              "<Figure size 432x288 with 1 Axes>"
            ]
          },
          "metadata": {
            "tags": []
          }
        }
      ]
    },
    {
      "cell_type": "code",
      "metadata": {
        "id": "ENGrKtrTmgM-"
      },
      "source": [
        "prep = model_m.predict(X_test)\n",
        "prep2 = prep.copy()"
      ],
      "execution_count": 48,
      "outputs": []
    },
    {
      "cell_type": "code",
      "metadata": {
        "id": "QKgYAeJJkaM7",
        "outputId": "d16b703d-04b5-41ba-9842-c70670db423b",
        "colab": {
          "base_uri": "https://localhost:8080/",
          "height": 90
        }
      },
      "source": [
        "prep3 = [i == max(i) for i in prep2]\n",
        "p = [i[0] for i in prep3]\n",
        "t = [i[0]==1 for i in y_test]\n",
        "bkgacc = (sum([p[i] == t[i] for i in range(0,len(p))]) / len(p)) * 100\n",
        "p = [i[1] for i in prep3]\n",
        "t = [i[1]==1 for i in y_test]\n",
        "alartacc = (sum([p[i] == t[i] for i in range(0,len(p))]) / len(p)) * 100\n",
        "p = [i[2] for i in prep3]\n",
        "t = [i[2]==1 for i in y_test]\n",
        "fallacc = (sum([p[i] == t[i] for i in range(0,len(p))]) / len(p)) * 100\n",
        "print(f'bkg acc: {bkgacc}')\n",
        "print(f'alart acc: {alartacc}')\n",
        "print(f'fall acc: {fallacc}')\n",
        "print(f'mean: {(bkgacc + alartacc + fallacc)/3}')"
      ],
      "execution_count": 51,
      "outputs": [
        {
          "output_type": "stream",
          "text": [
            "bkg acc: 96.13214804684162\n",
            "alart acc: 98.6964697837422\n",
            "fall acc: 97.41003504573041\n",
            "mean: 97.41288429210475\n"
          ],
          "name": "stdout"
        }
      ]
    },
    {
      "cell_type": "code",
      "metadata": {
        "id": "nQQlo8kTZZbz",
        "outputId": "f52b77f7-b3f4-4ebe-c0ed-5c3a0fffc23e",
        "colab": {
          "base_uri": "https://localhost:8080/",
          "height": 128
        }
      },
      "source": [
        "score = model_m.evaluate(X_test, y_test, verbose=2,batch_size=64)\n",
        "\n",
        "print(\"\\nAccuracy on test data: %0.4f\" % (score[1]*100))\n",
        "print(\"\\nLoss on test data: %0.4f\" % score[0])"
      ],
      "execution_count": 52,
      "outputs": [
        {
          "output_type": "stream",
          "text": [
            "366/366 - 19s - loss: 0.1348 - acc: 0.9612 - f_score: 0.9610 - TP_bkg: 0.3215 - TN_bkg: 0.6557 - FP_bkg: 0.0109 - FN_bkg: 0.0118 - TP_alert: 0.3279 - TN_alert: 0.6612 - FP_alert: 0.0055 - FN_alert: 0.0055 - TP_fall: 0.3179 - TN_fall: 0.6539 - FP_fall: 0.0128 - FN_fall: 0.0155\n",
            "\n",
            "Accuracy on test data: 96.1193\n",
            "\n",
            "Loss on test data: 0.1348\n"
          ],
          "name": "stdout"
        }
      ]
    },
    {
      "cell_type": "code",
      "metadata": {
        "id": "Rh2VDq_NZdK1"
      },
      "source": [
        "print(\"\\n--- Confusion matrix for test data ---\\n\")\n",
        "y_pred_test = model_m.predict(X_test_cnn)\n",
        "# Take the class with the highest probability from the test predictions\n",
        "max_y_pred_test = np.argmax(y_pred_test, axis=1)\n",
        "max_y_test = np.argmax(y_test_cnn_en, axis=1)\n",
        "\n",
        "show_confusion_matrix(max_y_test, max_y_pred_test)\n",
        "\n",
        "# %%\n",
        "\n",
        "print(\"\\n--- Classification report for test data ---\\n\")\n",
        "\n",
        "print(classification_report(max_y_test, max_y_pred_test))"
      ],
      "execution_count": null,
      "outputs": []
    },
    {
      "cell_type": "code",
      "metadata": {
        "id": "jCCXrWqc2czs"
      },
      "source": [
        ""
      ],
      "execution_count": null,
      "outputs": []
    }
  ]
}